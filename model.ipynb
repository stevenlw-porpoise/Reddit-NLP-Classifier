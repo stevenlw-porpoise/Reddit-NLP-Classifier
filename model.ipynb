{
 "cells": [
  {
   "cell_type": "code",
   "execution_count": 3,
   "metadata": {},
   "outputs": [],
   "source": [
    "import pandas as pd\n",
    "import numpy as np\n",
    "from sklearn.model_selection import train_test_split, GridSearchCV, RandomizedSearchCV\n",
    "from sklearn.feature_extraction.text import CountVectorizer, TfidfVectorizer\n",
    "from sklearn.linear_model import LogisticRegression, LogisticRegressionCV\n",
    "from sklearn.pipeline import Pipeline, make_pipeline\n",
    "from sklearn.metrics import ConfusionMatrixDisplay\n",
    "from sklearn.naive_bayes import MultinomialNB"
   ]
  },
  {
   "cell_type": "code",
   "execution_count": 4,
   "metadata": {},
   "outputs": [],
   "source": [
    "df = pd.read_csv('data/data_cleaned.csv')"
   ]
  },
  {
   "cell_type": "code",
   "execution_count": 5,
   "metadata": {},
   "outputs": [
    {
     "data": {
      "text/html": [
       "<div>\n",
       "<style scoped>\n",
       "    .dataframe tbody tr th:only-of-type {\n",
       "        vertical-align: middle;\n",
       "    }\n",
       "\n",
       "    .dataframe tbody tr th {\n",
       "        vertical-align: top;\n",
       "    }\n",
       "\n",
       "    .dataframe thead th {\n",
       "        text-align: right;\n",
       "    }\n",
       "</style>\n",
       "<table border=\"1\" class=\"dataframe\">\n",
       "  <thead>\n",
       "    <tr style=\"text-align: right;\">\n",
       "      <th></th>\n",
       "      <th>title</th>\n",
       "      <th>text</th>\n",
       "      <th>auth</th>\n",
       "      <th>time</th>\n",
       "      <th>subreddit</th>\n",
       "      <th>new_line_chars</th>\n",
       "      <th>space_chars</th>\n",
       "      <th>title_words</th>\n",
       "      <th>text_words</th>\n",
       "    </tr>\n",
       "  </thead>\n",
       "  <tbody>\n",
       "    <tr>\n",
       "      <th>0</th>\n",
       "      <td>the moths of time</td>\n",
       "      <td>the moths of time consume your image; everythi...</td>\n",
       "      <td>lizerdqweenchlo</td>\n",
       "      <td>1643240027</td>\n",
       "      <td>OCPoetry</td>\n",
       "      <td>22</td>\n",
       "      <td>134</td>\n",
       "      <td>4</td>\n",
       "      <td>138</td>\n",
       "    </tr>\n",
       "    <tr>\n",
       "      <th>1</th>\n",
       "      <td>Haunted Houses</td>\n",
       "      <td>Floorboards creak Under little kid feet As a n...</td>\n",
       "      <td>richardcrack</td>\n",
       "      <td>1643238939</td>\n",
       "      <td>OCPoetry</td>\n",
       "      <td>164</td>\n",
       "      <td>253</td>\n",
       "      <td>2</td>\n",
       "      <td>334</td>\n",
       "    </tr>\n",
       "    <tr>\n",
       "      <th>2</th>\n",
       "      <td>Forest of Eden</td>\n",
       "      <td>&amp;amp;#x200B; He could never quite find What ma...</td>\n",
       "      <td>mgmgmgmgm</td>\n",
       "      <td>1643237039</td>\n",
       "      <td>OCPoetry</td>\n",
       "      <td>42</td>\n",
       "      <td>69</td>\n",
       "      <td>3</td>\n",
       "      <td>79</td>\n",
       "    </tr>\n",
       "    <tr>\n",
       "      <th>3</th>\n",
       "      <td>The deepest fluctuation of creativity</td>\n",
       "      <td>With due regard at your behest I'll smear the ...</td>\n",
       "      <td>puredreadful</td>\n",
       "      <td>1643234027</td>\n",
       "      <td>OCPoetry</td>\n",
       "      <td>16</td>\n",
       "      <td>34</td>\n",
       "      <td>5</td>\n",
       "      <td>41</td>\n",
       "    </tr>\n",
       "    <tr>\n",
       "      <th>4</th>\n",
       "      <td>A Heart Divided</td>\n",
       "      <td>If I were two instead of just one, I could mak...</td>\n",
       "      <td>robbsmith711</td>\n",
       "      <td>1643233772</td>\n",
       "      <td>OCPoetry</td>\n",
       "      <td>21</td>\n",
       "      <td>328</td>\n",
       "      <td>3</td>\n",
       "      <td>337</td>\n",
       "    </tr>\n",
       "  </tbody>\n",
       "</table>\n",
       "</div>"
      ],
      "text/plain": [
       "                                   title  \\\n",
       "0                      the moths of time   \n",
       "1                         Haunted Houses   \n",
       "2                         Forest of Eden   \n",
       "3  The deepest fluctuation of creativity   \n",
       "4                        A Heart Divided   \n",
       "\n",
       "                                                text             auth  \\\n",
       "0  the moths of time consume your image; everythi...  lizerdqweenchlo   \n",
       "1  Floorboards creak Under little kid feet As a n...     richardcrack   \n",
       "2  &amp;#x200B; He could never quite find What ma...        mgmgmgmgm   \n",
       "3  With due regard at your behest I'll smear the ...     puredreadful   \n",
       "4  If I were two instead of just one, I could mak...     robbsmith711   \n",
       "\n",
       "         time subreddit  new_line_chars  space_chars  title_words  text_words  \n",
       "0  1643240027  OCPoetry              22          134            4         138  \n",
       "1  1643238939  OCPoetry             164          253            2         334  \n",
       "2  1643237039  OCPoetry              42           69            3          79  \n",
       "3  1643234027  OCPoetry              16           34            5          41  \n",
       "4  1643233772  OCPoetry              21          328            3         337  "
      ]
     },
     "execution_count": 5,
     "metadata": {},
     "output_type": "execute_result"
    }
   ],
   "source": [
    "df.head()"
   ]
  },
  {
   "cell_type": "markdown",
   "metadata": {},
   "source": [
    "### Text only models"
   ]
  },
  {
   "cell_type": "markdown",
   "metadata": {},
   "source": [
    "#### Model 1\n",
    "* Text only\n",
    "* Tfidf vectorizer\n",
    "* logistic regression"
   ]
  },
  {
   "cell_type": "code",
   "execution_count": 6,
   "metadata": {},
   "outputs": [],
   "source": [
    "X = df['text']\n",
    "y = df['subreddit']"
   ]
  },
  {
   "cell_type": "code",
   "execution_count": 7,
   "metadata": {},
   "outputs": [],
   "source": [
    "X_train, X_test, y_train, y_test = train_test_split(X, y)"
   ]
  },
  {
   "cell_type": "code",
   "execution_count": 8,
   "metadata": {},
   "outputs": [],
   "source": [
    "pipe1 = make_pipeline(\n",
    "    TfidfVectorizer(max_features = 1000),\n",
    "    LogisticRegression(max_iter = 10_000, solver = 'saga', warm_start = True)\n",
    ")"
   ]
  },
  {
   "cell_type": "code",
   "execution_count": 9,
   "metadata": {},
   "outputs": [],
   "source": [
    "def run_model(model):\n",
    "    model.fit(X_train, y_train)\n",
    "    print(f\"Training score: {model.score(X_train, y_train):.3f}\")\n",
    "    print(f\"Testing score: {model.score(X_test, y_test):.3f}\")"
   ]
  },
  {
   "cell_type": "code",
   "execution_count": 10,
   "metadata": {},
   "outputs": [],
   "source": [
    "def top_coefs_lr(lr_pipe):\n",
    "    lr_coefs = lr_pipe.named_steps['logisticregression'].coef_\n",
    "    features = lr_pipe.named_steps['tfidfvectorizer'].get_feature_names_out()\n",
    "    lr_coefs_series = pd.Series(lr_coefs[0], index = features)\n",
    "\n",
    "    print(\"=== Top features for OCPoetry ===\")\n",
    "    print(lr_coefs_series.sort_values().head(10))\n",
    "\n",
    "    print(\"=== Top features for shortscarystories ===\")\n",
    "    print(lr_coefs_series.sort_values().tail(10))"
   ]
  },
  {
   "cell_type": "code",
   "execution_count": 11,
   "metadata": {},
   "outputs": [
    {
     "name": "stdout",
     "output_type": "stream",
     "text": [
      "Training score: 0.928\n",
      "Testing score: 0.918\n"
     ]
    }
   ],
   "source": [
    "run_model(pipe1)"
   ]
  },
  {
   "cell_type": "code",
   "execution_count": 12,
   "metadata": {},
   "outputs": [
    {
     "name": "stdout",
     "output_type": "stream",
     "text": [
      "=== Top features for OCPoetry ===\n",
      "feedback   -11.724951\n",
      "poem        -9.241269\n",
      "poetry      -6.097608\n",
      "wrote       -4.341873\n",
      "heart       -4.295404\n",
      "tears       -3.688988\n",
      "like        -3.624248\n",
      "yet         -3.623374\n",
      "say         -3.468405\n",
      "sun         -3.282752\n",
      "dtype: float64\n",
      "=== Top features for shortscarystories ===\n",
      "them           3.639391\n",
      "killed         3.701553\n",
      "immediately    3.708712\n",
      "any            3.781644\n",
      "started        3.811578\n",
      "people         4.036952\n",
      "stories        4.070552\n",
      "had            4.167798\n",
      "was            5.121245\n",
      "horror         5.253520\n",
      "dtype: float64\n"
     ]
    }
   ],
   "source": [
    "top_coefs_lr(pipe1)"
   ]
  },
  {
   "cell_type": "markdown",
   "metadata": {},
   "source": [
    "We should add some stop words that make this task too easy by giving away the answer directly: poem / poetry and horror."
   ]
  },
  {
   "cell_type": "code",
   "execution_count": 13,
   "metadata": {},
   "outputs": [],
   "source": [
    "stop_words = ['poem', 'poetry', 'horror']"
   ]
  },
  {
   "cell_type": "code",
   "execution_count": 14,
   "metadata": {},
   "outputs": [],
   "source": [
    "pipe2 = make_pipeline(\n",
    "    TfidfVectorizer(max_features = 1000, stop_words=stop_words),\n",
    "    LogisticRegression(max_iter = 10_000, solver = 'saga', warm_start = True)\n",
    ")"
   ]
  },
  {
   "cell_type": "code",
   "execution_count": 15,
   "metadata": {},
   "outputs": [
    {
     "name": "stdout",
     "output_type": "stream",
     "text": [
      "Training score: 0.926\n",
      "Testing score: 0.916\n"
     ]
    }
   ],
   "source": [
    "run_model(pipe2)"
   ]
  },
  {
   "cell_type": "code",
   "execution_count": 16,
   "metadata": {},
   "outputs": [
    {
     "name": "stdout",
     "output_type": "stream",
     "text": [
      "=== Top features for OCPoetry ===\n",
      "feedback   -12.234946\n",
      "wrote       -5.398393\n",
      "heart       -4.329347\n",
      "tears       -3.743638\n",
      "like        -3.696180\n",
      "yet         -3.572906\n",
      "say         -3.449298\n",
      "sun         -3.276940\n",
      "love        -3.223296\n",
      "words       -3.192076\n",
      "dtype: float64\n",
      "=== Top features for shortscarystories ===\n",
      "killed         3.580922\n",
      "any            3.679735\n",
      "them           3.702238\n",
      "door           3.726862\n",
      "immediately    3.747294\n",
      "started        3.830573\n",
      "people         4.005491\n",
      "had            4.213359\n",
      "stories        4.629439\n",
      "was            5.195165\n",
      "dtype: float64\n"
     ]
    }
   ],
   "source": [
    "top_coefs_lr(pipe2)"
   ]
  },
  {
   "cell_type": "code",
   "execution_count": 17,
   "metadata": {},
   "outputs": [],
   "source": [
    "stop_words.append('feedback')"
   ]
  },
  {
   "cell_type": "code",
   "execution_count": 18,
   "metadata": {},
   "outputs": [],
   "source": [
    "pipe3 = make_pipeline(\n",
    "    TfidfVectorizer(max_features = 1000, stop_words=stop_words),\n",
    "    LogisticRegression(max_iter = 10_000, solver = 'saga', warm_start = True)\n",
    ")"
   ]
  },
  {
   "cell_type": "code",
   "execution_count": 19,
   "metadata": {},
   "outputs": [
    {
     "name": "stdout",
     "output_type": "stream",
     "text": [
      "Training score: 0.923\n",
      "Testing score: 0.913\n"
     ]
    }
   ],
   "source": [
    "run_model(pipe3)"
   ]
  },
  {
   "cell_type": "code",
   "execution_count": 20,
   "metadata": {},
   "outputs": [
    {
     "name": "stdout",
     "output_type": "stream",
     "text": [
      "=== Top features for OCPoetry ===\n",
      "wrote   -5.860394\n",
      "heart   -4.436735\n",
      "tears   -3.775466\n",
      "like    -3.746685\n",
      "yet     -3.617657\n",
      "love    -3.402516\n",
      "say     -3.398942\n",
      "sun     -3.363530\n",
      "words   -3.147683\n",
      "mine    -3.056418\n",
      "dtype: float64\n",
      "=== Top features for shortscarystories ===\n",
      "police         3.615472\n",
      "going          3.629421\n",
      "door           3.762062\n",
      "started        3.793882\n",
      "immediately    3.813340\n",
      "them           3.832777\n",
      "people         4.085598\n",
      "had            4.333543\n",
      "stories        4.599836\n",
      "was            5.200013\n",
      "dtype: float64\n"
     ]
    }
   ],
   "source": [
    "top_coefs_lr(pipe3)"
   ]
  },
  {
   "cell_type": "markdown",
   "metadata": {},
   "source": [
    "#### Naive Bayes Model"
   ]
  },
  {
   "cell_type": "code",
   "execution_count": 21,
   "metadata": {},
   "outputs": [],
   "source": [
    "pipe4 = make_pipeline(\n",
    "    TfidfVectorizer(max_features = 1000, stop_words=stop_words),\n",
    "    MultinomialNB()\n",
    ")"
   ]
  },
  {
   "cell_type": "code",
   "execution_count": 22,
   "metadata": {},
   "outputs": [
    {
     "name": "stdout",
     "output_type": "stream",
     "text": [
      "Training score: 0.873\n",
      "Testing score: 0.871\n"
     ]
    }
   ],
   "source": [
    "run_model(pipe4)"
   ]
  },
  {
   "cell_type": "code",
   "execution_count": 32,
   "metadata": {},
   "outputs": [
    {
     "data": {
      "text/plain": [
       "array(['OCPoetry', 'shortscarystories'], dtype='<U17')"
      ]
     },
     "execution_count": 32,
     "metadata": {},
     "output_type": "execute_result"
    }
   ],
   "source": [
    "pipe4.named_steps['multinomialnb'].classes_"
   ]
  },
  {
   "cell_type": "code",
   "execution_count": 37,
   "metadata": {},
   "outputs": [],
   "source": [
    "def top_features_nb(nb_pipe):\n",
    "    nb_log_odds = nb_pipe.named_steps['multinomialnb'].feature_log_prob_\n",
    "    features = nb_pipe.named_steps['tfidfvectorizer'].get_feature_names_out()\n",
    "    classes = nb_pipe.named_steps['multinomialnb'].classes_\n",
    "    nb_log_odds_df = pd.DataFrame(nb_log_odds.T, index = features, columns = classes)\n",
    "\n",
    "    print(nb_log_odds_df.head())\n",
    "    print(\"=== Top features for OCPoetry ===\")\n",
    "    print(nb_log_odds_df.sort_values().head(10))\n",
    "\n",
    "    # print(\"=== Top features for shortscarystories ===\")\n",
    "    # print(nb_log_odds_series.sort_values().tail(10))"
   ]
  },
  {
   "cell_type": "code",
   "execution_count": 38,
   "metadata": {},
   "outputs": [
    {
     "name": "stdout",
     "output_type": "stream",
     "text": [
      "        OCPoetry  shortscarystories\n",
      "10     -8.457721          -7.583030\n",
      "able   -8.135377          -7.430771\n",
      "about  -6.287562          -5.902122\n",
      "above  -7.152572          -7.580400\n",
      "across -7.208203          -7.111546\n"
     ]
    }
   ],
   "source": [
    "top_features_nb(pipe4)"
   ]
  },
  {
   "cell_type": "code",
   "execution_count": 39,
   "metadata": {},
   "outputs": [
    {
     "data": {
      "text/plain": [
       "'1.0.1'"
      ]
     },
     "execution_count": 39,
     "metadata": {},
     "output_type": "execute_result"
    }
   ],
   "source": [
    "from sklearn import __version__\n",
    "__version__"
   ]
  },
  {
   "cell_type": "markdown",
   "metadata": {},
   "source": [
    "New feature ideas\n",
    "* Whitespace\n",
    "* Part of speech (adjective, verb)\n",
    "* sentiment analysis"
   ]
  },
  {
   "cell_type": "code",
   "execution_count": null,
   "metadata": {},
   "outputs": [],
   "source": [
    "###### Can add sentiment analysis as feature."
   ]
  }
 ],
 "metadata": {
  "interpreter": {
   "hash": "9212599b6527739aacc5bcb356ff64f10af8be4731f2141d8d60dd08601fabb0"
  },
  "kernelspec": {
   "display_name": "Python 3.9.7 64-bit ('base': conda)",
   "language": "python",
   "name": "python3"
  },
  "language_info": {
   "codemirror_mode": {
    "name": "ipython",
    "version": 3
   },
   "file_extension": ".py",
   "mimetype": "text/x-python",
   "name": "python",
   "nbconvert_exporter": "python",
   "pygments_lexer": "ipython3",
   "version": "3.9.7"
  },
  "orig_nbformat": 4
 },
 "nbformat": 4,
 "nbformat_minor": 2
}
