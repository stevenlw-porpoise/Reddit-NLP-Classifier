{
 "cells": [
  {
   "cell_type": "code",
   "execution_count": 87,
   "metadata": {},
   "outputs": [],
   "source": [
    "import pandas as pd\n",
    "import numpy as np\n",
    "from sklearn.model_selection import train_test_split, GridSearchCV, RandomizedSearchCV\n",
    "from sklearn.feature_extraction.text import CountVectorizer, TfidfVectorizer\n",
    "from sklearn.linear_model import LogisticRegression, LogisticRegressionCV\n",
    "from sklearn.pipeline import Pipeline, make_pipeline\n",
    "from sklearn.metrics import ConfusionMatrixDisplay"
   ]
  },
  {
   "cell_type": "code",
   "execution_count": 88,
   "metadata": {},
   "outputs": [],
   "source": [
    "df = pd.read_csv('data/data_cleaned.csv')"
   ]
  },
  {
   "cell_type": "code",
   "execution_count": 89,
   "metadata": {},
   "outputs": [
    {
     "data": {
      "text/html": [
       "<div>\n",
       "<style scoped>\n",
       "    .dataframe tbody tr th:only-of-type {\n",
       "        vertical-align: middle;\n",
       "    }\n",
       "\n",
       "    .dataframe tbody tr th {\n",
       "        vertical-align: top;\n",
       "    }\n",
       "\n",
       "    .dataframe thead th {\n",
       "        text-align: right;\n",
       "    }\n",
       "</style>\n",
       "<table border=\"1\" class=\"dataframe\">\n",
       "  <thead>\n",
       "    <tr style=\"text-align: right;\">\n",
       "      <th></th>\n",
       "      <th>title</th>\n",
       "      <th>text</th>\n",
       "      <th>auth</th>\n",
       "      <th>time</th>\n",
       "      <th>subreddit</th>\n",
       "      <th>new_line_chars</th>\n",
       "      <th>space_chars</th>\n",
       "      <th>title_words</th>\n",
       "      <th>text_words</th>\n",
       "    </tr>\n",
       "  </thead>\n",
       "  <tbody>\n",
       "    <tr>\n",
       "      <th>0</th>\n",
       "      <td>the moths of time</td>\n",
       "      <td>the moths of time consume your image; everythi...</td>\n",
       "      <td>lizerdqweenchlo</td>\n",
       "      <td>1643240027</td>\n",
       "      <td>OCPoetry</td>\n",
       "      <td>22</td>\n",
       "      <td>134</td>\n",
       "      <td>4</td>\n",
       "      <td>138</td>\n",
       "    </tr>\n",
       "    <tr>\n",
       "      <th>1</th>\n",
       "      <td>Haunted Houses</td>\n",
       "      <td>Floorboards creak Under little kid feet As a n...</td>\n",
       "      <td>richardcrack</td>\n",
       "      <td>1643238939</td>\n",
       "      <td>OCPoetry</td>\n",
       "      <td>164</td>\n",
       "      <td>253</td>\n",
       "      <td>2</td>\n",
       "      <td>334</td>\n",
       "    </tr>\n",
       "    <tr>\n",
       "      <th>2</th>\n",
       "      <td>Forest of Eden</td>\n",
       "      <td>&amp;amp;#x200B; He could never quite find What ma...</td>\n",
       "      <td>mgmgmgmgm</td>\n",
       "      <td>1643237039</td>\n",
       "      <td>OCPoetry</td>\n",
       "      <td>42</td>\n",
       "      <td>69</td>\n",
       "      <td>3</td>\n",
       "      <td>79</td>\n",
       "    </tr>\n",
       "    <tr>\n",
       "      <th>3</th>\n",
       "      <td>The deepest fluctuation of creativity</td>\n",
       "      <td>With due regard at your behest I'll smear the ...</td>\n",
       "      <td>puredreadful</td>\n",
       "      <td>1643234027</td>\n",
       "      <td>OCPoetry</td>\n",
       "      <td>16</td>\n",
       "      <td>34</td>\n",
       "      <td>5</td>\n",
       "      <td>41</td>\n",
       "    </tr>\n",
       "    <tr>\n",
       "      <th>4</th>\n",
       "      <td>A Heart Divided</td>\n",
       "      <td>If I were two instead of just one, I could mak...</td>\n",
       "      <td>robbsmith711</td>\n",
       "      <td>1643233772</td>\n",
       "      <td>OCPoetry</td>\n",
       "      <td>21</td>\n",
       "      <td>328</td>\n",
       "      <td>3</td>\n",
       "      <td>337</td>\n",
       "    </tr>\n",
       "  </tbody>\n",
       "</table>\n",
       "</div>"
      ],
      "text/plain": [
       "                                   title  \\\n",
       "0                      the moths of time   \n",
       "1                         Haunted Houses   \n",
       "2                         Forest of Eden   \n",
       "3  The deepest fluctuation of creativity   \n",
       "4                        A Heart Divided   \n",
       "\n",
       "                                                text             auth  \\\n",
       "0  the moths of time consume your image; everythi...  lizerdqweenchlo   \n",
       "1  Floorboards creak Under little kid feet As a n...     richardcrack   \n",
       "2  &amp;#x200B; He could never quite find What ma...        mgmgmgmgm   \n",
       "3  With due regard at your behest I'll smear the ...     puredreadful   \n",
       "4  If I were two instead of just one, I could mak...     robbsmith711   \n",
       "\n",
       "         time subreddit  new_line_chars  space_chars  title_words  text_words  \n",
       "0  1643240027  OCPoetry              22          134            4         138  \n",
       "1  1643238939  OCPoetry             164          253            2         334  \n",
       "2  1643237039  OCPoetry              42           69            3          79  \n",
       "3  1643234027  OCPoetry              16           34            5          41  \n",
       "4  1643233772  OCPoetry              21          328            3         337  "
      ]
     },
     "execution_count": 89,
     "metadata": {},
     "output_type": "execute_result"
    }
   ],
   "source": [
    "df.head()"
   ]
  },
  {
   "cell_type": "markdown",
   "metadata": {},
   "source": [
    "### Model 1"
   ]
  },
  {
   "cell_type": "markdown",
   "metadata": {},
   "source": [
    "* Text only\n",
    "* Tfidf vectorizer\n",
    "* logistic regression"
   ]
  },
  {
   "cell_type": "code",
   "execution_count": 90,
   "metadata": {},
   "outputs": [],
   "source": [
    "X = df['text']\n",
    "y = df['subreddit']"
   ]
  },
  {
   "cell_type": "code",
   "execution_count": 91,
   "metadata": {},
   "outputs": [],
   "source": [
    "X_train, X_test, y_train, y_test = train_test_split(X, y)"
   ]
  },
  {
   "cell_type": "code",
   "execution_count": 92,
   "metadata": {},
   "outputs": [],
   "source": [
    "pipe1 = make_pipeline(\n",
    "    TfidfVectorizer(max_features = 1000),\n",
    "    LogisticRegression(max_iter = 10_000, solver = 'saga', warm_start = True)\n",
    ")"
   ]
  },
  {
   "cell_type": "code",
   "execution_count": 104,
   "metadata": {},
   "outputs": [],
   "source": [
    "def run_model(model):\n",
    "    model.fit(X_train, y_train)\n",
    "    print(f\"Training score: {model.score(X_train, y_train):.3f}\")\n",
    "    print(f\"Testing score: {model.score(X_test, y_test):.3f}\")"
   ]
  },
  {
   "cell_type": "code",
   "execution_count": 105,
   "metadata": {},
   "outputs": [],
   "source": [
    "def top_coefs_lr(lr_pipe):\n",
    "    lr_coefs = lr_pipe.named_steps['logisticregression'].coef_\n",
    "    features = lr_pipe.named_steps['tfidfvectorizer'].get_feature_names_out()\n",
    "    lr_coefs_series = pd.Series(lr_coefs[0], index = features)\n",
    "\n",
    "    print(\"=== Top features for OCPoetry ===\")\n",
    "    print(lr_coefs_series.sort_values().head(10))\n",
    "\n",
    "    print(\"=== Top features for shortscarystories ===\")\n",
    "    print(lr_coefs_series.sort_values().tail(10))"
   ]
  },
  {
   "cell_type": "code",
   "execution_count": 106,
   "metadata": {},
   "outputs": [
    {
     "name": "stdout",
     "output_type": "stream",
     "text": [
      "Training score: 0.928\n",
      "Testing score: 0.922\n"
     ]
    }
   ],
   "source": [
    "run_model(pipe1)"
   ]
  },
  {
   "cell_type": "code",
   "execution_count": 107,
   "metadata": {},
   "outputs": [
    {
     "name": "stdout",
     "output_type": "stream",
     "text": [
      "=== Top features for OCPoetry ===\n",
      "feedback   -11.735772\n",
      "poem        -9.142683\n",
      "poetry      -6.569022\n",
      "heart       -4.942911\n",
      "like        -3.860337\n",
      "wrote       -3.826875\n",
      "tears       -3.576072\n",
      "sun         -3.557608\n",
      "yet         -3.486862\n",
      "hold        -3.463704\n",
      "dtype: float64\n",
      "=== Top features for shortscarystories ===\n",
      "door           3.847913\n",
      "humans         3.869404\n",
      "started        3.948045\n",
      "stories        4.101870\n",
      "immediately    4.147857\n",
      "any            4.312675\n",
      "going          4.421943\n",
      "had            4.426253\n",
      "was            4.836823\n",
      "horror         5.106104\n",
      "dtype: float64\n"
     ]
    }
   ],
   "source": [
    "top_coefs_lr(pipe1)"
   ]
  },
  {
   "cell_type": "markdown",
   "metadata": {},
   "source": [
    "We should add some stop words that make this task too easy by giving away the answer directly: poem / poetry and horror."
   ]
  },
  {
   "cell_type": "code",
   "execution_count": 112,
   "metadata": {},
   "outputs": [],
   "source": [
    "stop_words = ['poem', 'poetry', 'horror']"
   ]
  },
  {
   "cell_type": "code",
   "execution_count": 113,
   "metadata": {},
   "outputs": [],
   "source": [
    "pipe2 = make_pipeline(\n",
    "    TfidfVectorizer(max_features = 1000, stop_words=stop_words),\n",
    "    LogisticRegression(max_iter = 10_000, solver = 'saga', warm_start = True)\n",
    ")"
   ]
  },
  {
   "cell_type": "code",
   "execution_count": 114,
   "metadata": {},
   "outputs": [
    {
     "name": "stdout",
     "output_type": "stream",
     "text": [
      "Training score: 0.925\n",
      "Testing score: 0.919\n"
     ]
    }
   ],
   "source": [
    "run_model(pipe2)"
   ]
  },
  {
   "cell_type": "code",
   "execution_count": 115,
   "metadata": {},
   "outputs": [
    {
     "name": "stdout",
     "output_type": "stream",
     "text": [
      "=== Top features for OCPoetry ===\n",
      "feedback   -12.283781\n",
      "wrote       -4.954768\n",
      "heart       -4.947145\n",
      "like        -3.966319\n",
      "tears       -3.609974\n",
      "sun         -3.542323\n",
      "yet         -3.510190\n",
      "hold        -3.432957\n",
      "lost        -3.144258\n",
      "lies        -3.104025\n",
      "dtype: float64\n",
      "=== Top features for shortscarystories ===\n",
      "few            3.780036\n",
      "humans         3.867178\n",
      "door           3.945334\n",
      "started        3.952303\n",
      "immediately    4.162948\n",
      "any            4.225543\n",
      "going          4.476883\n",
      "had            4.478135\n",
      "stories        4.570350\n",
      "was            4.896199\n",
      "dtype: float64\n"
     ]
    }
   ],
   "source": [
    "top_coefs_lr(pipe2)"
   ]
  },
  {
   "cell_type": "code",
   "execution_count": 116,
   "metadata": {},
   "outputs": [],
   "source": [
    "stop_words.append('feedback')"
   ]
  },
  {
   "cell_type": "code",
   "execution_count": 117,
   "metadata": {},
   "outputs": [],
   "source": [
    "pipe3 = make_pipeline(\n",
    "    TfidfVectorizer(max_features = 1000, stop_words=stop_words),\n",
    "    LogisticRegression(max_iter = 10_000, solver = 'saga', warm_start = True)\n",
    ")"
   ]
  },
  {
   "cell_type": "code",
   "execution_count": 118,
   "metadata": {},
   "outputs": [
    {
     "name": "stdout",
     "output_type": "stream",
     "text": [
      "Training score: 0.922\n",
      "Testing score: 0.917\n"
     ]
    }
   ],
   "source": [
    "run_model(pipe3)"
   ]
  },
  {
   "cell_type": "code",
   "execution_count": 119,
   "metadata": {},
   "outputs": [
    {
     "name": "stdout",
     "output_type": "stream",
     "text": [
      "=== Top features for OCPoetry ===\n",
      "wrote      -5.390857\n",
      "heart      -5.061636\n",
      "like       -3.998035\n",
      "tears      -3.640115\n",
      "sun        -3.627781\n",
      "yet        -3.614490\n",
      "hold       -3.327616\n",
      "lost       -3.180938\n",
      "thoughts   -3.179826\n",
      "lies       -3.143316\n",
      "dtype: float64\n",
      "=== Top features for shortscarystories ===\n",
      "few            3.794451\n",
      "people         3.808744\n",
      "started        3.819131\n",
      "humans         4.005990\n",
      "door           4.064819\n",
      "immediately    4.235897\n",
      "had            4.541562\n",
      "going          4.559610\n",
      "stories        4.688474\n",
      "was            4.918857\n",
      "dtype: float64\n"
     ]
    }
   ],
   "source": [
    "top_coefs_lr(pipe3)"
   ]
  },
  {
   "cell_type": "code",
   "execution_count": null,
   "metadata": {},
   "outputs": [],
   "source": []
  }
 ],
 "metadata": {
  "interpreter": {
   "hash": "9212599b6527739aacc5bcb356ff64f10af8be4731f2141d8d60dd08601fabb0"
  },
  "kernelspec": {
   "display_name": "Python 3.9.7 64-bit ('base': conda)",
   "language": "python",
   "name": "python3"
  },
  "language_info": {
   "codemirror_mode": {
    "name": "ipython",
    "version": 3
   },
   "file_extension": ".py",
   "mimetype": "text/x-python",
   "name": "python",
   "nbconvert_exporter": "python",
   "pygments_lexer": "ipython3",
   "version": "3.9.7"
  },
  "orig_nbformat": 4
 },
 "nbformat": 4,
 "nbformat_minor": 2
}
