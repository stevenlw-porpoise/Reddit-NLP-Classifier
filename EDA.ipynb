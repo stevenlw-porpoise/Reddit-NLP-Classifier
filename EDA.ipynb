{
 "cells": [
  {
   "cell_type": "markdown",
   "metadata": {},
   "source": [
    "This notebook does EDA and engineers some new features using NLP tools.\n",
    "The data from the two subreddit input files are combined and the new features are added in to the file data_cleaned.csv."
   ]
  },
  {
   "cell_type": "code",
   "execution_count": 35,
   "metadata": {},
   "outputs": [],
   "source": [
    "import pandas as pd\n",
    "import numpy as np\n",
    "\n",
    "import matplotlib.pyplot as plt\n",
    "import seaborn as sns\n",
    "\n",
    "import nltk\n",
    "from nltk.tokenize import word_tokenize\n",
    "from nltk.tag import pos_tag\n",
    "\n",
    "from textblob import TextBlob"
   ]
  },
  {
   "cell_type": "markdown",
   "metadata": {},
   "source": [
    "#### Display Settings"
   ]
  },
  {
   "cell_type": "code",
   "execution_count": 36,
   "metadata": {},
   "outputs": [],
   "source": [
    "pd.set_option('max_colwidth', 200)"
   ]
  },
  {
   "cell_type": "markdown",
   "metadata": {},
   "source": [
    "### Data Overview + Merging"
   ]
  },
  {
   "cell_type": "code",
   "execution_count": 37,
   "metadata": {},
   "outputs": [],
   "source": [
    "poems = pd.read_csv('data/OCPoetry.csv', index_col = 0)\n",
    "sss = pd.read_csv('data/shortscarystories.csv', index_col=0)"
   ]
  },
  {
   "cell_type": "code",
   "execution_count": 38,
   "metadata": {},
   "outputs": [],
   "source": [
    "poems['subreddit'] = 'OCPoetry'\n",
    "sss['subreddit'] = 'shortscarystories'"
   ]
  },
  {
   "cell_type": "code",
   "execution_count": 39,
   "metadata": {},
   "outputs": [
    {
     "data": {
      "text/html": [
       "<div>\n",
       "<style scoped>\n",
       "    .dataframe tbody tr th:only-of-type {\n",
       "        vertical-align: middle;\n",
       "    }\n",
       "\n",
       "    .dataframe tbody tr th {\n",
       "        vertical-align: top;\n",
       "    }\n",
       "\n",
       "    .dataframe thead th {\n",
       "        text-align: right;\n",
       "    }\n",
       "</style>\n",
       "<table border=\"1\" class=\"dataframe\">\n",
       "  <thead>\n",
       "    <tr style=\"text-align: right;\">\n",
       "      <th></th>\n",
       "      <th>title</th>\n",
       "      <th>text</th>\n",
       "      <th>auth</th>\n",
       "      <th>time</th>\n",
       "      <th>subreddit</th>\n",
       "    </tr>\n",
       "  </thead>\n",
       "  <tbody>\n",
       "    <tr>\n",
       "      <th>0</th>\n",
       "      <td>the moths of time</td>\n",
       "      <td>the moths of time consume your image; everything of you is gone from my life.\\nbut after all this time i still glimpse your grimace in a mirror that reflects when the world was rife.\\n\\n\\nhand on ...</td>\n",
       "      <td>lizerdqweenchlo</td>\n",
       "      <td>1643240027</td>\n",
       "      <td>OCPoetry</td>\n",
       "    </tr>\n",
       "    <tr>\n",
       "      <th>1</th>\n",
       "      <td>Haunted Houses</td>\n",
       "      <td>Floorboards creak\\n\\nUnder little kid feet\\n\\nAs a new family arrives\\n\\nThat the siblings want to meet\\n\\n&amp;amp;#x200B;\\n\\nA big sister!\\n\\nA big brother!\\n\\nA new father!\\n\\nAnd new mother!\\n\\n&amp;a...</td>\n",
       "      <td>richardcrack</td>\n",
       "      <td>1643238939</td>\n",
       "      <td>OCPoetry</td>\n",
       "    </tr>\n",
       "    <tr>\n",
       "      <th>2</th>\n",
       "      <td>Forest of Eden</td>\n",
       "      <td>&amp;amp;#x200B;\\n\\nHe could never quite find\\n\\nWhat made it paradise. \\n\\nWas it the way needles fell \\n\\nFrom the shadeless pines, \\n\\n&amp;amp;#x200B;\\n\\nOr the river that raised \\n\\nHis grandmothers’...</td>\n",
       "      <td>mgmgmgmgm</td>\n",
       "      <td>1643237039</td>\n",
       "      <td>OCPoetry</td>\n",
       "    </tr>\n",
       "    <tr>\n",
       "      <th>3</th>\n",
       "      <td>The deepest fluctuation of creativity</td>\n",
       "      <td>With due regard at your behest\\n\\nI'll smear the ink and burn the rest,\\n\\na long and overdue repose\\n\\nwith words withheld and all books closed,\\n\\nI'll lie as silent as the grave\\n\\nand sleep in...</td>\n",
       "      <td>puredreadful</td>\n",
       "      <td>1643234027</td>\n",
       "      <td>OCPoetry</td>\n",
       "    </tr>\n",
       "    <tr>\n",
       "      <th>4</th>\n",
       "      <td>The deepest fluctuation of creativity</td>\n",
       "      <td>With due regard at your behest\\n\\nI'll smear the ink and burn the rest,\\n\\na long and overdue repose\\n\\nwith words withheld and all books closed,\\n\\nI'll lie as silent as the grave\\n\\nand sleep in...</td>\n",
       "      <td>puredreadful</td>\n",
       "      <td>1643234027</td>\n",
       "      <td>OCPoetry</td>\n",
       "    </tr>\n",
       "  </tbody>\n",
       "</table>\n",
       "</div>"
      ],
      "text/plain": [
       "                                   title  \\\n",
       "0                      the moths of time   \n",
       "1                         Haunted Houses   \n",
       "2                         Forest of Eden   \n",
       "3  The deepest fluctuation of creativity   \n",
       "4  The deepest fluctuation of creativity   \n",
       "\n",
       "                                                                                                                                                                                                      text  \\\n",
       "0  the moths of time consume your image; everything of you is gone from my life.\\nbut after all this time i still glimpse your grimace in a mirror that reflects when the world was rife.\\n\\n\\nhand on ...   \n",
       "1  Floorboards creak\\n\\nUnder little kid feet\\n\\nAs a new family arrives\\n\\nThat the siblings want to meet\\n\\n&amp;#x200B;\\n\\nA big sister!\\n\\nA big brother!\\n\\nA new father!\\n\\nAnd new mother!\\n\\n&a...   \n",
       "2  &amp;#x200B;\\n\\nHe could never quite find\\n\\nWhat made it paradise. \\n\\nWas it the way needles fell \\n\\nFrom the shadeless pines, \\n\\n&amp;#x200B;\\n\\nOr the river that raised \\n\\nHis grandmothers’...   \n",
       "3  With due regard at your behest\\n\\nI'll smear the ink and burn the rest,\\n\\na long and overdue repose\\n\\nwith words withheld and all books closed,\\n\\nI'll lie as silent as the grave\\n\\nand sleep in...   \n",
       "4  With due regard at your behest\\n\\nI'll smear the ink and burn the rest,\\n\\na long and overdue repose\\n\\nwith words withheld and all books closed,\\n\\nI'll lie as silent as the grave\\n\\nand sleep in...   \n",
       "\n",
       "              auth        time subreddit  \n",
       "0  lizerdqweenchlo  1643240027  OCPoetry  \n",
       "1     richardcrack  1643238939  OCPoetry  \n",
       "2        mgmgmgmgm  1643237039  OCPoetry  \n",
       "3     puredreadful  1643234027  OCPoetry  \n",
       "4     puredreadful  1643234027  OCPoetry  "
      ]
     },
     "execution_count": 39,
     "metadata": {},
     "output_type": "execute_result"
    }
   ],
   "source": [
    "poems.head()"
   ]
  },
  {
   "cell_type": "code",
   "execution_count": 40,
   "metadata": {},
   "outputs": [
    {
     "name": "stdout",
     "output_type": "stream",
     "text": [
      "<class 'pandas.core.frame.DataFrame'>\n",
      "Int64Index: 29905 entries, 0 to 48\n",
      "Data columns (total 5 columns):\n",
      " #   Column     Non-Null Count  Dtype \n",
      "---  ------     --------------  ----- \n",
      " 0   title      29905 non-null  object\n",
      " 1   text       29905 non-null  object\n",
      " 2   auth       29905 non-null  object\n",
      " 3   time       29905 non-null  int64 \n",
      " 4   subreddit  29905 non-null  object\n",
      "dtypes: int64(1), object(4)\n",
      "memory usage: 1.4+ MB\n"
     ]
    }
   ],
   "source": [
    "poems.info()"
   ]
  },
  {
   "cell_type": "code",
   "execution_count": 41,
   "metadata": {},
   "outputs": [
    {
     "data": {
      "text/html": [
       "<div>\n",
       "<style scoped>\n",
       "    .dataframe tbody tr th:only-of-type {\n",
       "        vertical-align: middle;\n",
       "    }\n",
       "\n",
       "    .dataframe tbody tr th {\n",
       "        vertical-align: top;\n",
       "    }\n",
       "\n",
       "    .dataframe thead th {\n",
       "        text-align: right;\n",
       "    }\n",
       "</style>\n",
       "<table border=\"1\" class=\"dataframe\">\n",
       "  <thead>\n",
       "    <tr style=\"text-align: right;\">\n",
       "      <th></th>\n",
       "      <th>title</th>\n",
       "      <th>text</th>\n",
       "      <th>auth</th>\n",
       "      <th>time</th>\n",
       "      <th>subreddit</th>\n",
       "    </tr>\n",
       "  </thead>\n",
       "  <tbody>\n",
       "    <tr>\n",
       "      <th>0</th>\n",
       "      <td>Fruit of Human Kindness</td>\n",
       "      <td>**Let it be stated, for the record, that what follows is the examination of one Conrad Marlow, in relation to allegations made against Mr Marlow's former employer, the anthropologist and sitting M...</td>\n",
       "      <td>normancrane</td>\n",
       "      <td>1643239674</td>\n",
       "      <td>shortscarystories</td>\n",
       "    </tr>\n",
       "    <tr>\n",
       "      <th>1</th>\n",
       "      <td>MEDICINE BALL</td>\n",
       "      <td>\\n\\nMy boyfriend and I felt we were not getting exercise and outdoors enough during this bleak winter. Even before the pandemic neither of us were active enough, and with both working long hours...</td>\n",
       "      <td>eloquentursula</td>\n",
       "      <td>1643229661</td>\n",
       "      <td>shortscarystories</td>\n",
       "    </tr>\n",
       "    <tr>\n",
       "      <th>2</th>\n",
       "      <td>The Mandela Effect Is Real And I can Prove it.</td>\n",
       "      <td>\\n\\nDoes anybody remember the film The Lost Boys? It was my favourite film as a kid. I idolised the Frog Brothers and imagined myself fighting vampires side by side with them. I had an awesome p...</td>\n",
       "      <td>Roos85</td>\n",
       "      <td>1643220793</td>\n",
       "      <td>shortscarystories</td>\n",
       "    </tr>\n",
       "    <tr>\n",
       "      <th>3</th>\n",
       "      <td>The most weird call I had ever gotten as a babysitter. (Fictional)</td>\n",
       "      <td>Hi, Im Natalie,  24 year old babysitter, and I wanted to share one of my most bone chilling experiences with a costumer.\\n\\nIt was around 4am, I was deep asleep, snoring so loud it sounded like a ...</td>\n",
       "      <td>Riaxxxxxx_</td>\n",
       "      <td>1643220655</td>\n",
       "      <td>shortscarystories</td>\n",
       "    </tr>\n",
       "    <tr>\n",
       "      <th>4</th>\n",
       "      <td>Forever young</td>\n",
       "      <td>They will tell you she killed herself.\\n\\nShe didn't. I saw what happened, I told and explained them.\\n\\nThey didn't believe me. Said that I need rest, that I was in denial, that my mind played tr...</td>\n",
       "      <td>Thunder-and-Dark</td>\n",
       "      <td>1643213868</td>\n",
       "      <td>shortscarystories</td>\n",
       "    </tr>\n",
       "  </tbody>\n",
       "</table>\n",
       "</div>"
      ],
      "text/plain": [
       "                                                                title  \\\n",
       "0                                             Fruit of Human Kindness   \n",
       "1                                                       MEDICINE BALL   \n",
       "2                      The Mandela Effect Is Real And I can Prove it.   \n",
       "3  The most weird call I had ever gotten as a babysitter. (Fictional)   \n",
       "4                                                       Forever young   \n",
       "\n",
       "                                                                                                                                                                                                      text  \\\n",
       "0  **Let it be stated, for the record, that what follows is the examination of one Conrad Marlow, in relation to allegations made against Mr Marlow's former employer, the anthropologist and sitting M...   \n",
       "1    \\n\\nMy boyfriend and I felt we were not getting exercise and outdoors enough during this bleak winter. Even before the pandemic neither of us were active enough, and with both working long hours...   \n",
       "2    \\n\\nDoes anybody remember the film The Lost Boys? It was my favourite film as a kid. I idolised the Frog Brothers and imagined myself fighting vampires side by side with them. I had an awesome p...   \n",
       "3  Hi, Im Natalie,  24 year old babysitter, and I wanted to share one of my most bone chilling experiences with a costumer.\\n\\nIt was around 4am, I was deep asleep, snoring so loud it sounded like a ...   \n",
       "4  They will tell you she killed herself.\\n\\nShe didn't. I saw what happened, I told and explained them.\\n\\nThey didn't believe me. Said that I need rest, that I was in denial, that my mind played tr...   \n",
       "\n",
       "               auth        time          subreddit  \n",
       "0       normancrane  1643239674  shortscarystories  \n",
       "1    eloquentursula  1643229661  shortscarystories  \n",
       "2            Roos85  1643220793  shortscarystories  \n",
       "3        Riaxxxxxx_  1643220655  shortscarystories  \n",
       "4  Thunder-and-Dark  1643213868  shortscarystories  "
      ]
     },
     "execution_count": 41,
     "metadata": {},
     "output_type": "execute_result"
    }
   ],
   "source": [
    "sss.head()"
   ]
  },
  {
   "cell_type": "code",
   "execution_count": 42,
   "metadata": {},
   "outputs": [
    {
     "name": "stdout",
     "output_type": "stream",
     "text": [
      "<class 'pandas.core.frame.DataFrame'>\n",
      "Int64Index: 28687 entries, 0 to 93\n",
      "Data columns (total 5 columns):\n",
      " #   Column     Non-Null Count  Dtype \n",
      "---  ------     --------------  ----- \n",
      " 0   title      28687 non-null  object\n",
      " 1   text       28586 non-null  object\n",
      " 2   auth       28687 non-null  object\n",
      " 3   time       28687 non-null  int64 \n",
      " 4   subreddit  28687 non-null  object\n",
      "dtypes: int64(1), object(4)\n",
      "memory usage: 1.3+ MB\n"
     ]
    }
   ],
   "source": [
    "sss.info()"
   ]
  },
  {
   "cell_type": "markdown",
   "metadata": {},
   "source": [
    "Merge the two subreddit data frames in to one."
   ]
  },
  {
   "cell_type": "code",
   "execution_count": 43,
   "metadata": {},
   "outputs": [],
   "source": [
    "df = pd.concat([poems, sss])\n",
    "df.reset_index(drop=True, inplace=True)"
   ]
  },
  {
   "cell_type": "code",
   "execution_count": 44,
   "metadata": {},
   "outputs": [
    {
     "name": "stdout",
     "output_type": "stream",
     "text": [
      "<class 'pandas.core.frame.DataFrame'>\n",
      "RangeIndex: 58592 entries, 0 to 58591\n",
      "Data columns (total 5 columns):\n",
      " #   Column     Non-Null Count  Dtype \n",
      "---  ------     --------------  ----- \n",
      " 0   title      58592 non-null  object\n",
      " 1   text       58491 non-null  object\n",
      " 2   auth       58592 non-null  object\n",
      " 3   time       58592 non-null  int64 \n",
      " 4   subreddit  58592 non-null  object\n",
      "dtypes: int64(1), object(4)\n",
      "memory usage: 2.2+ MB\n"
     ]
    }
   ],
   "source": [
    "df.info()"
   ]
  },
  {
   "cell_type": "markdown",
   "metadata": {},
   "source": [
    "### Data Cleaning"
   ]
  },
  {
   "cell_type": "markdown",
   "metadata": {},
   "source": [
    "#### Fill empty strings"
   ]
  },
  {
   "cell_type": "code",
   "execution_count": 45,
   "metadata": {},
   "outputs": [],
   "source": [
    "df['text'].fillna('', inplace=True)\n",
    "df['title'].fillna('', inplace = True)"
   ]
  },
  {
   "cell_type": "markdown",
   "metadata": {},
   "source": [
    "#### Count whitespace"
   ]
  },
  {
   "cell_type": "markdown",
   "metadata": {},
   "source": [
    "Whitespace features could be predictive of poetry - I will count them here and then remove them from the text, so they can be included or not in later analysis."
   ]
  },
  {
   "cell_type": "code",
   "execution_count": 46,
   "metadata": {},
   "outputs": [],
   "source": [
    "df['new_line_chars'] = df['text'].str.count('\\n')\n",
    "df['tab_chars'] = df['text'].str.count('\\t')\n",
    "df['space_chars'] = df['text'].str.count(' ')\n",
    "df['zws_chars'] = df['text'].str.count('#x200B') + df['text'].str.count('nbsp') # Zero width space characters"
   ]
  },
  {
   "cell_type": "code",
   "execution_count": 47,
   "metadata": {},
   "outputs": [
    {
     "data": {
      "text/html": [
       "<div>\n",
       "<style scoped>\n",
       "    .dataframe tbody tr th:only-of-type {\n",
       "        vertical-align: middle;\n",
       "    }\n",
       "\n",
       "    .dataframe tbody tr th {\n",
       "        vertical-align: top;\n",
       "    }\n",
       "\n",
       "    .dataframe thead th {\n",
       "        text-align: right;\n",
       "    }\n",
       "</style>\n",
       "<table border=\"1\" class=\"dataframe\">\n",
       "  <thead>\n",
       "    <tr style=\"text-align: right;\">\n",
       "      <th></th>\n",
       "      <th>Avg per post</th>\n",
       "    </tr>\n",
       "  </thead>\n",
       "  <tbody>\n",
       "    <tr>\n",
       "      <th>new_line_chars</th>\n",
       "      <td>35.662445</td>\n",
       "    </tr>\n",
       "    <tr>\n",
       "      <th>tab_chars</th>\n",
       "      <td>0.041661</td>\n",
       "    </tr>\n",
       "    <tr>\n",
       "      <th>space_chars</th>\n",
       "      <td>249.282632</td>\n",
       "    </tr>\n",
       "    <tr>\n",
       "      <th>zws_chars</th>\n",
       "      <td>1.416832</td>\n",
       "    </tr>\n",
       "  </tbody>\n",
       "</table>\n",
       "</div>"
      ],
      "text/plain": [
       "                Avg per post\n",
       "new_line_chars     35.662445\n",
       "tab_chars           0.041661\n",
       "space_chars       249.282632\n",
       "zws_chars           1.416832"
      ]
     },
     "execution_count": 47,
     "metadata": {},
     "output_type": "execute_result"
    }
   ],
   "source": [
    "pd.DataFrame(df.loc[:, 'new_line_chars':'zws_chars'].mean(), columns = ['Avg per post'])"
   ]
  },
  {
   "cell_type": "markdown",
   "metadata": {},
   "source": [
    "#### Remove zero width spaces"
   ]
  },
  {
   "cell_type": "markdown",
   "metadata": {},
   "source": [
    "Since we will use count vectorization in our models it is good to remove non-textual signals. In this case the zero width space sequence '&amp;#x200B;' appears more than 65,000 times in the data, especially in r/OCPoetry."
   ]
  },
  {
   "cell_type": "code",
   "execution_count": 48,
   "metadata": {},
   "outputs": [
    {
     "data": {
      "text/plain": [
       "65971"
      ]
     },
     "execution_count": 48,
     "metadata": {},
     "output_type": "execute_result"
    }
   ],
   "source": [
    "df['text'].str.count('&amp;#x200B;').sum()"
   ]
  },
  {
   "cell_type": "code",
   "execution_count": 49,
   "metadata": {},
   "outputs": [
    {
     "data": {
      "text/plain": [
       "65993"
      ]
     },
     "execution_count": 49,
     "metadata": {},
     "output_type": "execute_result"
    }
   ],
   "source": [
    "df['text'].str.count('#x200B').sum()"
   ]
  },
  {
   "cell_type": "code",
   "execution_count": 50,
   "metadata": {},
   "outputs": [
    {
     "data": {
      "text/plain": [
       "52537"
      ]
     },
     "execution_count": 50,
     "metadata": {},
     "output_type": "execute_result"
    }
   ],
   "source": [
    "df.query('subreddit == \"OCPoetry\"')['text'].str.count('&amp;#x200B;').sum()"
   ]
  },
  {
   "cell_type": "markdown",
   "metadata": {},
   "source": [
    "Alternate non breaking space encoding."
   ]
  },
  {
   "cell_type": "code",
   "execution_count": 51,
   "metadata": {},
   "outputs": [
    {
     "data": {
      "text/plain": [
       "(17022, 16806, 17011)"
      ]
     },
     "execution_count": 51,
     "metadata": {},
     "output_type": "execute_result"
    }
   ],
   "source": [
    "df['text'].str.count('nbsp').sum(), \\\n",
    "df['text'].str.count('&amp;nbsp;').sum(), \\\n",
    "df['text'].str.count('&amp;nbsp').sum()"
   ]
  },
  {
   "cell_type": "code",
   "execution_count": 52,
   "metadata": {},
   "outputs": [],
   "source": [
    "def remove_zws(text_col):\n",
    "    text_col = text_col.str.replace('&amp;#x200B;', '')\n",
    "    text_col = text_col.str.replace('&amp;nbsp;', '')\n",
    "    text_col = text_col.str.replace('&amp;nbsp', '')\n",
    "    return text_col"
   ]
  },
  {
   "cell_type": "code",
   "execution_count": 53,
   "metadata": {},
   "outputs": [],
   "source": [
    "df['text'] = remove_zws(df['text'])\n",
    "df['title'] = remove_zws(df['title'])"
   ]
  },
  {
   "cell_type": "markdown",
   "metadata": {},
   "source": [
    "#### Filter URLs"
   ]
  },
  {
   "cell_type": "markdown",
   "metadata": {},
   "source": [
    "URLs are difficult to do NLP on and they are also far more common in the OCPoetry subreddit which biases our models. To fix this we should remove them from the text column."
   ]
  },
  {
   "cell_type": "code",
   "execution_count": 54,
   "metadata": {},
   "outputs": [
    {
     "data": {
      "text/plain": [
       "'\\nwrite songs for my poems\\nput method to my madness\\nplease deaden my mind\\n\\n[1](https://www.reddit.com/r/OCPoetry/comments/ir71un/lusts_smile/?utm_source=share&amp;utm_medium=ios_app&amp;utm_name=iossmf)\\n\\n[2](https://www.reddit.com/r/OCPoetry/comments/ipgn9o/a_dream_i_once_had/?utm_source=share&amp;utm_medium=ios_app&amp;utm_name=iossmf)'"
      ]
     },
     "execution_count": 54,
     "metadata": {},
     "output_type": "execute_result"
    }
   ],
   "source": [
    "df.loc[23854, 'text'] # Example post with 2 urls"
   ]
  },
  {
   "cell_type": "code",
   "execution_count": 55,
   "metadata": {},
   "outputs": [
    {
     "data": {
      "text/plain": [
       "['write',\n",
       " 'songs',\n",
       " 'for',\n",
       " 'my',\n",
       " 'poems',\n",
       " 'put',\n",
       " 'method',\n",
       " 'to',\n",
       " 'my',\n",
       " 'madness',\n",
       " 'please',\n",
       " 'deaden',\n",
       " 'my',\n",
       " 'mind',\n",
       " '[1](https://www.reddit.com/r/OCPoetry/comments/ir71un/lusts_smile/?utm_source=share&amp;utm_medium=ios_app&amp;utm_name=iossmf)',\n",
       " '[2](https://www.reddit.com/r/OCPoetry/comments/ipgn9o/a_dream_i_once_had/?utm_source=share&amp;utm_medium=ios_app&amp;utm_name=iossmf)']"
      ]
     },
     "execution_count": 55,
     "metadata": {},
     "output_type": "execute_result"
    }
   ],
   "source": [
    "df.loc[23854, 'text'].split()"
   ]
  },
  {
   "cell_type": "markdown",
   "metadata": {},
   "source": [
    "In this example the last two tokens return a nonnegative number from `find('https')` indicating they contain a url. The urls are removed with the following cell."
   ]
  },
  {
   "cell_type": "code",
   "execution_count": 56,
   "metadata": {},
   "outputs": [
    {
     "data": {
      "text/plain": [
       "[-1, -1, -1, -1, -1, -1, -1, -1, -1, -1, -1, -1, -1, -1, 4, 4]"
      ]
     },
     "execution_count": 56,
     "metadata": {},
     "output_type": "execute_result"
    }
   ],
   "source": [
    "[token.find('https') for token in df.loc[23854, 'text'].split()]"
   ]
  },
  {
   "cell_type": "code",
   "execution_count": 57,
   "metadata": {},
   "outputs": [
    {
     "data": {
      "text/plain": [
       "'write songs for my poems put method to my madness please deaden my mind'"
      ]
     },
     "execution_count": 57,
     "metadata": {},
     "output_type": "execute_result"
    }
   ],
   "source": [
    "' '.join([token for token in df.loc[23854, 'text'].split() if token.find('https') == -1])"
   ]
  },
  {
   "cell_type": "markdown",
   "metadata": {},
   "source": [
    "Function to remove all urls from the text field.\n",
    "Note this has the side effect of removing all other white space. "
   ]
  },
  {
   "cell_type": "code",
   "execution_count": 58,
   "metadata": {},
   "outputs": [],
   "source": [
    "def scrub_url(text):\n",
    "    return ' '.join([token for token in text.split() if token.find('https') == -1])"
   ]
  },
  {
   "cell_type": "code",
   "execution_count": 59,
   "metadata": {},
   "outputs": [],
   "source": [
    "df['text'] = [scrub_url(text) for text in df['text']]\n",
    "df['title'] = [scrub_url(text) for text in df['title']]"
   ]
  },
  {
   "cell_type": "code",
   "execution_count": 60,
   "metadata": {},
   "outputs": [
    {
     "data": {
      "text/plain": [
       "0"
      ]
     },
     "execution_count": 60,
     "metadata": {},
     "output_type": "execute_result"
    }
   ],
   "source": [
    "df['text'].str.count('https').sum() # check scrubbing"
   ]
  },
  {
   "cell_type": "code",
   "execution_count": 61,
   "metadata": {},
   "outputs": [
    {
     "data": {
      "text/plain": [
       "0"
      ]
     },
     "execution_count": 61,
     "metadata": {},
     "output_type": "execute_result"
    }
   ],
   "source": [
    "df['title'].str.count('https').sum()"
   ]
  },
  {
   "cell_type": "markdown",
   "metadata": {},
   "source": [
    "#### Parse dates"
   ]
  },
  {
   "cell_type": "code",
   "execution_count": 62,
   "metadata": {},
   "outputs": [],
   "source": [
    "df['time'] = pd.to_datetime(df['time'], unit = 's')"
   ]
  },
  {
   "cell_type": "markdown",
   "metadata": {},
   "source": [
    "#### New feature: word counts"
   ]
  },
  {
   "cell_type": "code",
   "execution_count": 63,
   "metadata": {},
   "outputs": [],
   "source": [
    "df['title_words'] = df['title'].str.split().str.len()"
   ]
  },
  {
   "cell_type": "code",
   "execution_count": 64,
   "metadata": {},
   "outputs": [
    {
     "data": {
      "text/plain": [
       "2    13347\n",
       "1    11030\n",
       "3    10396\n",
       "4     7508\n",
       "5     5599\n",
       "Name: title_words, dtype: int64"
      ]
     },
     "execution_count": 64,
     "metadata": {},
     "output_type": "execute_result"
    }
   ],
   "source": [
    "df['title_words'].value_counts().head()"
   ]
  },
  {
   "cell_type": "code",
   "execution_count": 65,
   "metadata": {},
   "outputs": [
    {
     "data": {
      "text/html": [
       "<div>\n",
       "<style scoped>\n",
       "    .dataframe tbody tr th:only-of-type {\n",
       "        vertical-align: middle;\n",
       "    }\n",
       "\n",
       "    .dataframe tbody tr th {\n",
       "        vertical-align: top;\n",
       "    }\n",
       "\n",
       "    .dataframe thead th {\n",
       "        text-align: right;\n",
       "    }\n",
       "</style>\n",
       "<table border=\"1\" class=\"dataframe\">\n",
       "  <thead>\n",
       "    <tr style=\"text-align: right;\">\n",
       "      <th></th>\n",
       "      <th>title</th>\n",
       "      <th>text</th>\n",
       "      <th>auth</th>\n",
       "      <th>time</th>\n",
       "      <th>subreddit</th>\n",
       "      <th>new_line_chars</th>\n",
       "      <th>tab_chars</th>\n",
       "      <th>space_chars</th>\n",
       "      <th>zws_chars</th>\n",
       "      <th>title_words</th>\n",
       "    </tr>\n",
       "  </thead>\n",
       "  <tbody>\n",
       "    <tr>\n",
       "      <th>38464</th>\n",
       "      <td>I just want to die i cant live in this house with them anymore just because i don’t want to leave my room she got 7 other CHILD why does it have to be me why do i have to do the chores why does sh...</td>\n",
       "      <td>Please if they didnt they then i wish i will</td>\n",
       "      <td>S9_b10</td>\n",
       "      <td>2021-01-30 18:25:28</td>\n",
       "      <td>shortscarystories</td>\n",
       "      <td>0</td>\n",
       "      <td>0</td>\n",
       "      <td>9</td>\n",
       "      <td>0</td>\n",
       "      <td>63</td>\n",
       "    </tr>\n",
       "    <tr>\n",
       "      <th>38213</th>\n",
       "      <td>Hola , personas de Reddit el otro día recordé una película que ví hace muchos años que tenía un corto asiático de terror acerca de un chico que hace un ritual y acaba en otra dimensión muy bizarra...</td>\n",
       "      <td></td>\n",
       "      <td>Key-frank-3678</td>\n",
       "      <td>2021-02-14 18:10:50</td>\n",
       "      <td>shortscarystories</td>\n",
       "      <td>0</td>\n",
       "      <td>0</td>\n",
       "      <td>0</td>\n",
       "      <td>0</td>\n",
       "      <td>60</td>\n",
       "    </tr>\n",
       "    <tr>\n",
       "      <th>30893</th>\n",
       "      <td>I heard this of this short story about a man who spends his night asking a girl who comes out her door and she feels forced into doing it by this guy verbally abusing her outside her door. She eve...</td>\n",
       "      <td></td>\n",
       "      <td>carlpoppa618II</td>\n",
       "      <td>2021-12-16 01:09:51</td>\n",
       "      <td>shortscarystories</td>\n",
       "      <td>0</td>\n",
       "      <td>0</td>\n",
       "      <td>0</td>\n",
       "      <td>0</td>\n",
       "      <td>60</td>\n",
       "    </tr>\n",
       "    <tr>\n",
       "      <th>20427</th>\n",
       "      <td>Title: COVID-19. I wrote this a little while back, and have just found this sub reddit. Idk the culture here, so this is gonna be just how I write and recite. I try to break it in ways that can be...</td>\n",
       "      <td>Front lines have become local And we got new soldiers In scrubs and white coats and They trying to save the lives of the people Still low on the PPE for the professionals How come THEY have it una...</td>\n",
       "      <td>chill-_-monkey</td>\n",
       "      <td>2020-11-29 04:42:07</td>\n",
       "      <td>OCPoetry</td>\n",
       "      <td>26</td>\n",
       "      <td>0</td>\n",
       "      <td>97</td>\n",
       "      <td>0</td>\n",
       "      <td>59</td>\n",
       "    </tr>\n",
       "    <tr>\n",
       "      <th>26821</th>\n",
       "      <td>Hello. I'm Santimental, but you can call me just San. I'm usually a story writer, but still a storyteller. I found some muse for writing, and defining it as my poetry was the closest way for me to...</td>\n",
       "      <td>My meaning? Soul. Not purpose. Meaning. The thing, striving after which things make just that bit more sense. It satisfies that itch for something that doesn't exist. How do you make meaning, soul...</td>\n",
       "      <td>Santimental</td>\n",
       "      <td>2020-07-02 08:10:42</td>\n",
       "      <td>OCPoetry</td>\n",
       "      <td>4</td>\n",
       "      <td>0</td>\n",
       "      <td>486</td>\n",
       "      <td>0</td>\n",
       "      <td>59</td>\n",
       "    </tr>\n",
       "  </tbody>\n",
       "</table>\n",
       "</div>"
      ],
      "text/plain": [
       "                                                                                                                                                                                                         title  \\\n",
       "38464  I just want to die i cant live in this house with them anymore just because i don’t want to leave my room she got 7 other CHILD why does it have to be me why do i have to do the chores why does sh...   \n",
       "38213  Hola , personas de Reddit el otro día recordé una película que ví hace muchos años que tenía un corto asiático de terror acerca de un chico que hace un ritual y acaba en otra dimensión muy bizarra...   \n",
       "30893  I heard this of this short story about a man who spends his night asking a girl who comes out her door and she feels forced into doing it by this guy verbally abusing her outside her door. She eve...   \n",
       "20427  Title: COVID-19. I wrote this a little while back, and have just found this sub reddit. Idk the culture here, so this is gonna be just how I write and recite. I try to break it in ways that can be...   \n",
       "26821  Hello. I'm Santimental, but you can call me just San. I'm usually a story writer, but still a storyteller. I found some muse for writing, and defining it as my poetry was the closest way for me to...   \n",
       "\n",
       "                                                                                                                                                                                                          text  \\\n",
       "38464                                                                                                                                                             Please if they didnt they then i wish i will   \n",
       "38213                                                                                                                                                                                                            \n",
       "30893                                                                                                                                                                                                            \n",
       "20427  Front lines have become local And we got new soldiers In scrubs and white coats and They trying to save the lives of the people Still low on the PPE for the professionals How come THEY have it una...   \n",
       "26821  My meaning? Soul. Not purpose. Meaning. The thing, striving after which things make just that bit more sense. It satisfies that itch for something that doesn't exist. How do you make meaning, soul...   \n",
       "\n",
       "                 auth                time          subreddit  new_line_chars  \\\n",
       "38464          S9_b10 2021-01-30 18:25:28  shortscarystories               0   \n",
       "38213  Key-frank-3678 2021-02-14 18:10:50  shortscarystories               0   \n",
       "30893  carlpoppa618II 2021-12-16 01:09:51  shortscarystories               0   \n",
       "20427  chill-_-monkey 2020-11-29 04:42:07           OCPoetry              26   \n",
       "26821     Santimental 2020-07-02 08:10:42           OCPoetry               4   \n",
       "\n",
       "       tab_chars  space_chars  zws_chars  title_words  \n",
       "38464          0            9          0           63  \n",
       "38213          0            0          0           60  \n",
       "30893          0            0          0           60  \n",
       "20427          0           97          0           59  \n",
       "26821          0          486          0           59  "
      ]
     },
     "execution_count": 65,
     "metadata": {},
     "output_type": "execute_result"
    }
   ],
   "source": [
    "df.sort_values(by = 'title_words', ascending=False).head() # There are some very long titles."
   ]
  },
  {
   "cell_type": "code",
   "execution_count": 66,
   "metadata": {},
   "outputs": [],
   "source": [
    "df['text_words'] = df['text'].str.split().str.len()\n",
    "# df.sort_values(by = 'text_words', ascending=False).head()"
   ]
  },
  {
   "cell_type": "code",
   "execution_count": 67,
   "metadata": {},
   "outputs": [],
   "source": [
    "df['word_count'] = df['title_words'] + df['text_words']"
   ]
  },
  {
   "cell_type": "markdown",
   "metadata": {},
   "source": [
    "Additionally the previous whitespace features should be normalized by the word count to show the white space density. The +1 in the denominator is to avoid division by zero."
   ]
  },
  {
   "cell_type": "code",
   "execution_count": 68,
   "metadata": {},
   "outputs": [],
   "source": [
    "df.loc[:, 'new_line_chars':'zws_chars'] = df.loc[:, 'new_line_chars':'zws_chars'].div(df['text_words'] + 1, axis = 0).fillna(0)"
   ]
  },
  {
   "cell_type": "markdown",
   "metadata": {},
   "source": [
    "#### Remove posts with minimal content"
   ]
  },
  {
   "cell_type": "code",
   "execution_count": 69,
   "metadata": {},
   "outputs": [
    {
     "data": {
      "text/html": [
       "<div>\n",
       "<style scoped>\n",
       "    .dataframe tbody tr th:only-of-type {\n",
       "        vertical-align: middle;\n",
       "    }\n",
       "\n",
       "    .dataframe tbody tr th {\n",
       "        vertical-align: top;\n",
       "    }\n",
       "\n",
       "    .dataframe thead th {\n",
       "        text-align: right;\n",
       "    }\n",
       "</style>\n",
       "<table border=\"1\" class=\"dataframe\">\n",
       "  <thead>\n",
       "    <tr style=\"text-align: right;\">\n",
       "      <th></th>\n",
       "      <th>title</th>\n",
       "      <th>text</th>\n",
       "      <th>auth</th>\n",
       "      <th>time</th>\n",
       "      <th>subreddit</th>\n",
       "      <th>new_line_chars</th>\n",
       "      <th>tab_chars</th>\n",
       "      <th>space_chars</th>\n",
       "      <th>zws_chars</th>\n",
       "      <th>title_words</th>\n",
       "      <th>text_words</th>\n",
       "      <th>word_count</th>\n",
       "    </tr>\n",
       "  </thead>\n",
       "  <tbody>\n",
       "    <tr>\n",
       "      <th>71</th>\n",
       "      <td>Cheeks</td>\n",
       "      <td>[deleted]</td>\n",
       "      <td>[deleted]</td>\n",
       "      <td>2022-01-25 14:51:36</td>\n",
       "      <td>OCPoetry</td>\n",
       "      <td>0.0</td>\n",
       "      <td>0.0</td>\n",
       "      <td>0.0</td>\n",
       "      <td>0.0</td>\n",
       "      <td>1</td>\n",
       "      <td>1</td>\n",
       "      <td>2</td>\n",
       "    </tr>\n",
       "    <tr>\n",
       "      <th>335</th>\n",
       "      <td>TEST</td>\n",
       "      <td>TEST</td>\n",
       "      <td>ParadiseEngineer</td>\n",
       "      <td>2022-01-19 19:32:41</td>\n",
       "      <td>OCPoetry</td>\n",
       "      <td>0.0</td>\n",
       "      <td>0.0</td>\n",
       "      <td>0.0</td>\n",
       "      <td>0.0</td>\n",
       "      <td>1</td>\n",
       "      <td>1</td>\n",
       "      <td>2</td>\n",
       "    </tr>\n",
       "    <tr>\n",
       "      <th>847</th>\n",
       "      <td>Reflection in water</td>\n",
       "      <td>[deleted]</td>\n",
       "      <td>[deleted]</td>\n",
       "      <td>2022-01-09 15:15:01</td>\n",
       "      <td>OCPoetry</td>\n",
       "      <td>0.0</td>\n",
       "      <td>0.0</td>\n",
       "      <td>0.0</td>\n",
       "      <td>0.0</td>\n",
       "      <td>3</td>\n",
       "      <td>1</td>\n",
       "      <td>4</td>\n",
       "    </tr>\n",
       "    <tr>\n",
       "      <th>1246</th>\n",
       "      <td>New year, new me?</td>\n",
       "      <td>[deleted]</td>\n",
       "      <td>[deleted]</td>\n",
       "      <td>2022-01-01 00:29:50</td>\n",
       "      <td>OCPoetry</td>\n",
       "      <td>0.0</td>\n",
       "      <td>0.0</td>\n",
       "      <td>0.0</td>\n",
       "      <td>0.0</td>\n",
       "      <td>4</td>\n",
       "      <td>1</td>\n",
       "      <td>5</td>\n",
       "    </tr>\n",
       "    <tr>\n",
       "      <th>1283</th>\n",
       "      <td>A Man With A Gun In The Closet</td>\n",
       "      <td>[deleted]</td>\n",
       "      <td>[deleted]</td>\n",
       "      <td>2021-12-31 01:28:38</td>\n",
       "      <td>OCPoetry</td>\n",
       "      <td>0.0</td>\n",
       "      <td>0.0</td>\n",
       "      <td>0.0</td>\n",
       "      <td>0.0</td>\n",
       "      <td>8</td>\n",
       "      <td>1</td>\n",
       "      <td>9</td>\n",
       "    </tr>\n",
       "    <tr>\n",
       "      <th>...</th>\n",
       "      <td>...</td>\n",
       "      <td>...</td>\n",
       "      <td>...</td>\n",
       "      <td>...</td>\n",
       "      <td>...</td>\n",
       "      <td>...</td>\n",
       "      <td>...</td>\n",
       "      <td>...</td>\n",
       "      <td>...</td>\n",
       "      <td>...</td>\n",
       "      <td>...</td>\n",
       "      <td>...</td>\n",
       "    </tr>\n",
       "    <tr>\n",
       "      <th>57279</th>\n",
       "      <td>I am not Suicidal</td>\n",
       "      <td>[deleted]</td>\n",
       "      <td>[deleted]</td>\n",
       "      <td>2018-08-10 12:48:13</td>\n",
       "      <td>shortscarystories</td>\n",
       "      <td>0.0</td>\n",
       "      <td>0.0</td>\n",
       "      <td>0.0</td>\n",
       "      <td>0.0</td>\n",
       "      <td>4</td>\n",
       "      <td>1</td>\n",
       "      <td>5</td>\n",
       "    </tr>\n",
       "    <tr>\n",
       "      <th>57280</th>\n",
       "      <td>Overthinking</td>\n",
       "      <td>[deleted]</td>\n",
       "      <td>[deleted]</td>\n",
       "      <td>2018-08-10 07:40:30</td>\n",
       "      <td>shortscarystories</td>\n",
       "      <td>0.0</td>\n",
       "      <td>0.0</td>\n",
       "      <td>0.0</td>\n",
       "      <td>0.0</td>\n",
       "      <td>1</td>\n",
       "      <td>1</td>\n",
       "      <td>2</td>\n",
       "    </tr>\n",
       "    <tr>\n",
       "      <th>57316</th>\n",
       "      <td>Happy Birthday Hannah</td>\n",
       "      <td>\\[removed\\]</td>\n",
       "      <td>Ghettoceratops</td>\n",
       "      <td>2018-08-08 17:35:25</td>\n",
       "      <td>shortscarystories</td>\n",
       "      <td>0.0</td>\n",
       "      <td>0.0</td>\n",
       "      <td>0.0</td>\n",
       "      <td>0.0</td>\n",
       "      <td>3</td>\n",
       "      <td>1</td>\n",
       "      <td>4</td>\n",
       "    </tr>\n",
       "    <tr>\n",
       "      <th>57318</th>\n",
       "      <td>Carolines Notebooks</td>\n",
       "      <td>\\[removed\\]</td>\n",
       "      <td>minroe-mafdet</td>\n",
       "      <td>2018-08-08 17:08:51</td>\n",
       "      <td>shortscarystories</td>\n",
       "      <td>0.0</td>\n",
       "      <td>0.0</td>\n",
       "      <td>0.0</td>\n",
       "      <td>0.0</td>\n",
       "      <td>2</td>\n",
       "      <td>1</td>\n",
       "      <td>3</td>\n",
       "    </tr>\n",
       "    <tr>\n",
       "      <th>57728</th>\n",
       "      <td>Y</td>\n",
       "      <td>Y</td>\n",
       "      <td>parnaw</td>\n",
       "      <td>2018-07-10 15:34:24</td>\n",
       "      <td>shortscarystories</td>\n",
       "      <td>0.0</td>\n",
       "      <td>0.0</td>\n",
       "      <td>0.0</td>\n",
       "      <td>0.0</td>\n",
       "      <td>1</td>\n",
       "      <td>1</td>\n",
       "      <td>2</td>\n",
       "    </tr>\n",
       "  </tbody>\n",
       "</table>\n",
       "<p>1053 rows × 12 columns</p>\n",
       "</div>"
      ],
      "text/plain": [
       "                                title         text              auth  \\\n",
       "71                             Cheeks    [deleted]         [deleted]   \n",
       "335                              TEST         TEST  ParadiseEngineer   \n",
       "847               Reflection in water    [deleted]         [deleted]   \n",
       "1246                New year, new me?    [deleted]         [deleted]   \n",
       "1283   A Man With A Gun In The Closet    [deleted]         [deleted]   \n",
       "...                               ...          ...               ...   \n",
       "57279               I am not Suicidal    [deleted]         [deleted]   \n",
       "57280                    Overthinking    [deleted]         [deleted]   \n",
       "57316           Happy Birthday Hannah  \\[removed\\]    Ghettoceratops   \n",
       "57318             Carolines Notebooks  \\[removed\\]     minroe-mafdet   \n",
       "57728                               Y            Y            parnaw   \n",
       "\n",
       "                     time          subreddit  new_line_chars  tab_chars  \\\n",
       "71    2022-01-25 14:51:36           OCPoetry             0.0        0.0   \n",
       "335   2022-01-19 19:32:41           OCPoetry             0.0        0.0   \n",
       "847   2022-01-09 15:15:01           OCPoetry             0.0        0.0   \n",
       "1246  2022-01-01 00:29:50           OCPoetry             0.0        0.0   \n",
       "1283  2021-12-31 01:28:38           OCPoetry             0.0        0.0   \n",
       "...                   ...                ...             ...        ...   \n",
       "57279 2018-08-10 12:48:13  shortscarystories             0.0        0.0   \n",
       "57280 2018-08-10 07:40:30  shortscarystories             0.0        0.0   \n",
       "57316 2018-08-08 17:35:25  shortscarystories             0.0        0.0   \n",
       "57318 2018-08-08 17:08:51  shortscarystories             0.0        0.0   \n",
       "57728 2018-07-10 15:34:24  shortscarystories             0.0        0.0   \n",
       "\n",
       "       space_chars  zws_chars  title_words  text_words  word_count  \n",
       "71             0.0        0.0            1           1           2  \n",
       "335            0.0        0.0            1           1           2  \n",
       "847            0.0        0.0            3           1           4  \n",
       "1246           0.0        0.0            4           1           5  \n",
       "1283           0.0        0.0            8           1           9  \n",
       "...            ...        ...          ...         ...         ...  \n",
       "57279          0.0        0.0            4           1           5  \n",
       "57280          0.0        0.0            1           1           2  \n",
       "57316          0.0        0.0            3           1           4  \n",
       "57318          0.0        0.0            2           1           3  \n",
       "57728          0.0        0.0            1           1           2  \n",
       "\n",
       "[1053 rows x 12 columns]"
      ]
     },
     "execution_count": 69,
     "metadata": {},
     "output_type": "execute_result"
    }
   ],
   "source": [
    "df.query('text_words == 1')"
   ]
  },
  {
   "cell_type": "markdown",
   "metadata": {},
   "source": [
    "1016 posts are marked as deleted - I will drop these from the data set."
   ]
  },
  {
   "cell_type": "code",
   "execution_count": 70,
   "metadata": {},
   "outputs": [
    {
     "data": {
      "text/html": [
       "<div>\n",
       "<style scoped>\n",
       "    .dataframe tbody tr th:only-of-type {\n",
       "        vertical-align: middle;\n",
       "    }\n",
       "\n",
       "    .dataframe tbody tr th {\n",
       "        vertical-align: top;\n",
       "    }\n",
       "\n",
       "    .dataframe thead th {\n",
       "        text-align: right;\n",
       "    }\n",
       "</style>\n",
       "<table border=\"1\" class=\"dataframe\">\n",
       "  <thead>\n",
       "    <tr style=\"text-align: right;\">\n",
       "      <th></th>\n",
       "      <th>title</th>\n",
       "      <th>text</th>\n",
       "      <th>auth</th>\n",
       "      <th>time</th>\n",
       "      <th>subreddit</th>\n",
       "      <th>new_line_chars</th>\n",
       "      <th>tab_chars</th>\n",
       "      <th>space_chars</th>\n",
       "      <th>zws_chars</th>\n",
       "      <th>title_words</th>\n",
       "      <th>text_words</th>\n",
       "      <th>word_count</th>\n",
       "    </tr>\n",
       "  </thead>\n",
       "  <tbody>\n",
       "    <tr>\n",
       "      <th>71</th>\n",
       "      <td>Cheeks</td>\n",
       "      <td>[deleted]</td>\n",
       "      <td>[deleted]</td>\n",
       "      <td>2022-01-25 14:51:36</td>\n",
       "      <td>OCPoetry</td>\n",
       "      <td>0.0</td>\n",
       "      <td>0.0</td>\n",
       "      <td>0.0</td>\n",
       "      <td>0.0</td>\n",
       "      <td>1</td>\n",
       "      <td>1</td>\n",
       "      <td>2</td>\n",
       "    </tr>\n",
       "    <tr>\n",
       "      <th>847</th>\n",
       "      <td>Reflection in water</td>\n",
       "      <td>[deleted]</td>\n",
       "      <td>[deleted]</td>\n",
       "      <td>2022-01-09 15:15:01</td>\n",
       "      <td>OCPoetry</td>\n",
       "      <td>0.0</td>\n",
       "      <td>0.0</td>\n",
       "      <td>0.0</td>\n",
       "      <td>0.0</td>\n",
       "      <td>3</td>\n",
       "      <td>1</td>\n",
       "      <td>4</td>\n",
       "    </tr>\n",
       "    <tr>\n",
       "      <th>1246</th>\n",
       "      <td>New year, new me?</td>\n",
       "      <td>[deleted]</td>\n",
       "      <td>[deleted]</td>\n",
       "      <td>2022-01-01 00:29:50</td>\n",
       "      <td>OCPoetry</td>\n",
       "      <td>0.0</td>\n",
       "      <td>0.0</td>\n",
       "      <td>0.0</td>\n",
       "      <td>0.0</td>\n",
       "      <td>4</td>\n",
       "      <td>1</td>\n",
       "      <td>5</td>\n",
       "    </tr>\n",
       "    <tr>\n",
       "      <th>1283</th>\n",
       "      <td>A Man With A Gun In The Closet</td>\n",
       "      <td>[deleted]</td>\n",
       "      <td>[deleted]</td>\n",
       "      <td>2021-12-31 01:28:38</td>\n",
       "      <td>OCPoetry</td>\n",
       "      <td>0.0</td>\n",
       "      <td>0.0</td>\n",
       "      <td>0.0</td>\n",
       "      <td>0.0</td>\n",
       "      <td>8</td>\n",
       "      <td>1</td>\n",
       "      <td>9</td>\n",
       "    </tr>\n",
       "    <tr>\n",
       "      <th>1358</th>\n",
       "      <td>Sehar</td>\n",
       "      <td>[deleted]</td>\n",
       "      <td>[deleted]</td>\n",
       "      <td>2021-12-29 13:21:22</td>\n",
       "      <td>OCPoetry</td>\n",
       "      <td>0.0</td>\n",
       "      <td>0.0</td>\n",
       "      <td>0.0</td>\n",
       "      <td>0.0</td>\n",
       "      <td>1</td>\n",
       "      <td>1</td>\n",
       "      <td>2</td>\n",
       "    </tr>\n",
       "    <tr>\n",
       "      <th>...</th>\n",
       "      <td>...</td>\n",
       "      <td>...</td>\n",
       "      <td>...</td>\n",
       "      <td>...</td>\n",
       "      <td>...</td>\n",
       "      <td>...</td>\n",
       "      <td>...</td>\n",
       "      <td>...</td>\n",
       "      <td>...</td>\n",
       "      <td>...</td>\n",
       "      <td>...</td>\n",
       "      <td>...</td>\n",
       "    </tr>\n",
       "    <tr>\n",
       "      <th>57267</th>\n",
       "      <td>Failure.</td>\n",
       "      <td>[deleted]</td>\n",
       "      <td>[deleted]</td>\n",
       "      <td>2018-08-10 21:53:17</td>\n",
       "      <td>shortscarystories</td>\n",
       "      <td>0.0</td>\n",
       "      <td>0.0</td>\n",
       "      <td>0.0</td>\n",
       "      <td>0.0</td>\n",
       "      <td>1</td>\n",
       "      <td>1</td>\n",
       "      <td>2</td>\n",
       "    </tr>\n",
       "    <tr>\n",
       "      <th>57268</th>\n",
       "      <td>Adventurous spirits</td>\n",
       "      <td>[deleted]</td>\n",
       "      <td>[deleted]</td>\n",
       "      <td>2018-08-10 20:20:55</td>\n",
       "      <td>shortscarystories</td>\n",
       "      <td>0.0</td>\n",
       "      <td>0.0</td>\n",
       "      <td>0.0</td>\n",
       "      <td>0.0</td>\n",
       "      <td>2</td>\n",
       "      <td>1</td>\n",
       "      <td>3</td>\n",
       "    </tr>\n",
       "    <tr>\n",
       "      <th>57275</th>\n",
       "      <td>Next Level</td>\n",
       "      <td>[deleted]</td>\n",
       "      <td>[deleted]</td>\n",
       "      <td>2018-08-10 14:06:49</td>\n",
       "      <td>shortscarystories</td>\n",
       "      <td>0.0</td>\n",
       "      <td>0.0</td>\n",
       "      <td>0.0</td>\n",
       "      <td>0.0</td>\n",
       "      <td>2</td>\n",
       "      <td>1</td>\n",
       "      <td>3</td>\n",
       "    </tr>\n",
       "    <tr>\n",
       "      <th>57279</th>\n",
       "      <td>I am not Suicidal</td>\n",
       "      <td>[deleted]</td>\n",
       "      <td>[deleted]</td>\n",
       "      <td>2018-08-10 12:48:13</td>\n",
       "      <td>shortscarystories</td>\n",
       "      <td>0.0</td>\n",
       "      <td>0.0</td>\n",
       "      <td>0.0</td>\n",
       "      <td>0.0</td>\n",
       "      <td>4</td>\n",
       "      <td>1</td>\n",
       "      <td>5</td>\n",
       "    </tr>\n",
       "    <tr>\n",
       "      <th>57280</th>\n",
       "      <td>Overthinking</td>\n",
       "      <td>[deleted]</td>\n",
       "      <td>[deleted]</td>\n",
       "      <td>2018-08-10 07:40:30</td>\n",
       "      <td>shortscarystories</td>\n",
       "      <td>0.0</td>\n",
       "      <td>0.0</td>\n",
       "      <td>0.0</td>\n",
       "      <td>0.0</td>\n",
       "      <td>1</td>\n",
       "      <td>1</td>\n",
       "      <td>2</td>\n",
       "    </tr>\n",
       "  </tbody>\n",
       "</table>\n",
       "<p>1016 rows × 12 columns</p>\n",
       "</div>"
      ],
      "text/plain": [
       "                                title       text       auth  \\\n",
       "71                             Cheeks  [deleted]  [deleted]   \n",
       "847               Reflection in water  [deleted]  [deleted]   \n",
       "1246                New year, new me?  [deleted]  [deleted]   \n",
       "1283   A Man With A Gun In The Closet  [deleted]  [deleted]   \n",
       "1358                            Sehar  [deleted]  [deleted]   \n",
       "...                               ...        ...        ...   \n",
       "57267                        Failure.  [deleted]  [deleted]   \n",
       "57268             Adventurous spirits  [deleted]  [deleted]   \n",
       "57275                      Next Level  [deleted]  [deleted]   \n",
       "57279               I am not Suicidal  [deleted]  [deleted]   \n",
       "57280                    Overthinking  [deleted]  [deleted]   \n",
       "\n",
       "                     time          subreddit  new_line_chars  tab_chars  \\\n",
       "71    2022-01-25 14:51:36           OCPoetry             0.0        0.0   \n",
       "847   2022-01-09 15:15:01           OCPoetry             0.0        0.0   \n",
       "1246  2022-01-01 00:29:50           OCPoetry             0.0        0.0   \n",
       "1283  2021-12-31 01:28:38           OCPoetry             0.0        0.0   \n",
       "1358  2021-12-29 13:21:22           OCPoetry             0.0        0.0   \n",
       "...                   ...                ...             ...        ...   \n",
       "57267 2018-08-10 21:53:17  shortscarystories             0.0        0.0   \n",
       "57268 2018-08-10 20:20:55  shortscarystories             0.0        0.0   \n",
       "57275 2018-08-10 14:06:49  shortscarystories             0.0        0.0   \n",
       "57279 2018-08-10 12:48:13  shortscarystories             0.0        0.0   \n",
       "57280 2018-08-10 07:40:30  shortscarystories             0.0        0.0   \n",
       "\n",
       "       space_chars  zws_chars  title_words  text_words  word_count  \n",
       "71             0.0        0.0            1           1           2  \n",
       "847            0.0        0.0            3           1           4  \n",
       "1246           0.0        0.0            4           1           5  \n",
       "1283           0.0        0.0            8           1           9  \n",
       "1358           0.0        0.0            1           1           2  \n",
       "...            ...        ...          ...         ...         ...  \n",
       "57267          0.0        0.0            1           1           2  \n",
       "57268          0.0        0.0            2           1           3  \n",
       "57275          0.0        0.0            2           1           3  \n",
       "57279          0.0        0.0            4           1           5  \n",
       "57280          0.0        0.0            1           1           2  \n",
       "\n",
       "[1016 rows x 12 columns]"
      ]
     },
     "execution_count": 70,
     "metadata": {},
     "output_type": "execute_result"
    }
   ],
   "source": [
    "df.query('text == \"[deleted]\"')"
   ]
  },
  {
   "cell_type": "code",
   "execution_count": 71,
   "metadata": {},
   "outputs": [],
   "source": [
    "df.query('text != \"[deleted]\"', inplace = True)"
   ]
  },
  {
   "cell_type": "markdown",
   "metadata": {},
   "source": [
    "##### Other short posts"
   ]
  },
  {
   "cell_type": "code",
   "execution_count": 72,
   "metadata": {},
   "outputs": [
    {
     "data": {
      "text/html": [
       "<div>\n",
       "<style scoped>\n",
       "    .dataframe tbody tr th:only-of-type {\n",
       "        vertical-align: middle;\n",
       "    }\n",
       "\n",
       "    .dataframe tbody tr th {\n",
       "        vertical-align: top;\n",
       "    }\n",
       "\n",
       "    .dataframe thead th {\n",
       "        text-align: right;\n",
       "    }\n",
       "</style>\n",
       "<table border=\"1\" class=\"dataframe\">\n",
       "  <thead>\n",
       "    <tr style=\"text-align: right;\">\n",
       "      <th></th>\n",
       "      <th>title</th>\n",
       "      <th>text</th>\n",
       "      <th>auth</th>\n",
       "      <th>time</th>\n",
       "      <th>subreddit</th>\n",
       "      <th>new_line_chars</th>\n",
       "      <th>tab_chars</th>\n",
       "      <th>space_chars</th>\n",
       "      <th>zws_chars</th>\n",
       "      <th>title_words</th>\n",
       "      <th>text_words</th>\n",
       "      <th>word_count</th>\n",
       "    </tr>\n",
       "  </thead>\n",
       "  <tbody>\n",
       "    <tr>\n",
       "      <th>52654</th>\n",
       "      <td>Found A Cool Video Of Scary Stories On Reddit!</td>\n",
       "      <td>pretty scary stuff</td>\n",
       "      <td>MichalWilk17</td>\n",
       "      <td>2019-06-12 21:30:37</td>\n",
       "      <td>shortscarystories</td>\n",
       "      <td>0.5</td>\n",
       "      <td>0.0</td>\n",
       "      <td>0.500000</td>\n",
       "      <td>0.0</td>\n",
       "      <td>9</td>\n",
       "      <td>3</td>\n",
       "      <td>12</td>\n",
       "    </tr>\n",
       "    <tr>\n",
       "      <th>18305</th>\n",
       "      <td>“Where Do We Go?” [@onealexvon]</td>\n",
       "      <td></td>\n",
       "      <td>onealexvon</td>\n",
       "      <td>2021-01-04 21:33:00</td>\n",
       "      <td>OCPoetry</td>\n",
       "      <td>0.0</td>\n",
       "      <td>0.0</td>\n",
       "      <td>1.000000</td>\n",
       "      <td>0.0</td>\n",
       "      <td>5</td>\n",
       "      <td>0</td>\n",
       "      <td>5</td>\n",
       "    </tr>\n",
       "    <tr>\n",
       "      <th>36736</th>\n",
       "      <td>At the most common people we last to say about to say, that the line ghost wasn't there. This contry are most chili 42424w14q1eydgydgfygcdtr</td>\n",
       "      <td></td>\n",
       "      <td>Google_Memes_For_All</td>\n",
       "      <td>2021-05-05 23:02:00</td>\n",
       "      <td>shortscarystories</td>\n",
       "      <td>0.0</td>\n",
       "      <td>0.0</td>\n",
       "      <td>0.000000</td>\n",
       "      <td>0.0</td>\n",
       "      <td>24</td>\n",
       "      <td>0</td>\n",
       "      <td>24</td>\n",
       "    </tr>\n",
       "    <tr>\n",
       "      <th>50903</th>\n",
       "      <td>The scariest of stories</td>\n",
       "      <td>My life</td>\n",
       "      <td>SamCat_011</td>\n",
       "      <td>2019-09-18 22:52:14</td>\n",
       "      <td>shortscarystories</td>\n",
       "      <td>0.0</td>\n",
       "      <td>0.0</td>\n",
       "      <td>0.333333</td>\n",
       "      <td>0.0</td>\n",
       "      <td>4</td>\n",
       "      <td>2</td>\n",
       "      <td>6</td>\n",
       "    </tr>\n",
       "    <tr>\n",
       "      <th>56045</th>\n",
       "      <td>FUCK</td>\n",
       "      <td>FUCK</td>\n",
       "      <td>I_ONLY_COMMENT_FUCK</td>\n",
       "      <td>2018-10-31 14:26:13</td>\n",
       "      <td>shortscarystories</td>\n",
       "      <td>9.0</td>\n",
       "      <td>0.0</td>\n",
       "      <td>0.000000</td>\n",
       "      <td>0.0</td>\n",
       "      <td>1</td>\n",
       "      <td>1</td>\n",
       "      <td>2</td>\n",
       "    </tr>\n",
       "    <tr>\n",
       "      <th>48256</th>\n",
       "      <td>super scary dont read</td>\n",
       "      <td>BOOOOOOOOOOOOOOOOOOOOOOOOOOOOOOOOOOOOOOOOOOOOOOOOOOOOOOOOOOOOOOOOOOOOOOOOOOOOOOO</td>\n",
       "      <td>illegalmidget</td>\n",
       "      <td>2020-01-29 17:31:33</td>\n",
       "      <td>shortscarystories</td>\n",
       "      <td>0.0</td>\n",
       "      <td>0.0</td>\n",
       "      <td>0.500000</td>\n",
       "      <td>0.0</td>\n",
       "      <td>4</td>\n",
       "      <td>1</td>\n",
       "      <td>5</td>\n",
       "    </tr>\n",
       "    <tr>\n",
       "      <th>54286</th>\n",
       "      <td>The Legend of Akashaa</td>\n",
       "      <td></td>\n",
       "      <td>WekiTheDragon13</td>\n",
       "      <td>2019-02-25 07:17:51</td>\n",
       "      <td>shortscarystories</td>\n",
       "      <td>0.0</td>\n",
       "      <td>0.0</td>\n",
       "      <td>0.000000</td>\n",
       "      <td>0.0</td>\n",
       "      <td>4</td>\n",
       "      <td>0</td>\n",
       "      <td>4</td>\n",
       "    </tr>\n",
       "    <tr>\n",
       "      <th>40651</th>\n",
       "      <td>Creepy Story Of a depressed girl</td>\n",
       "      <td></td>\n",
       "      <td>gezelex</td>\n",
       "      <td>2020-11-14 15:08:02</td>\n",
       "      <td>shortscarystories</td>\n",
       "      <td>0.0</td>\n",
       "      <td>0.0</td>\n",
       "      <td>0.000000</td>\n",
       "      <td>0.0</td>\n",
       "      <td>6</td>\n",
       "      <td>0</td>\n",
       "      <td>6</td>\n",
       "    </tr>\n",
       "    <tr>\n",
       "      <th>22823</th>\n",
       "      <td>Big Furry Monster Hands</td>\n",
       "      <td></td>\n",
       "      <td>phriendlysciguy</td>\n",
       "      <td>2020-10-08 19:16:48</td>\n",
       "      <td>OCPoetry</td>\n",
       "      <td>0.0</td>\n",
       "      <td>0.0</td>\n",
       "      <td>0.000000</td>\n",
       "      <td>0.0</td>\n",
       "      <td>4</td>\n",
       "      <td>0</td>\n",
       "      <td>4</td>\n",
       "    </tr>\n",
       "    <tr>\n",
       "      <th>29699</th>\n",
       "      <td>Depressed</td>\n",
       "      <td></td>\n",
       "      <td>RamenRamen1</td>\n",
       "      <td>2020-04-20 19:03:50</td>\n",
       "      <td>OCPoetry</td>\n",
       "      <td>0.0</td>\n",
       "      <td>0.0</td>\n",
       "      <td>0.000000</td>\n",
       "      <td>0.0</td>\n",
       "      <td>1</td>\n",
       "      <td>0</td>\n",
       "      <td>1</td>\n",
       "    </tr>\n",
       "  </tbody>\n",
       "</table>\n",
       "</div>"
      ],
      "text/plain": [
       "                                                                                                                                              title  \\\n",
       "52654                                                                                                Found A Cool Video Of Scary Stories On Reddit!   \n",
       "18305                                                                                                               “Where Do We Go?” [@onealexvon]   \n",
       "36736  At the most common people we last to say about to say, that the line ghost wasn't there. This contry are most chili 42424w14q1eydgydgfygcdtr   \n",
       "50903                                                                                                                       The scariest of stories   \n",
       "56045                                                                                                                                          FUCK   \n",
       "48256                                                                                                                         super scary dont read   \n",
       "54286                                                                                                                         The Legend of Akashaa   \n",
       "40651                                                                                                              Creepy Story Of a depressed girl   \n",
       "22823                                                                                                                       Big Furry Monster Hands   \n",
       "29699                                                                                                                                     Depressed   \n",
       "\n",
       "                                                                                   text  \\\n",
       "52654                                                                pretty scary stuff   \n",
       "18305                                                                                     \n",
       "36736                                                                                     \n",
       "50903                                                                           My life   \n",
       "56045                                                                              FUCK   \n",
       "48256  BOOOOOOOOOOOOOOOOOOOOOOOOOOOOOOOOOOOOOOOOOOOOOOOOOOOOOOOOOOOOOOOOOOOOOOOOOOOOOOO   \n",
       "54286                                                                                     \n",
       "40651                                                                                     \n",
       "22823                                                                                     \n",
       "29699                                                                                     \n",
       "\n",
       "                       auth                time          subreddit  \\\n",
       "52654          MichalWilk17 2019-06-12 21:30:37  shortscarystories   \n",
       "18305            onealexvon 2021-01-04 21:33:00           OCPoetry   \n",
       "36736  Google_Memes_For_All 2021-05-05 23:02:00  shortscarystories   \n",
       "50903            SamCat_011 2019-09-18 22:52:14  shortscarystories   \n",
       "56045   I_ONLY_COMMENT_FUCK 2018-10-31 14:26:13  shortscarystories   \n",
       "48256         illegalmidget 2020-01-29 17:31:33  shortscarystories   \n",
       "54286       WekiTheDragon13 2019-02-25 07:17:51  shortscarystories   \n",
       "40651               gezelex 2020-11-14 15:08:02  shortscarystories   \n",
       "22823       phriendlysciguy 2020-10-08 19:16:48           OCPoetry   \n",
       "29699           RamenRamen1 2020-04-20 19:03:50           OCPoetry   \n",
       "\n",
       "       new_line_chars  tab_chars  space_chars  zws_chars  title_words  \\\n",
       "52654             0.5        0.0     0.500000        0.0            9   \n",
       "18305             0.0        0.0     1.000000        0.0            5   \n",
       "36736             0.0        0.0     0.000000        0.0           24   \n",
       "50903             0.0        0.0     0.333333        0.0            4   \n",
       "56045             9.0        0.0     0.000000        0.0            1   \n",
       "48256             0.0        0.0     0.500000        0.0            4   \n",
       "54286             0.0        0.0     0.000000        0.0            4   \n",
       "40651             0.0        0.0     0.000000        0.0            6   \n",
       "22823             0.0        0.0     0.000000        0.0            4   \n",
       "29699             0.0        0.0     0.000000        0.0            1   \n",
       "\n",
       "       text_words  word_count  \n",
       "52654           3          12  \n",
       "18305           0           5  \n",
       "36736           0          24  \n",
       "50903           2           6  \n",
       "56045           1           2  \n",
       "48256           1           5  \n",
       "54286           0           4  \n",
       "40651           0           6  \n",
       "22823           0           4  \n",
       "29699           0           1  "
      ]
     },
     "execution_count": 72,
     "metadata": {},
     "output_type": "execute_result"
    }
   ],
   "source": [
    "df.query('text_words <= 5').sample(10)"
   ]
  },
  {
   "cell_type": "markdown",
   "metadata": {},
   "source": [
    "Posts with few words often are test posts or are primarily discussing a deleted link. \n",
    "Since it is hard to write a genuine poem or story in such few words and it is also difficult for an NLP model to analyze posts I will remove them from the data set.\n",
    "While the threshold for number of words is some what arbitrary, it seems like posts with 5 or fewer owrds are rarely genuiune so in honor of [Ernest Hemingway](https://www.openculture.com/2015/03/the-urban-legend-of-ernest-hemingways-six-word-story.html) I will set the cutoff at 6 words in the text and title combined."
   ]
  },
  {
   "cell_type": "code",
   "execution_count": 73,
   "metadata": {},
   "outputs": [
    {
     "data": {
      "text/html": [
       "<div>\n",
       "<style scoped>\n",
       "    .dataframe tbody tr th:only-of-type {\n",
       "        vertical-align: middle;\n",
       "    }\n",
       "\n",
       "    .dataframe tbody tr th {\n",
       "        vertical-align: top;\n",
       "    }\n",
       "\n",
       "    .dataframe thead th {\n",
       "        text-align: right;\n",
       "    }\n",
       "</style>\n",
       "<table border=\"1\" class=\"dataframe\">\n",
       "  <thead>\n",
       "    <tr style=\"text-align: right;\">\n",
       "      <th></th>\n",
       "      <th>title</th>\n",
       "      <th>text</th>\n",
       "      <th>auth</th>\n",
       "      <th>time</th>\n",
       "      <th>subreddit</th>\n",
       "      <th>new_line_chars</th>\n",
       "      <th>tab_chars</th>\n",
       "      <th>space_chars</th>\n",
       "      <th>zws_chars</th>\n",
       "      <th>title_words</th>\n",
       "      <th>text_words</th>\n",
       "      <th>word_count</th>\n",
       "    </tr>\n",
       "  </thead>\n",
       "  <tbody>\n",
       "    <tr>\n",
       "      <th>29699</th>\n",
       "      <td>Depressed</td>\n",
       "      <td></td>\n",
       "      <td>RamenRamen1</td>\n",
       "      <td>2020-04-20 19:03:50</td>\n",
       "      <td>OCPoetry</td>\n",
       "      <td>0.0</td>\n",
       "      <td>0.0</td>\n",
       "      <td>0.000000</td>\n",
       "      <td>0.0</td>\n",
       "      <td>1</td>\n",
       "      <td>0</td>\n",
       "      <td>1</td>\n",
       "    </tr>\n",
       "    <tr>\n",
       "      <th>38089</th>\n",
       "      <td>Furieux</td>\n",
       "      <td>Furieux http://gamahucherpress.yellowgum.com/wp-content/uploads/Furieux.pdf or</td>\n",
       "      <td>qiling</td>\n",
       "      <td>2021-02-21 01:16:27</td>\n",
       "      <td>shortscarystories</td>\n",
       "      <td>1.5</td>\n",
       "      <td>0.0</td>\n",
       "      <td>0.000000</td>\n",
       "      <td>0.0</td>\n",
       "      <td>1</td>\n",
       "      <td>3</td>\n",
       "      <td>4</td>\n",
       "    </tr>\n",
       "    <tr>\n",
       "      <th>34787</th>\n",
       "      <td>INVESTIGATING THE DEMON CHURCH</td>\n",
       "      <td></td>\n",
       "      <td>nightmarereststop</td>\n",
       "      <td>2021-07-19 17:18:02</td>\n",
       "      <td>shortscarystories</td>\n",
       "      <td>0.0</td>\n",
       "      <td>0.0</td>\n",
       "      <td>0.000000</td>\n",
       "      <td>0.0</td>\n",
       "      <td>4</td>\n",
       "      <td>0</td>\n",
       "      <td>4</td>\n",
       "    </tr>\n",
       "    <tr>\n",
       "      <th>10610</th>\n",
       "      <td>Steer queen</td>\n",
       "      <td></td>\n",
       "      <td>JJillusioniST</td>\n",
       "      <td>2021-06-03 15:21:09</td>\n",
       "      <td>OCPoetry</td>\n",
       "      <td>0.0</td>\n",
       "      <td>0.0</td>\n",
       "      <td>0.000000</td>\n",
       "      <td>0.0</td>\n",
       "      <td>2</td>\n",
       "      <td>0</td>\n",
       "      <td>2</td>\n",
       "    </tr>\n",
       "    <tr>\n",
       "      <th>15467</th>\n",
       "      <td>white room (LSD)</td>\n",
       "      <td>[white</td>\n",
       "      <td>rq9xt</td>\n",
       "      <td>2021-02-19 10:58:17</td>\n",
       "      <td>OCPoetry</td>\n",
       "      <td>2.5</td>\n",
       "      <td>0.0</td>\n",
       "      <td>0.500000</td>\n",
       "      <td>0.0</td>\n",
       "      <td>3</td>\n",
       "      <td>1</td>\n",
       "      <td>4</td>\n",
       "    </tr>\n",
       "    <tr>\n",
       "      <th>48217</th>\n",
       "      <td>Horror story</td>\n",
       "      <td>Any one ?</td>\n",
       "      <td>il0vem0ney</td>\n",
       "      <td>2020-01-31 19:38:12</td>\n",
       "      <td>shortscarystories</td>\n",
       "      <td>0.0</td>\n",
       "      <td>0.0</td>\n",
       "      <td>0.500000</td>\n",
       "      <td>0.0</td>\n",
       "      <td>2</td>\n",
       "      <td>3</td>\n",
       "      <td>5</td>\n",
       "    </tr>\n",
       "    <tr>\n",
       "      <th>54286</th>\n",
       "      <td>The Legend of Akashaa</td>\n",
       "      <td></td>\n",
       "      <td>WekiTheDragon13</td>\n",
       "      <td>2019-02-25 07:17:51</td>\n",
       "      <td>shortscarystories</td>\n",
       "      <td>0.0</td>\n",
       "      <td>0.0</td>\n",
       "      <td>0.000000</td>\n",
       "      <td>0.0</td>\n",
       "      <td>4</td>\n",
       "      <td>0</td>\n",
       "      <td>4</td>\n",
       "    </tr>\n",
       "    <tr>\n",
       "      <th>34582</th>\n",
       "      <td>THIS LOCATION IS CURSED</td>\n",
       "      <td></td>\n",
       "      <td>nightmarereststop</td>\n",
       "      <td>2021-07-26 17:18:36</td>\n",
       "      <td>shortscarystories</td>\n",
       "      <td>0.0</td>\n",
       "      <td>0.0</td>\n",
       "      <td>0.000000</td>\n",
       "      <td>0.0</td>\n",
       "      <td>4</td>\n",
       "      <td>0</td>\n",
       "      <td>4</td>\n",
       "    </tr>\n",
       "    <tr>\n",
       "      <th>23577</th>\n",
       "      <td>test</td>\n",
       "      <td>test</td>\n",
       "      <td>PseudoangelGabriel</td>\n",
       "      <td>2020-09-18 21:12:06</td>\n",
       "      <td>OCPoetry</td>\n",
       "      <td>2.0</td>\n",
       "      <td>0.0</td>\n",
       "      <td>0.000000</td>\n",
       "      <td>0.0</td>\n",
       "      <td>1</td>\n",
       "      <td>1</td>\n",
       "      <td>2</td>\n",
       "    </tr>\n",
       "    <tr>\n",
       "      <th>56193</th>\n",
       "      <td>Grimm's War!</td>\n",
       "      <td>Check this</td>\n",
       "      <td>Grimmswaeoffical</td>\n",
       "      <td>2018-10-21 17:11:43</td>\n",
       "      <td>shortscarystories</td>\n",
       "      <td>0.0</td>\n",
       "      <td>0.0</td>\n",
       "      <td>0.666667</td>\n",
       "      <td>0.0</td>\n",
       "      <td>2</td>\n",
       "      <td>2</td>\n",
       "      <td>4</td>\n",
       "    </tr>\n",
       "  </tbody>\n",
       "</table>\n",
       "</div>"
      ],
      "text/plain": [
       "                                title  \\\n",
       "29699                       Depressed   \n",
       "38089                         Furieux   \n",
       "34787  INVESTIGATING THE DEMON CHURCH   \n",
       "10610                     Steer queen   \n",
       "15467                white room (LSD)   \n",
       "48217                    Horror story   \n",
       "54286           The Legend of Akashaa   \n",
       "34582         THIS LOCATION IS CURSED   \n",
       "23577                            test   \n",
       "56193                    Grimm's War!   \n",
       "\n",
       "                                                                                 text  \\\n",
       "29699                                                                                   \n",
       "38089  Furieux http://gamahucherpress.yellowgum.com/wp-content/uploads/Furieux.pdf or   \n",
       "34787                                                                                   \n",
       "10610                                                                                   \n",
       "15467                                                                          [white   \n",
       "48217                                                                       Any one ?   \n",
       "54286                                                                                   \n",
       "34582                                                                                   \n",
       "23577                                                                            test   \n",
       "56193                                                                      Check this   \n",
       "\n",
       "                     auth                time          subreddit  \\\n",
       "29699         RamenRamen1 2020-04-20 19:03:50           OCPoetry   \n",
       "38089              qiling 2021-02-21 01:16:27  shortscarystories   \n",
       "34787   nightmarereststop 2021-07-19 17:18:02  shortscarystories   \n",
       "10610       JJillusioniST 2021-06-03 15:21:09           OCPoetry   \n",
       "15467               rq9xt 2021-02-19 10:58:17           OCPoetry   \n",
       "48217          il0vem0ney 2020-01-31 19:38:12  shortscarystories   \n",
       "54286     WekiTheDragon13 2019-02-25 07:17:51  shortscarystories   \n",
       "34582   nightmarereststop 2021-07-26 17:18:36  shortscarystories   \n",
       "23577  PseudoangelGabriel 2020-09-18 21:12:06           OCPoetry   \n",
       "56193    Grimmswaeoffical 2018-10-21 17:11:43  shortscarystories   \n",
       "\n",
       "       new_line_chars  tab_chars  space_chars  zws_chars  title_words  \\\n",
       "29699             0.0        0.0     0.000000        0.0            1   \n",
       "38089             1.5        0.0     0.000000        0.0            1   \n",
       "34787             0.0        0.0     0.000000        0.0            4   \n",
       "10610             0.0        0.0     0.000000        0.0            2   \n",
       "15467             2.5        0.0     0.500000        0.0            3   \n",
       "48217             0.0        0.0     0.500000        0.0            2   \n",
       "54286             0.0        0.0     0.000000        0.0            4   \n",
       "34582             0.0        0.0     0.000000        0.0            4   \n",
       "23577             2.0        0.0     0.000000        0.0            1   \n",
       "56193             0.0        0.0     0.666667        0.0            2   \n",
       "\n",
       "       text_words  word_count  \n",
       "29699           0           1  \n",
       "38089           3           4  \n",
       "34787           0           4  \n",
       "10610           0           2  \n",
       "15467           1           4  \n",
       "48217           3           5  \n",
       "54286           0           4  \n",
       "34582           0           4  \n",
       "23577           1           2  \n",
       "56193           2           4  "
      ]
     },
     "execution_count": 73,
     "metadata": {},
     "output_type": "execute_result"
    }
   ],
   "source": [
    "df.query('word_count <= 5').sample(10)"
   ]
  },
  {
   "cell_type": "markdown",
   "metadata": {},
   "source": [
    "The 180 posts between 6 and 10 words have some spam but a majority seem to be legitimate poems / stories."
   ]
  },
  {
   "cell_type": "code",
   "execution_count": 74,
   "metadata": {},
   "outputs": [
    {
     "data": {
      "text/plain": [
       "(185, 12)"
      ]
     },
     "execution_count": 74,
     "metadata": {},
     "output_type": "execute_result"
    }
   ],
   "source": [
    "df.query('word_count <= 10 and word_count > 5').shape"
   ]
  },
  {
   "cell_type": "code",
   "execution_count": 75,
   "metadata": {},
   "outputs": [
    {
     "data": {
      "text/html": [
       "<div>\n",
       "<style scoped>\n",
       "    .dataframe tbody tr th:only-of-type {\n",
       "        vertical-align: middle;\n",
       "    }\n",
       "\n",
       "    .dataframe tbody tr th {\n",
       "        vertical-align: top;\n",
       "    }\n",
       "\n",
       "    .dataframe thead th {\n",
       "        text-align: right;\n",
       "    }\n",
       "</style>\n",
       "<table border=\"1\" class=\"dataframe\">\n",
       "  <thead>\n",
       "    <tr style=\"text-align: right;\">\n",
       "      <th></th>\n",
       "      <th>title</th>\n",
       "      <th>text</th>\n",
       "      <th>auth</th>\n",
       "      <th>time</th>\n",
       "      <th>subreddit</th>\n",
       "      <th>new_line_chars</th>\n",
       "      <th>tab_chars</th>\n",
       "      <th>space_chars</th>\n",
       "      <th>zws_chars</th>\n",
       "      <th>title_words</th>\n",
       "      <th>text_words</th>\n",
       "      <th>word_count</th>\n",
       "    </tr>\n",
       "  </thead>\n",
       "  <tbody>\n",
       "    <tr>\n",
       "      <th>20179</th>\n",
       "      <td>Simple Haiku</td>\n",
       "      <td>Oreos and milk Ebony and ivory Simple perfection</td>\n",
       "      <td>tbullionaire</td>\n",
       "      <td>2020-12-04 03:28:59</td>\n",
       "      <td>OCPoetry</td>\n",
       "      <td>0.222222</td>\n",
       "      <td>0.0</td>\n",
       "      <td>0.555556</td>\n",
       "      <td>0.000</td>\n",
       "      <td>2</td>\n",
       "      <td>8</td>\n",
       "      <td>10</td>\n",
       "    </tr>\n",
       "    <tr>\n",
       "      <th>9006</th>\n",
       "      <td>Goat Tower</td>\n",
       "      <td>Anassemblage manbuilt; inevitable hierarchy— up, goats loft.</td>\n",
       "      <td>beumuth</td>\n",
       "      <td>2021-07-06 06:06:14</td>\n",
       "      <td>OCPoetry</td>\n",
       "      <td>0.750000</td>\n",
       "      <td>0.0</td>\n",
       "      <td>1.875000</td>\n",
       "      <td>7.875</td>\n",
       "      <td>2</td>\n",
       "      <td>7</td>\n",
       "      <td>9</td>\n",
       "    </tr>\n",
       "    <tr>\n",
       "      <th>36910</th>\n",
       "      <td>Burma (now Myanmar) folkore</td>\n",
       "      <td>Me and YOUR MOM.</td>\n",
       "      <td>Carrotstorrac</td>\n",
       "      <td>2021-04-29 04:04:03</td>\n",
       "      <td>shortscarystories</td>\n",
       "      <td>0.000000</td>\n",
       "      <td>0.0</td>\n",
       "      <td>0.600000</td>\n",
       "      <td>0.000</td>\n",
       "      <td>4</td>\n",
       "      <td>4</td>\n",
       "      <td>8</td>\n",
       "    </tr>\n",
       "    <tr>\n",
       "      <th>52141</th>\n",
       "      <td>Case of the Yerm-Chilays</td>\n",
       "      <td>With occasional oom!-stickits. I am hungover.</td>\n",
       "      <td>dmarti21</td>\n",
       "      <td>2019-07-13 08:54:58</td>\n",
       "      <td>shortscarystories</td>\n",
       "      <td>0.000000</td>\n",
       "      <td>0.0</td>\n",
       "      <td>0.714286</td>\n",
       "      <td>0.000</td>\n",
       "      <td>4</td>\n",
       "      <td>6</td>\n",
       "      <td>10</td>\n",
       "    </tr>\n",
       "    <tr>\n",
       "      <th>31216</th>\n",
       "      <td>The post said. Selling kids’ shoes.</td>\n",
       "      <td>Not worn.</td>\n",
       "      <td>imthemoney228</td>\n",
       "      <td>2021-12-01 20:56:29</td>\n",
       "      <td>shortscarystories</td>\n",
       "      <td>0.000000</td>\n",
       "      <td>0.0</td>\n",
       "      <td>0.333333</td>\n",
       "      <td>0.000</td>\n",
       "      <td>6</td>\n",
       "      <td>2</td>\n",
       "      <td>8</td>\n",
       "    </tr>\n",
       "    <tr>\n",
       "      <th>25403</th>\n",
       "      <td>Deadline</td>\n",
       "      <td>Life only has one time limit.</td>\n",
       "      <td>MikeGelato</td>\n",
       "      <td>2020-08-06 06:38:07</td>\n",
       "      <td>OCPoetry</td>\n",
       "      <td>0.571429</td>\n",
       "      <td>0.0</td>\n",
       "      <td>0.714286</td>\n",
       "      <td>0.000</td>\n",
       "      <td>1</td>\n",
       "      <td>6</td>\n",
       "      <td>7</td>\n",
       "    </tr>\n",
       "    <tr>\n",
       "      <th>25474</th>\n",
       "      <td>To anyone that ever calls you too emotional</td>\n",
       "      <td></td>\n",
       "      <td>Raystee</td>\n",
       "      <td>2020-08-04 18:42:45</td>\n",
       "      <td>OCPoetry</td>\n",
       "      <td>0.000000</td>\n",
       "      <td>0.0</td>\n",
       "      <td>0.000000</td>\n",
       "      <td>0.000</td>\n",
       "      <td>8</td>\n",
       "      <td>0</td>\n",
       "      <td>8</td>\n",
       "    </tr>\n",
       "    <tr>\n",
       "      <th>29328</th>\n",
       "      <td>Not a poem, but a request for ideas please</td>\n",
       "      <td></td>\n",
       "      <td>lovestruck-bottom</td>\n",
       "      <td>2020-05-01 00:01:39</td>\n",
       "      <td>OCPoetry</td>\n",
       "      <td>0.000000</td>\n",
       "      <td>0.0</td>\n",
       "      <td>0.000000</td>\n",
       "      <td>0.000</td>\n",
       "      <td>9</td>\n",
       "      <td>0</td>\n",
       "      <td>9</td>\n",
       "    </tr>\n",
       "    <tr>\n",
       "      <th>3158</th>\n",
       "      <td>Death | An Original Poem</td>\n",
       "      <td>Death | An Original Poem</td>\n",
       "      <td>k_e_francis</td>\n",
       "      <td>2021-11-19 16:43:13</td>\n",
       "      <td>OCPoetry</td>\n",
       "      <td>0.333333</td>\n",
       "      <td>0.0</td>\n",
       "      <td>0.833333</td>\n",
       "      <td>0.000</td>\n",
       "      <td>5</td>\n",
       "      <td>5</td>\n",
       "      <td>10</td>\n",
       "    </tr>\n",
       "    <tr>\n",
       "      <th>20792</th>\n",
       "      <td>Pressure hit last us all in different ways</td>\n",
       "      <td>[pressure cooker</td>\n",
       "      <td>Smoothvibes32</td>\n",
       "      <td>2020-11-22 02:13:41</td>\n",
       "      <td>OCPoetry</td>\n",
       "      <td>0.000000</td>\n",
       "      <td>0.0</td>\n",
       "      <td>0.666667</td>\n",
       "      <td>0.000</td>\n",
       "      <td>8</td>\n",
       "      <td>2</td>\n",
       "      <td>10</td>\n",
       "    </tr>\n",
       "  </tbody>\n",
       "</table>\n",
       "</div>"
      ],
      "text/plain": [
       "                                             title  \\\n",
       "20179                                 Simple Haiku   \n",
       "9006                                    Goat Tower   \n",
       "36910                  Burma (now Myanmar) folkore   \n",
       "52141                     Case of the Yerm-Chilays   \n",
       "31216          The post said. Selling kids’ shoes.   \n",
       "25403                                     Deadline   \n",
       "25474  To anyone that ever calls you too emotional   \n",
       "29328   Not a poem, but a request for ideas please   \n",
       "3158                      Death | An Original Poem   \n",
       "20792   Pressure hit last us all in different ways   \n",
       "\n",
       "                                                               text  \\\n",
       "20179              Oreos and milk Ebony and ivory Simple perfection   \n",
       "9006   Anassemblage manbuilt; inevitable hierarchy— up, goats loft.   \n",
       "36910                                              Me and YOUR MOM.   \n",
       "52141                 With occasional oom!-stickits. I am hungover.   \n",
       "31216                                                     Not worn.   \n",
       "25403                                 Life only has one time limit.   \n",
       "25474                                                                 \n",
       "29328                                                                 \n",
       "3158                                       Death | An Original Poem   \n",
       "20792                                              [pressure cooker   \n",
       "\n",
       "                    auth                time          subreddit  \\\n",
       "20179       tbullionaire 2020-12-04 03:28:59           OCPoetry   \n",
       "9006             beumuth 2021-07-06 06:06:14           OCPoetry   \n",
       "36910      Carrotstorrac 2021-04-29 04:04:03  shortscarystories   \n",
       "52141           dmarti21 2019-07-13 08:54:58  shortscarystories   \n",
       "31216      imthemoney228 2021-12-01 20:56:29  shortscarystories   \n",
       "25403         MikeGelato 2020-08-06 06:38:07           OCPoetry   \n",
       "25474            Raystee 2020-08-04 18:42:45           OCPoetry   \n",
       "29328  lovestruck-bottom 2020-05-01 00:01:39           OCPoetry   \n",
       "3158         k_e_francis 2021-11-19 16:43:13           OCPoetry   \n",
       "20792      Smoothvibes32 2020-11-22 02:13:41           OCPoetry   \n",
       "\n",
       "       new_line_chars  tab_chars  space_chars  zws_chars  title_words  \\\n",
       "20179        0.222222        0.0     0.555556      0.000            2   \n",
       "9006         0.750000        0.0     1.875000      7.875            2   \n",
       "36910        0.000000        0.0     0.600000      0.000            4   \n",
       "52141        0.000000        0.0     0.714286      0.000            4   \n",
       "31216        0.000000        0.0     0.333333      0.000            6   \n",
       "25403        0.571429        0.0     0.714286      0.000            1   \n",
       "25474        0.000000        0.0     0.000000      0.000            8   \n",
       "29328        0.000000        0.0     0.000000      0.000            9   \n",
       "3158         0.333333        0.0     0.833333      0.000            5   \n",
       "20792        0.000000        0.0     0.666667      0.000            8   \n",
       "\n",
       "       text_words  word_count  \n",
       "20179           8          10  \n",
       "9006            7           9  \n",
       "36910           4           8  \n",
       "52141           6          10  \n",
       "31216           2           8  \n",
       "25403           6           7  \n",
       "25474           0           8  \n",
       "29328           0           9  \n",
       "3158            5          10  \n",
       "20792           2          10  "
      ]
     },
     "execution_count": 75,
     "metadata": {},
     "output_type": "execute_result"
    }
   ],
   "source": [
    "df.query('word_count <= 10 and word_count > 5').sample(10)"
   ]
  },
  {
   "cell_type": "code",
   "execution_count": 76,
   "metadata": {},
   "outputs": [],
   "source": [
    "df.query('word_count >= 6', inplace = True)"
   ]
  },
  {
   "cell_type": "markdown",
   "metadata": {},
   "source": [
    "#### Check for duplicates"
   ]
  },
  {
   "cell_type": "markdown",
   "metadata": {},
   "source": [
    "I'll drop all the duplicate entries."
   ]
  },
  {
   "cell_type": "code",
   "execution_count": 77,
   "metadata": {},
   "outputs": [
    {
     "data": {
      "text/plain": [
       "835"
      ]
     },
     "execution_count": 77,
     "metadata": {},
     "output_type": "execute_result"
    }
   ],
   "source": [
    "df.duplicated(subset = ['text', 'title', 'subreddit']).sum()"
   ]
  },
  {
   "cell_type": "code",
   "execution_count": 78,
   "metadata": {},
   "outputs": [],
   "source": [
    "df.drop_duplicates(subset = ['text', 'title', 'subreddit'], inplace=True)"
   ]
  },
  {
   "cell_type": "markdown",
   "metadata": {},
   "source": [
    "### Additional feature engineering"
   ]
  },
  {
   "cell_type": "code",
   "execution_count": 79,
   "metadata": {},
   "outputs": [],
   "source": [
    "df['title_text'] = df['title'] + df['text']"
   ]
  },
  {
   "cell_type": "markdown",
   "metadata": {},
   "source": [
    "In addition to vectorizing the bag of words (with either a count or tfidf vectorizer) we look at 3 additional features:\n",
    "* whitespace - already defined in the Data Cleaning section\n",
    "* part of speech frequency\n",
    "* sentiment scores (polarity and subjcetivity)"
   ]
  },
  {
   "cell_type": "markdown",
   "metadata": {},
   "source": [
    "#### Part of speech tagging"
   ]
  },
  {
   "cell_type": "markdown",
   "metadata": {},
   "source": [
    "This categorizes each word by it's part of speech. This let's us compare if certain word types or tenses are used more or less in each subreddit.\n",
    "It also categorizes punctuation.\n",
    "\n",
    "Part of speech tagging is down using the NLTK library and uses the Penn Treebank tagset by default."
   ]
  },
  {
   "cell_type": "code",
   "execution_count": 80,
   "metadata": {},
   "outputs": [],
   "source": [
    "# # Downloads needed for pos_extractor\n",
    "# nltk.download('averaged_perceptron_tagger')\n",
    "# nltk.download('tagsets')"
   ]
  },
  {
   "cell_type": "code",
   "execution_count": 81,
   "metadata": {},
   "outputs": [],
   "source": [
    "tagset = ['CC', 'CD', 'DT', 'EX', 'FW', 'IN', 'JJ', 'JJR', 'JJS', 'LS', 'MD', 'NN', 'NNS',\n",
    "          'NNP', 'NNPS', 'PDT', 'POS', 'PRP', 'PRP$', 'RB', 'RBR', 'RBS', 'RP', 'SYM',\n",
    "          'TO','UH', 'VB', 'VBD', 'VBG', 'VBN', 'VBP', 'VBZ', 'WDT', 'WP', 'WP$', 'WRB',\n",
    "          '.', ',', ':', '(', ')', '$', '``', '#', \"''\"]\n",
    "\n",
    "def pos_extractor(docs):\n",
    "    tag_counts = {pos: np.zeros(len(docs)) for pos in tagset}\n",
    "    for i, doc in enumerate(docs):\n",
    "        if not i % 1000:\n",
    "            print(i)\n",
    "        doc_tokens = word_tokenize(doc)\n",
    "        pos_list = list(zip(*pos_tag(doc_tokens)))[1]\n",
    "        for pos in pos_list:\n",
    "            tag_counts[pos][i] += 1\n",
    "\n",
    "    return pd.DataFrame(tag_counts)"
   ]
  },
  {
   "cell_type": "markdown",
   "metadata": {},
   "source": [
    "Compute the part of speech counts. We also normalize the parts of speech by word count. The rows won't exactly sum to 1 as they include punctuation."
   ]
  },
  {
   "cell_type": "code",
   "execution_count": 82,
   "metadata": {},
   "outputs": [
    {
     "name": "stdout",
     "output_type": "stream",
     "text": [
      "0\n",
      "1000\n",
      "2000\n",
      "3000\n",
      "4000\n",
      "5000\n",
      "6000\n",
      "7000\n",
      "8000\n",
      "9000\n",
      "10000\n",
      "11000\n",
      "12000\n",
      "13000\n",
      "14000\n",
      "15000\n",
      "16000\n",
      "17000\n",
      "18000\n",
      "19000\n",
      "20000\n",
      "21000\n",
      "22000\n",
      "23000\n",
      "24000\n",
      "25000\n",
      "26000\n",
      "27000\n",
      "28000\n",
      "29000\n",
      "30000\n",
      "31000\n",
      "32000\n",
      "33000\n",
      "34000\n",
      "35000\n",
      "36000\n",
      "37000\n",
      "38000\n",
      "39000\n",
      "40000\n",
      "41000\n",
      "42000\n",
      "43000\n",
      "44000\n",
      "45000\n",
      "46000\n",
      "47000\n",
      "48000\n",
      "49000\n",
      "50000\n",
      "51000\n",
      "52000\n",
      "53000\n",
      "54000\n",
      "55000\n",
      "56000\n"
     ]
    }
   ],
   "source": [
    "df_pos = pos_extractor(df['title_text'])\n",
    "df_pos = df_pos.divide(df.reset_index()['word_count'] + 1, axis = 0)"
   ]
  },
  {
   "cell_type": "code",
   "execution_count": 83,
   "metadata": {},
   "outputs": [
    {
     "data": {
      "text/html": [
       "<div>\n",
       "<style scoped>\n",
       "    .dataframe tbody tr th:only-of-type {\n",
       "        vertical-align: middle;\n",
       "    }\n",
       "\n",
       "    .dataframe tbody tr th {\n",
       "        vertical-align: top;\n",
       "    }\n",
       "\n",
       "    .dataframe thead th {\n",
       "        text-align: right;\n",
       "    }\n",
       "</style>\n",
       "<table border=\"1\" class=\"dataframe\">\n",
       "  <thead>\n",
       "    <tr style=\"text-align: right;\">\n",
       "      <th></th>\n",
       "      <th>CC</th>\n",
       "      <th>CD</th>\n",
       "      <th>DT</th>\n",
       "      <th>EX</th>\n",
       "      <th>FW</th>\n",
       "      <th>IN</th>\n",
       "      <th>JJ</th>\n",
       "      <th>JJR</th>\n",
       "      <th>JJS</th>\n",
       "      <th>LS</th>\n",
       "      <th>...</th>\n",
       "      <th>WRB</th>\n",
       "      <th>.</th>\n",
       "      <th>,</th>\n",
       "      <th>:</th>\n",
       "      <th>(</th>\n",
       "      <th>)</th>\n",
       "      <th>$</th>\n",
       "      <th>``</th>\n",
       "      <th>#</th>\n",
       "      <th>''</th>\n",
       "    </tr>\n",
       "  </thead>\n",
       "  <tbody>\n",
       "    <tr>\n",
       "      <th>0</th>\n",
       "      <td>0.034965</td>\n",
       "      <td>0.000000</td>\n",
       "      <td>0.090909</td>\n",
       "      <td>0.013986</td>\n",
       "      <td>0.0</td>\n",
       "      <td>0.139860</td>\n",
       "      <td>0.069930</td>\n",
       "      <td>0.000000</td>\n",
       "      <td>0.000000</td>\n",
       "      <td>0.0</td>\n",
       "      <td>...</td>\n",
       "      <td>0.020979</td>\n",
       "      <td>0.069930</td>\n",
       "      <td>0.034965</td>\n",
       "      <td>0.013986</td>\n",
       "      <td>0.0</td>\n",
       "      <td>0.0</td>\n",
       "      <td>0.0</td>\n",
       "      <td>0.0</td>\n",
       "      <td>0.0</td>\n",
       "      <td>0.0</td>\n",
       "    </tr>\n",
       "    <tr>\n",
       "      <th>1</th>\n",
       "      <td>0.037500</td>\n",
       "      <td>0.006250</td>\n",
       "      <td>0.121875</td>\n",
       "      <td>0.003125</td>\n",
       "      <td>0.0</td>\n",
       "      <td>0.078125</td>\n",
       "      <td>0.096875</td>\n",
       "      <td>0.000000</td>\n",
       "      <td>0.000000</td>\n",
       "      <td>0.0</td>\n",
       "      <td>...</td>\n",
       "      <td>0.009375</td>\n",
       "      <td>0.012500</td>\n",
       "      <td>0.078125</td>\n",
       "      <td>0.000000</td>\n",
       "      <td>0.0</td>\n",
       "      <td>0.0</td>\n",
       "      <td>0.0</td>\n",
       "      <td>0.0</td>\n",
       "      <td>0.0</td>\n",
       "      <td>0.0</td>\n",
       "    </tr>\n",
       "    <tr>\n",
       "      <th>2</th>\n",
       "      <td>0.064103</td>\n",
       "      <td>0.000000</td>\n",
       "      <td>0.141026</td>\n",
       "      <td>0.000000</td>\n",
       "      <td>0.0</td>\n",
       "      <td>0.089744</td>\n",
       "      <td>0.012821</td>\n",
       "      <td>0.000000</td>\n",
       "      <td>0.000000</td>\n",
       "      <td>0.0</td>\n",
       "      <td>...</td>\n",
       "      <td>0.000000</td>\n",
       "      <td>0.064103</td>\n",
       "      <td>0.089744</td>\n",
       "      <td>0.012821</td>\n",
       "      <td>0.0</td>\n",
       "      <td>0.0</td>\n",
       "      <td>0.0</td>\n",
       "      <td>0.0</td>\n",
       "      <td>0.0</td>\n",
       "      <td>0.0</td>\n",
       "    </tr>\n",
       "    <tr>\n",
       "      <th>3</th>\n",
       "      <td>0.086957</td>\n",
       "      <td>0.000000</td>\n",
       "      <td>0.130435</td>\n",
       "      <td>0.000000</td>\n",
       "      <td>0.0</td>\n",
       "      <td>0.108696</td>\n",
       "      <td>0.086957</td>\n",
       "      <td>0.000000</td>\n",
       "      <td>0.043478</td>\n",
       "      <td>0.0</td>\n",
       "      <td>...</td>\n",
       "      <td>0.000000</td>\n",
       "      <td>0.021739</td>\n",
       "      <td>0.043478</td>\n",
       "      <td>0.000000</td>\n",
       "      <td>0.0</td>\n",
       "      <td>0.0</td>\n",
       "      <td>0.0</td>\n",
       "      <td>0.0</td>\n",
       "      <td>0.0</td>\n",
       "      <td>0.0</td>\n",
       "    </tr>\n",
       "    <tr>\n",
       "      <th>4</th>\n",
       "      <td>0.046921</td>\n",
       "      <td>0.032258</td>\n",
       "      <td>0.102639</td>\n",
       "      <td>0.000000</td>\n",
       "      <td>0.0</td>\n",
       "      <td>0.105572</td>\n",
       "      <td>0.052786</td>\n",
       "      <td>0.005865</td>\n",
       "      <td>0.002933</td>\n",
       "      <td>0.0</td>\n",
       "      <td>...</td>\n",
       "      <td>0.008798</td>\n",
       "      <td>0.049853</td>\n",
       "      <td>0.041056</td>\n",
       "      <td>0.000000</td>\n",
       "      <td>0.0</td>\n",
       "      <td>0.0</td>\n",
       "      <td>0.0</td>\n",
       "      <td>0.0</td>\n",
       "      <td>0.0</td>\n",
       "      <td>0.0</td>\n",
       "    </tr>\n",
       "  </tbody>\n",
       "</table>\n",
       "<p>5 rows × 45 columns</p>\n",
       "</div>"
      ],
      "text/plain": [
       "         CC        CD        DT        EX   FW        IN        JJ       JJR  \\\n",
       "0  0.034965  0.000000  0.090909  0.013986  0.0  0.139860  0.069930  0.000000   \n",
       "1  0.037500  0.006250  0.121875  0.003125  0.0  0.078125  0.096875  0.000000   \n",
       "2  0.064103  0.000000  0.141026  0.000000  0.0  0.089744  0.012821  0.000000   \n",
       "3  0.086957  0.000000  0.130435  0.000000  0.0  0.108696  0.086957  0.000000   \n",
       "4  0.046921  0.032258  0.102639  0.000000  0.0  0.105572  0.052786  0.005865   \n",
       "\n",
       "        JJS   LS  ...       WRB         .         ,         :    (    )    $  \\\n",
       "0  0.000000  0.0  ...  0.020979  0.069930  0.034965  0.013986  0.0  0.0  0.0   \n",
       "1  0.000000  0.0  ...  0.009375  0.012500  0.078125  0.000000  0.0  0.0  0.0   \n",
       "2  0.000000  0.0  ...  0.000000  0.064103  0.089744  0.012821  0.0  0.0  0.0   \n",
       "3  0.043478  0.0  ...  0.000000  0.021739  0.043478  0.000000  0.0  0.0  0.0   \n",
       "4  0.002933  0.0  ...  0.008798  0.049853  0.041056  0.000000  0.0  0.0  0.0   \n",
       "\n",
       "    ``    #   ''  \n",
       "0  0.0  0.0  0.0  \n",
       "1  0.0  0.0  0.0  \n",
       "2  0.0  0.0  0.0  \n",
       "3  0.0  0.0  0.0  \n",
       "4  0.0  0.0  0.0  \n",
       "\n",
       "[5 rows x 45 columns]"
      ]
     },
     "execution_count": 83,
     "metadata": {},
     "output_type": "execute_result"
    }
   ],
   "source": [
    "df_pos.head()"
   ]
  },
  {
   "cell_type": "markdown",
   "metadata": {},
   "source": [
    "#### Sentiment analysis"
   ]
  },
  {
   "cell_type": "code",
   "execution_count": 84,
   "metadata": {},
   "outputs": [
    {
     "name": "stdout",
     "output_type": "stream",
     "text": [
      "0\n",
      "1000\n",
      "2000\n",
      "3000\n",
      "4000\n",
      "5000\n",
      "6000\n",
      "7000\n",
      "8000\n",
      "9000\n",
      "10000\n",
      "11000\n",
      "12000\n",
      "13000\n",
      "14000\n",
      "15000\n",
      "16000\n",
      "17000\n",
      "18000\n",
      "19000\n",
      "20000\n",
      "21000\n",
      "22000\n",
      "23000\n",
      "24000\n",
      "25000\n",
      "26000\n",
      "27000\n",
      "28000\n",
      "29000\n",
      "30000\n",
      "31000\n",
      "32000\n",
      "33000\n",
      "34000\n",
      "35000\n",
      "36000\n",
      "37000\n",
      "38000\n",
      "39000\n",
      "40000\n",
      "41000\n",
      "42000\n",
      "43000\n",
      "44000\n",
      "45000\n",
      "46000\n",
      "47000\n",
      "48000\n",
      "49000\n",
      "50000\n",
      "51000\n",
      "52000\n",
      "53000\n",
      "54000\n",
      "55000\n",
      "56000\n"
     ]
    }
   ],
   "source": [
    "sentiment_cols = ['polarity', 'subjectivity']\n",
    "\n",
    "def sentiment_extractor(docs):\n",
    "    sentiments = {col: np.empty(len(docs)) for col in sentiment_cols}\n",
    "    for i, doc in enumerate(docs):\n",
    "        if not i % 1000:\n",
    "            print(i)\n",
    "        blob = TextBlob(doc)\n",
    "        sentiments['polarity'][i] = blob.polarity\n",
    "        sentiments['subjectivity'][i] = blob.subjectivity\n",
    "\n",
    "    return pd.DataFrame(sentiments)\n",
    "\n",
    "df_sentiments = sentiment_extractor(df['title_text'])"
   ]
  },
  {
   "cell_type": "markdown",
   "metadata": {},
   "source": [
    "### Merge features"
   ]
  },
  {
   "cell_type": "markdown",
   "metadata": {},
   "source": [
    "`df_nlp` is the original data frame merged with nlp features."
   ]
  },
  {
   "cell_type": "code",
   "execution_count": 85,
   "metadata": {},
   "outputs": [
    {
     "data": {
      "text/plain": [
       "((56550, 13), (56550, 2), (56550, 45))"
      ]
     },
     "execution_count": 85,
     "metadata": {},
     "output_type": "execute_result"
    }
   ],
   "source": [
    "df.shape, df_sentiments.shape, df_pos.shape"
   ]
  },
  {
   "cell_type": "code",
   "execution_count": 86,
   "metadata": {},
   "outputs": [
    {
     "data": {
      "text/plain": [
       "(56550, 60)"
      ]
     },
     "execution_count": 86,
     "metadata": {},
     "output_type": "execute_result"
    }
   ],
   "source": [
    "df.reset_index(inplace = True, drop = True)\n",
    "df_nlp = df.join(df_pos)\n",
    "df_nlp = df_nlp.join(df_sentiments)\n",
    "df_nlp.shape"
   ]
  },
  {
   "cell_type": "code",
   "execution_count": 87,
   "metadata": {},
   "outputs": [
    {
     "data": {
      "text/plain": [
       "0"
      ]
     },
     "execution_count": 87,
     "metadata": {},
     "output_type": "execute_result"
    }
   ],
   "source": [
    "df_nlp.isna().sum().sum()"
   ]
  },
  {
   "cell_type": "markdown",
   "metadata": {},
   "source": [
    "### EDA"
   ]
  },
  {
   "cell_type": "markdown",
   "metadata": {},
   "source": [
    "The subreddits are nearly balanced."
   ]
  },
  {
   "cell_type": "code",
   "execution_count": 88,
   "metadata": {},
   "outputs": [
    {
     "data": {
      "text/plain": [
       "OCPoetry             28616\n",
       "shortscarystories    27934\n",
       "Name: subreddit, dtype: int64"
      ]
     },
     "execution_count": 88,
     "metadata": {},
     "output_type": "execute_result"
    }
   ],
   "source": [
    "df_nlp['subreddit'].value_counts()"
   ]
  },
  {
   "cell_type": "code",
   "execution_count": 89,
   "metadata": {},
   "outputs": [
    {
     "data": {
      "text/plain": [
       "OCPoetry             0.50603\n",
       "shortscarystories    0.49397\n",
       "Name: subreddit, dtype: float64"
      ]
     },
     "execution_count": 89,
     "metadata": {},
     "output_type": "execute_result"
    }
   ],
   "source": [
    "df_nlp['subreddit'].value_counts(normalize = True)"
   ]
  },
  {
   "cell_type": "markdown",
   "metadata": {},
   "source": [
    "#### Authors"
   ]
  },
  {
   "cell_type": "markdown",
   "metadata": {},
   "source": [
    "Top 10 authors."
   ]
  },
  {
   "cell_type": "code",
   "execution_count": 90,
   "metadata": {},
   "outputs": [
    {
     "data": {
      "text/plain": [
       "shortstory1            832\n",
       "asearchforyou          548\n",
       "EvantheNerd83          257\n",
       "tim0777                250\n",
       "hyperobscura           223\n",
       "SimbaTheSavage8        166\n",
       "sugar-soad             159\n",
       "picnic-123             156\n",
       "decorativegentleman    141\n",
       "Hack_Shuck             138\n",
       "Name: auth, dtype: int64"
      ]
     },
     "execution_count": 90,
     "metadata": {},
     "output_type": "execute_result"
    }
   ],
   "source": [
    "df_nlp['auth'].value_counts().head(10)"
   ]
  },
  {
   "cell_type": "markdown",
   "metadata": {},
   "source": [
    "13853 users have only a single post"
   ]
  },
  {
   "cell_type": "code",
   "execution_count": 91,
   "metadata": {},
   "outputs": [
    {
     "data": {
      "text/plain": [
       "1     13942\n",
       "2      3414\n",
       "3      1412\n",
       "4       828\n",
       "5       482\n",
       "6       302\n",
       "7       230\n",
       "8       158\n",
       "9       117\n",
       "10       90\n",
       "Name: auth, dtype: int64"
      ]
     },
     "execution_count": 91,
     "metadata": {},
     "output_type": "execute_result"
    }
   ],
   "source": [
    "df['auth'].value_counts().value_counts().head(10) "
   ]
  },
  {
   "cell_type": "code",
   "execution_count": 124,
   "metadata": {},
   "outputs": [],
   "source": [
    "# sns.histplot(data = df['auth'].value_counts(), log_scale = 10)"
   ]
  },
  {
   "cell_type": "markdown",
   "metadata": {},
   "source": [
    "#### Date overview"
   ]
  },
  {
   "cell_type": "markdown",
   "metadata": {},
   "source": [
    "Something to be aware of is that the poetry subreddit is more active than the shortscarystories one. \n",
    "Therefore, in order to get a balanced data set the poetry posts are on average newer than the scary story posts.\n",
    "Even though the final models won't use post date directly, to the extent that the posts reference contemporary events / figures our models may be learning these references rather than the differences between the mediums.\n",
    "Alternatively, I could have collected data over a specified range (for example the year 2021), but then I would be left with an imbalanced data set."
   ]
  },
  {
   "cell_type": "code",
   "execution_count": 93,
   "metadata": {},
   "outputs": [
    {
     "data": {
      "text/html": [
       "<div>\n",
       "<style scoped>\n",
       "    .dataframe tbody tr th:only-of-type {\n",
       "        vertical-align: middle;\n",
       "    }\n",
       "\n",
       "    .dataframe tbody tr th {\n",
       "        vertical-align: top;\n",
       "    }\n",
       "\n",
       "    .dataframe thead tr th {\n",
       "        text-align: left;\n",
       "    }\n",
       "\n",
       "    .dataframe thead tr:last-of-type th {\n",
       "        text-align: right;\n",
       "    }\n",
       "</style>\n",
       "<table border=\"1\" class=\"dataframe\">\n",
       "  <thead>\n",
       "    <tr>\n",
       "      <th></th>\n",
       "      <th colspan=\"3\" halign=\"left\">time</th>\n",
       "    </tr>\n",
       "    <tr>\n",
       "      <th></th>\n",
       "      <th>min</th>\n",
       "      <th>mean</th>\n",
       "      <th>range_</th>\n",
       "    </tr>\n",
       "    <tr>\n",
       "      <th>subreddit</th>\n",
       "      <th></th>\n",
       "      <th></th>\n",
       "      <th></th>\n",
       "    </tr>\n",
       "  </thead>\n",
       "  <tbody>\n",
       "    <tr>\n",
       "      <th>OCPoetry</th>\n",
       "      <td>2020-04-16 00:37:44</td>\n",
       "      <td>2021-03-13 02:04:50.454640896</td>\n",
       "      <td>650 days 22:56:03</td>\n",
       "    </tr>\n",
       "    <tr>\n",
       "      <th>shortscarystories</th>\n",
       "      <td>2018-05-07 08:13:08</td>\n",
       "      <td>2020-06-01 11:50:06.781055232</td>\n",
       "      <td>1360 days 15:14:46</td>\n",
       "    </tr>\n",
       "  </tbody>\n",
       "</table>\n",
       "</div>"
      ],
      "text/plain": [
       "                                 time                                \\\n",
       "                                  min                          mean   \n",
       "subreddit                                                             \n",
       "OCPoetry          2020-04-16 00:37:44 2021-03-13 02:04:50.454640896   \n",
       "shortscarystories 2018-05-07 08:13:08 2020-06-01 11:50:06.781055232   \n",
       "\n",
       "                                      \n",
       "                              range_  \n",
       "subreddit                             \n",
       "OCPoetry           650 days 22:56:03  \n",
       "shortscarystories 1360 days 15:14:46  "
      ]
     },
     "execution_count": 93,
     "metadata": {},
     "output_type": "execute_result"
    }
   ],
   "source": [
    "def range_(x): \n",
    "    return x.max() - x.min()\n",
    "df_nlp[['time', 'subreddit']].groupby('subreddit').agg([min, np.mean, range_])"
   ]
  },
  {
   "cell_type": "markdown",
   "metadata": {},
   "source": [
    "The r/OCPoetry subreddit seems to have a stable popularity while r/shortscarystories became more popular over time."
   ]
  },
  {
   "cell_type": "code",
   "execution_count": 94,
   "metadata": {},
   "outputs": [
    {
     "data": {
      "image/png": "[encoded data removed]",
      "text/plain": [
       "<Figure size 432x288 with 1 Axes>"
      ]
     },
     "metadata": {
      "needs_background": "light"
     },
     "output_type": "display_data"
    }
   ],
   "source": [
    "sns.histplot(x = 'time', data = df.query('subreddit == \"OCPoetry\"'))\n",
    "plt.xticks(rotation = 30)\n",
    "plt.show()"
   ]
  },
  {
   "cell_type": "code",
   "execution_count": 95,
   "metadata": {},
   "outputs": [
    {
     "data": {
      "image/png": "[encoded data removed]",
      "text/plain": [
       "<Figure size 432x288 with 1 Axes>"
      ]
     },
     "metadata": {
      "needs_background": "light"
     },
     "output_type": "display_data"
    }
   ],
   "source": [
    "sns.histplot(x = 'time', data = df.query('subreddit == \"shortscarystories\"'))\n",
    "plt.xticks(rotation = 30)\n",
    "plt.show()"
   ]
  },
  {
   "cell_type": "code",
   "execution_count": 96,
   "metadata": {},
   "outputs": [
    {
     "data": {
      "image/png": "[encoded data removed]",
      "text/plain": [
       "<Figure size 432x288 with 1 Axes>"
      ]
     },
     "metadata": {
      "needs_background": "light"
     },
     "output_type": "display_data"
    }
   ],
   "source": [
    "sns.histplot(x = 'time', data = df, hue = 'subreddit')\n",
    "plt.title('Post Distribution by Time of Post')\n",
    "plt.xticks(rotation = 30)\n",
    "plt.show()"
   ]
  },
  {
   "cell_type": "markdown",
   "metadata": {},
   "source": [
    "#### Word count comparison"
   ]
  },
  {
   "cell_type": "markdown",
   "metadata": {},
   "source": [
    "The main difference in word length is that the text of posts on r/shortscarystories are more than twice as long as r/OCPoetry.\n",
    "Additionally, r/shortscarystories posts have titles that are on average 0.5 word longer."
   ]
  },
  {
   "cell_type": "code",
   "execution_count": 97,
   "metadata": {},
   "outputs": [
    {
     "data": {
      "text/html": [
       "<div>\n",
       "<style scoped>\n",
       "    .dataframe tbody tr th:only-of-type {\n",
       "        vertical-align: middle;\n",
       "    }\n",
       "\n",
       "    .dataframe tbody tr th {\n",
       "        vertical-align: top;\n",
       "    }\n",
       "\n",
       "    .dataframe thead th {\n",
       "        text-align: right;\n",
       "    }\n",
       "</style>\n",
       "<table border=\"1\" class=\"dataframe\">\n",
       "  <thead>\n",
       "    <tr style=\"text-align: right;\">\n",
       "      <th></th>\n",
       "      <th>title_words</th>\n",
       "      <th>text_words</th>\n",
       "      <th>word_count</th>\n",
       "    </tr>\n",
       "    <tr>\n",
       "      <th>subreddit</th>\n",
       "      <th></th>\n",
       "      <th></th>\n",
       "      <th></th>\n",
       "    </tr>\n",
       "  </thead>\n",
       "  <tbody>\n",
       "    <tr>\n",
       "      <th>OCPoetry</th>\n",
       "      <td>3.564474</td>\n",
       "      <td>152.808359</td>\n",
       "      <td>156.372833</td>\n",
       "    </tr>\n",
       "    <tr>\n",
       "      <th>shortscarystories</th>\n",
       "      <td>4.068268</td>\n",
       "      <td>369.090284</td>\n",
       "      <td>373.158552</td>\n",
       "    </tr>\n",
       "  </tbody>\n",
       "</table>\n",
       "</div>"
      ],
      "text/plain": [
       "                   title_words  text_words  word_count\n",
       "subreddit                                             \n",
       "OCPoetry              3.564474  152.808359  156.372833\n",
       "shortscarystories     4.068268  369.090284  373.158552"
      ]
     },
     "execution_count": 97,
     "metadata": {},
     "output_type": "execute_result"
    }
   ],
   "source": [
    "word_count_comp = df_nlp.groupby('subreddit')[['title_words', 'text_words', 'word_count']].mean()\n",
    "word_count_comp"
   ]
  },
  {
   "cell_type": "code",
   "execution_count": 130,
   "metadata": {},
   "outputs": [
    {
     "data": {
      "image/png": "[encoded data removed]",
      "text/plain": [
       "<Figure size 432x288 with 1 Axes>"
      ]
     },
     "metadata": {
      "needs_background": "light"
     },
     "output_type": "display_data"
    }
   ],
   "source": [
    "sns.histplot(x = 'word_count', hue = 'subreddit', data = df_nlp)\n",
    "plt.xlim(0, 700)\n",
    "plt.title('Word count distribution by subreddit')\n",
    "plt.show()"
   ]
  },
  {
   "cell_type": "markdown",
   "metadata": {},
   "source": [
    "#### Whitespace comparison"
   ]
  },
  {
   "cell_type": "code",
   "execution_count": 98,
   "metadata": {},
   "outputs": [
    {
     "data": {
      "text/plain": [
       "31.727272727272727"
      ]
     },
     "execution_count": 98,
     "metadata": {},
     "output_type": "execute_result"
    }
   ],
   "source": [
    "df_nlp['space_chars'].max()"
   ]
  },
  {
   "cell_type": "markdown",
   "metadata": {},
   "source": [
    "This poem apparently has 31 spaces per word in it's original form."
   ]
  },
  {
   "cell_type": "code",
   "execution_count": 99,
   "metadata": {},
   "outputs": [
    {
     "data": {
      "text/plain": [
       "'for someone claiming to be so quiet I live quite the boisterous life I spend my days looking at many different squares luminous with many different things moving across their surface everything in this world and everything beyond and when I step outside the balmy summer air yanks me by my hair to a sudden halt making me stumble and leaving me dizzy [feedback [feedback'"
      ]
     },
     "execution_count": 99,
     "metadata": {},
     "output_type": "execute_result"
    }
   ],
   "source": [
    "df_nlp.iloc[df_nlp['space_chars'].argmax()]['text']"
   ]
  },
  {
   "cell_type": "code",
   "execution_count": 100,
   "metadata": {},
   "outputs": [
    {
     "data": {
      "text/plain": [
       "'OCPoetry'"
      ]
     },
     "execution_count": 100,
     "metadata": {},
     "output_type": "execute_result"
    }
   ],
   "source": [
    "df_nlp.iloc[df_nlp['space_chars'].argmax()]['subreddit']"
   ]
  },
  {
   "cell_type": "markdown",
   "metadata": {},
   "source": [
    "Average white space comparison. Except for spaces, all white space features are more common in r/OCPoetry than r/shortscarystories. This makes sense as poetry typically uses white space more creatively than prose."
   ]
  },
  {
   "cell_type": "code",
   "execution_count": 101,
   "metadata": {},
   "outputs": [
    {
     "data": {
      "text/html": [
       "<div>\n",
       "<style scoped>\n",
       "    .dataframe tbody tr th:only-of-type {\n",
       "        vertical-align: middle;\n",
       "    }\n",
       "\n",
       "    .dataframe tbody tr th {\n",
       "        vertical-align: top;\n",
       "    }\n",
       "\n",
       "    .dataframe thead th {\n",
       "        text-align: right;\n",
       "    }\n",
       "</style>\n",
       "<table border=\"1\" class=\"dataframe\">\n",
       "  <thead>\n",
       "    <tr style=\"text-align: right;\">\n",
       "      <th></th>\n",
       "      <th>new_line_chars</th>\n",
       "      <th>tab_chars</th>\n",
       "      <th>space_chars</th>\n",
       "      <th>zws_chars</th>\n",
       "    </tr>\n",
       "    <tr>\n",
       "      <th>subreddit</th>\n",
       "      <th></th>\n",
       "      <th></th>\n",
       "      <th></th>\n",
       "      <th></th>\n",
       "    </tr>\n",
       "  </thead>\n",
       "  <tbody>\n",
       "    <tr>\n",
       "      <th>OCPoetry</th>\n",
       "      <td>0.363811</td>\n",
       "      <td>0.000250</td>\n",
       "      <td>0.964865</td>\n",
       "      <td>0.018664</td>\n",
       "    </tr>\n",
       "    <tr>\n",
       "      <th>shortscarystories</th>\n",
       "      <td>0.074286</td>\n",
       "      <td>0.000096</td>\n",
       "      <td>0.968704</td>\n",
       "      <td>0.001602</td>\n",
       "    </tr>\n",
       "  </tbody>\n",
       "</table>\n",
       "</div>"
      ],
      "text/plain": [
       "                   new_line_chars  tab_chars  space_chars  zws_chars\n",
       "subreddit                                                           \n",
       "OCPoetry                 0.363811   0.000250     0.964865   0.018664\n",
       "shortscarystories        0.074286   0.000096     0.968704   0.001602"
      ]
     },
     "execution_count": 101,
     "metadata": {},
     "output_type": "execute_result"
    }
   ],
   "source": [
    "df_nlp.groupby('subreddit')[['new_line_chars', 'tab_chars', 'space_chars', 'zws_chars']].mean()"
   ]
  },
  {
   "cell_type": "markdown",
   "metadata": {},
   "source": [
    "#### Sentiment comparison"
   ]
  },
  {
   "cell_type": "markdown",
   "metadata": {},
   "source": [
    "Here subjectivity is measured on a scale of 0 to 1 with 0 objective and 1 subjective.\n",
    "Polarity is measured from -1 to 1 with 1 being positive and -1 negative.\n",
    "The mean scores are similar for each subreddit however, the standard deviation for the poetry scores are 50% larger.\n",
    "A transformation that might capture this relationship is the absolute deviation from the mean.\n",
    "The mean absolute deviation from the mean is also about 50% larger for both subjectivity and polarity in r/OCPoetry posts than in r/shortscarystories."
   ]
  },
  {
   "cell_type": "code",
   "execution_count": 102,
   "metadata": {},
   "outputs": [
    {
     "data": {
      "text/html": [
       "<div>\n",
       "<style scoped>\n",
       "    .dataframe tbody tr th:only-of-type {\n",
       "        vertical-align: middle;\n",
       "    }\n",
       "\n",
       "    .dataframe tbody tr th {\n",
       "        vertical-align: top;\n",
       "    }\n",
       "\n",
       "    .dataframe thead tr th {\n",
       "        text-align: left;\n",
       "    }\n",
       "\n",
       "    .dataframe thead tr:last-of-type th {\n",
       "        text-align: right;\n",
       "    }\n",
       "</style>\n",
       "<table border=\"1\" class=\"dataframe\">\n",
       "  <thead>\n",
       "    <tr>\n",
       "      <th></th>\n",
       "      <th colspan=\"3\" halign=\"left\">subjectivity</th>\n",
       "      <th colspan=\"3\" halign=\"left\">polarity</th>\n",
       "    </tr>\n",
       "    <tr>\n",
       "      <th></th>\n",
       "      <th>mean</th>\n",
       "      <th>std</th>\n",
       "      <th>mean abs dev</th>\n",
       "      <th>mean</th>\n",
       "      <th>std</th>\n",
       "      <th>mean abs dev</th>\n",
       "    </tr>\n",
       "    <tr>\n",
       "      <th>subreddit</th>\n",
       "      <th></th>\n",
       "      <th></th>\n",
       "      <th></th>\n",
       "      <th></th>\n",
       "      <th></th>\n",
       "      <th></th>\n",
       "    </tr>\n",
       "  </thead>\n",
       "  <tbody>\n",
       "    <tr>\n",
       "      <th>OCPoetry</th>\n",
       "      <td>0.497315</td>\n",
       "      <td>0.153899</td>\n",
       "      <td>0.111945</td>\n",
       "      <td>0.067067</td>\n",
       "      <td>0.171766</td>\n",
       "      <td>0.127023</td>\n",
       "    </tr>\n",
       "    <tr>\n",
       "      <th>shortscarystories</th>\n",
       "      <td>0.475843</td>\n",
       "      <td>0.103763</td>\n",
       "      <td>0.073622</td>\n",
       "      <td>0.036563</td>\n",
       "      <td>0.118340</td>\n",
       "      <td>0.084309</td>\n",
       "    </tr>\n",
       "  </tbody>\n",
       "</table>\n",
       "</div>"
      ],
      "text/plain": [
       "                  subjectivity                         polarity            \\\n",
       "                          mean       std mean abs dev      mean       std   \n",
       "subreddit                                                                   \n",
       "OCPoetry              0.497315  0.153899     0.111945  0.067067  0.171766   \n",
       "shortscarystories     0.475843  0.103763     0.073622  0.036563  0.118340   \n",
       "\n",
       "                                \n",
       "                  mean abs dev  \n",
       "subreddit                       \n",
       "OCPoetry              0.127023  \n",
       "shortscarystories     0.084309  "
      ]
     },
     "execution_count": 102,
     "metadata": {},
     "output_type": "execute_result"
    }
   ],
   "source": [
    "sentiments_comp = df_nlp.groupby('subreddit')[['subjectivity', 'polarity']].agg([np.mean, np.std, lambda x: np.abs(x - x.mean()).mean()])\n",
    "sentiments_comp.columns = sentiments_comp.columns.set_levels(['mean', 'std', 'mean abs dev'], level = 1)\n",
    "sentiments_comp"
   ]
  },
  {
   "cell_type": "code",
   "execution_count": 103,
   "metadata": {},
   "outputs": [],
   "source": [
    "df_nlp['subjectivity_abs_dev'] = np.abs(df_nlp['subjectivity'] - df_nlp['subjectivity'].mean())\n",
    "df_nlp['polarity_abs_dev'] = np.abs(df_nlp['polarity'] - df_nlp['polarity'].mean())"
   ]
  },
  {
   "cell_type": "markdown",
   "metadata": {},
   "source": [
    "#### Parts of Speech comparison"
   ]
  },
  {
   "cell_type": "markdown",
   "metadata": {},
   "source": [
    "The most commonly used parts of speech are (from the list at https://www.ling.upenn.edu/courses/Fall_2003/ling001/penn_treebank_pos.html)\n",
    "* NN: Noun, Singular or Mass\n",
    "* IN: Preposition or Subordinating Conunction \n",
    "* PRP: Personal Pronoun\n",
    "* DT: Determiner\n",
    "* JJ: Adjective"
   ]
  },
  {
   "cell_type": "code",
   "execution_count": 104,
   "metadata": {},
   "outputs": [
    {
     "data": {
      "text/plain": [
       "NN     0.163\n",
       "IN     0.104\n",
       "PRP    0.099\n",
       "DT     0.090\n",
       "JJ     0.069\n",
       "dtype: float64"
      ]
     },
     "execution_count": 104,
     "metadata": {},
     "output_type": "execute_result"
    }
   ],
   "source": [
    "df_pos.mean(axis = 0).sort_values(ascending = False).round(3).head()"
   ]
  },
  {
   "cell_type": "markdown",
   "metadata": {},
   "source": [
    "We can compare the categories by looking at the ratio of frequencies in the two subreddits."
   ]
  },
  {
   "cell_type": "code",
   "execution_count": 105,
   "metadata": {},
   "outputs": [],
   "source": [
    "df_pos_ = df_nlp.loc[:, 'CC':\"''\"].join(df_nlp['subreddit'])\n",
    "pos_comp = df_pos_.groupby('subreddit').mean()\n",
    "pos_comp_ratio = (pos_comp.loc['OCPoetry', :]/pos_comp.loc['shortscarystories', :]).sort_values()"
   ]
  },
  {
   "cell_type": "code",
   "execution_count": 106,
   "metadata": {},
   "outputs": [
    {
     "data": {
      "text/html": [
       "<div>\n",
       "<style scoped>\n",
       "    .dataframe tbody tr th:only-of-type {\n",
       "        vertical-align: middle;\n",
       "    }\n",
       "\n",
       "    .dataframe tbody tr th {\n",
       "        vertical-align: top;\n",
       "    }\n",
       "\n",
       "    .dataframe thead th {\n",
       "        text-align: right;\n",
       "    }\n",
       "</style>\n",
       "<table border=\"1\" class=\"dataframe\">\n",
       "  <thead>\n",
       "    <tr style=\"text-align: right;\">\n",
       "      <th></th>\n",
       "      <th>CC</th>\n",
       "      <th>CD</th>\n",
       "      <th>DT</th>\n",
       "      <th>EX</th>\n",
       "      <th>FW</th>\n",
       "      <th>IN</th>\n",
       "      <th>JJ</th>\n",
       "      <th>JJR</th>\n",
       "      <th>JJS</th>\n",
       "      <th>LS</th>\n",
       "      <th>...</th>\n",
       "      <th>WRB</th>\n",
       "      <th>.</th>\n",
       "      <th>,</th>\n",
       "      <th>:</th>\n",
       "      <th>(</th>\n",
       "      <th>)</th>\n",
       "      <th>$</th>\n",
       "      <th>``</th>\n",
       "      <th>#</th>\n",
       "      <th>''</th>\n",
       "    </tr>\n",
       "    <tr>\n",
       "      <th>subreddit</th>\n",
       "      <th></th>\n",
       "      <th></th>\n",
       "      <th></th>\n",
       "      <th></th>\n",
       "      <th></th>\n",
       "      <th></th>\n",
       "      <th></th>\n",
       "      <th></th>\n",
       "      <th></th>\n",
       "      <th></th>\n",
       "      <th></th>\n",
       "      <th></th>\n",
       "      <th></th>\n",
       "      <th></th>\n",
       "      <th></th>\n",
       "      <th></th>\n",
       "      <th></th>\n",
       "      <th></th>\n",
       "      <th></th>\n",
       "      <th></th>\n",
       "      <th></th>\n",
       "    </tr>\n",
       "  </thead>\n",
       "  <tbody>\n",
       "    <tr>\n",
       "      <th>OCPoetry</th>\n",
       "      <td>0.037151</td>\n",
       "      <td>0.006876</td>\n",
       "      <td>0.087498</td>\n",
       "      <td>0.001881</td>\n",
       "      <td>0.000579</td>\n",
       "      <td>0.104072</td>\n",
       "      <td>0.070993</td>\n",
       "      <td>0.002627</td>\n",
       "      <td>0.001599</td>\n",
       "      <td>9.093853e-07</td>\n",
       "      <td>...</td>\n",
       "      <td>0.007777</td>\n",
       "      <td>0.046918</td>\n",
       "      <td>0.049355</td>\n",
       "      <td>0.017642</td>\n",
       "      <td>0.001729</td>\n",
       "      <td>0.001916</td>\n",
       "      <td>0.000109</td>\n",
       "      <td>0.001353</td>\n",
       "      <td>0.000279</td>\n",
       "      <td>0.001597</td>\n",
       "    </tr>\n",
       "    <tr>\n",
       "      <th>shortscarystories</th>\n",
       "      <td>0.035565</td>\n",
       "      <td>0.008597</td>\n",
       "      <td>0.093134</td>\n",
       "      <td>0.002386</td>\n",
       "      <td>0.000334</td>\n",
       "      <td>0.103585</td>\n",
       "      <td>0.067846</td>\n",
       "      <td>0.002466</td>\n",
       "      <td>0.001703</td>\n",
       "      <td>7.659226e-07</td>\n",
       "      <td>...</td>\n",
       "      <td>0.007556</td>\n",
       "      <td>0.081711</td>\n",
       "      <td>0.049202</td>\n",
       "      <td>0.006432</td>\n",
       "      <td>0.000565</td>\n",
       "      <td>0.000624</td>\n",
       "      <td>0.000118</td>\n",
       "      <td>0.004252</td>\n",
       "      <td>0.000154</td>\n",
       "      <td>0.004945</td>\n",
       "    </tr>\n",
       "  </tbody>\n",
       "</table>\n",
       "<p>2 rows × 45 columns</p>\n",
       "</div>"
      ],
      "text/plain": [
       "                         CC        CD        DT        EX        FW        IN  \\\n",
       "subreddit                                                                       \n",
       "OCPoetry           0.037151  0.006876  0.087498  0.001881  0.000579  0.104072   \n",
       "shortscarystories  0.035565  0.008597  0.093134  0.002386  0.000334  0.103585   \n",
       "\n",
       "                         JJ       JJR       JJS            LS  ...       WRB  \\\n",
       "subreddit                                                      ...             \n",
       "OCPoetry           0.070993  0.002627  0.001599  9.093853e-07  ...  0.007777   \n",
       "shortscarystories  0.067846  0.002466  0.001703  7.659226e-07  ...  0.007556   \n",
       "\n",
       "                          .         ,         :         (         )         $  \\\n",
       "subreddit                                                                       \n",
       "OCPoetry           0.046918  0.049355  0.017642  0.001729  0.001916  0.000109   \n",
       "shortscarystories  0.081711  0.049202  0.006432  0.000565  0.000624  0.000118   \n",
       "\n",
       "                         ``         #        ''  \n",
       "subreddit                                        \n",
       "OCPoetry           0.001353  0.000279  0.001597  \n",
       "shortscarystories  0.004252  0.000154  0.004945  \n",
       "\n",
       "[2 rows x 45 columns]"
      ]
     },
     "execution_count": 106,
     "metadata": {},
     "output_type": "execute_result"
    }
   ],
   "source": [
    "pos_comp"
   ]
  },
  {
   "cell_type": "markdown",
   "metadata": {},
   "source": [
    "These categories were used more in r/shortscarystories:\n",
    "* `` - Backticks\n",
    "* '' - Quotation marks\n",
    "* VBD - Verb Past Tense\n",
    "* . - Sentence Ending Punctuation \n",
    "* UH - Interjection"
   ]
  },
  {
   "cell_type": "code",
   "execution_count": 107,
   "metadata": {},
   "outputs": [
    {
     "data": {
      "text/plain": [
       "``     0.318125\n",
       "''     0.322912\n",
       "VBD    0.423254\n",
       ".      0.574187\n",
       "RP     0.632713\n",
       "dtype: float64"
      ]
     },
     "execution_count": 107,
     "metadata": {},
     "output_type": "execute_result"
    }
   ],
   "source": [
    "pos_comp_ratio.head()"
   ]
  },
  {
   "cell_type": "markdown",
   "metadata": {},
   "source": [
    "And these categories are more common in r/OCPoetry\n",
    "* : - colon\n",
    "* ( and ) - parentheses\n",
    "* SYM - Synbol\n",
    "* WP$ - Posessive wh-pronoun"
   ]
  },
  {
   "cell_type": "code",
   "execution_count": 108,
   "metadata": {},
   "outputs": [
    {
     "data": {
      "text/plain": [
       ")      3.071411\n",
       "(      3.057421\n",
       ":      2.742962\n",
       "SYM    1.982679\n",
       "WP$    1.950180\n",
       "dtype: float64"
      ]
     },
     "execution_count": 108,
     "metadata": {},
     "output_type": "execute_result"
    }
   ],
   "source": [
    "pos_comp_ratio.tail()[::-1]"
   ]
  },
  {
   "cell_type": "markdown",
   "metadata": {},
   "source": [
    "### Save final dataset"
   ]
  },
  {
   "cell_type": "code",
   "execution_count": 109,
   "metadata": {},
   "outputs": [
    {
     "data": {
      "text/plain": [
       "Index(['title', 'text', 'auth', 'time', 'subreddit', 'new_line_chars',\n",
       "       'tab_chars', 'space_chars', 'zws_chars', 'title_words', 'text_words',\n",
       "       'word_count', 'title_text', 'CC', 'CD', 'DT', 'EX', 'FW', 'IN', 'JJ',\n",
       "       'JJR', 'JJS', 'LS', 'MD', 'NN', 'NNS', 'NNP', 'NNPS', 'PDT', 'POS',\n",
       "       'PRP', 'PRP$', 'RB', 'RBR', 'RBS', 'RP', 'SYM', 'TO', 'UH', 'VB', 'VBD',\n",
       "       'VBG', 'VBN', 'VBP', 'VBZ', 'WDT', 'WP', 'WP$', 'WRB', '.', ',', ':',\n",
       "       '(', ')', '$', '``', '#', '''', 'polarity', 'subjectivity',\n",
       "       'subjectivity_abs_dev', 'polarity_abs_dev'],\n",
       "      dtype='object')"
      ]
     },
     "execution_count": 109,
     "metadata": {},
     "output_type": "execute_result"
    }
   ],
   "source": [
    "df_nlp.columns"
   ]
  },
  {
   "cell_type": "markdown",
   "metadata": {},
   "source": [
    "Since the data file is large I will save it as a parquet file to save space."
   ]
  },
  {
   "cell_type": "code",
   "execution_count": 118,
   "metadata": {},
   "outputs": [],
   "source": [
    "# import pyarrow\n",
    "df_nlp.to_parquet('data/data_cleaned.parquet', index = False)"
   ]
  },
  {
   "cell_type": "code",
   "execution_count": null,
   "metadata": {},
   "outputs": [],
   "source": []
  }
 ],
 "metadata": {
  "interpreter": {
   "hash": "9212599b6527739aacc5bcb356ff64f10af8be4731f2141d8d60dd08601fabb0"
  },
  "kernelspec": {
   "display_name": "Python 3.9.7 64-bit ('base': conda)",
   "language": "python",
   "name": "python3"
  },
  "language_info": {
   "codemirror_mode": {
    "name": "ipython",
    "version": 3
   },
   "file_extension": ".py",
   "mimetype": "text/x-python",
   "name": "python",
   "nbconvert_exporter": "python",
   "pygments_lexer": "ipython3",
   "version": "3.9.7"
  },
  "orig_nbformat": 4
 },
 "nbformat": 4,
 "nbformat_minor": 2
}
