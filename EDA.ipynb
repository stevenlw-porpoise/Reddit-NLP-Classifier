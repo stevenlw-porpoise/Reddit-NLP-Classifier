{
 "cells": [
  {
   "cell_type": "markdown",
   "metadata": {},
   "source": [
    "This notebook does EDA and engineers some new features using NLP tools.\n",
    "The data from the two subreddit input files are combined and the new features are added in to the file data_cleaned.csv."
   ]
  },
  {
   "cell_type": "code",
   "execution_count": 159,
   "metadata": {},
   "outputs": [],
   "source": [
    "import pandas as pd\n",
    "import numpy as np\n",
    "\n",
    "import matplotlib.pyplot as plt\n",
    "import seaborn as sns\n",
    "\n",
    "import nltk\n",
    "from nltk.tokenize import word_tokenize\n",
    "from nltk.tag import pos_tag\n",
    "\n",
    "from textblob import TextBlob"
   ]
  },
  {
   "cell_type": "markdown",
   "metadata": {},
   "source": [
    "#### Display Settings"
   ]
  },
  {
   "cell_type": "code",
   "execution_count": 160,
   "metadata": {},
   "outputs": [],
   "source": [
    "pd.set_option('max_colwidth', 200)"
   ]
  },
  {
   "cell_type": "markdown",
   "metadata": {},
   "source": [
    "### Data Overview + Merging"
   ]
  },
  {
   "cell_type": "code",
   "execution_count": 161,
   "metadata": {},
   "outputs": [],
   "source": [
    "poems = pd.read_csv('data/OCPoetry.csv', index_col = 0)\n",
    "sss = pd.read_csv('data/shortscarystories.csv', index_col=0)"
   ]
  },
  {
   "cell_type": "code",
   "execution_count": 162,
   "metadata": {},
   "outputs": [],
   "source": [
    "poems['subreddit'] = 'OCPoetry'\n",
    "sss['subreddit'] = 'shortscarystories'"
   ]
  },
  {
   "cell_type": "code",
   "execution_count": 163,
   "metadata": {},
   "outputs": [
    {
     "data": {
      "text/html": [
       "<div>\n",
       "<style scoped>\n",
       "    .dataframe tbody tr th:only-of-type {\n",
       "        vertical-align: middle;\n",
       "    }\n",
       "\n",
       "    .dataframe tbody tr th {\n",
       "        vertical-align: top;\n",
       "    }\n",
       "\n",
       "    .dataframe thead th {\n",
       "        text-align: right;\n",
       "    }\n",
       "</style>\n",
       "<table border=\"1\" class=\"dataframe\">\n",
       "  <thead>\n",
       "    <tr style=\"text-align: right;\">\n",
       "      <th></th>\n",
       "      <th>title</th>\n",
       "      <th>text</th>\n",
       "      <th>auth</th>\n",
       "      <th>time</th>\n",
       "      <th>subreddit</th>\n",
       "    </tr>\n",
       "  </thead>\n",
       "  <tbody>\n",
       "    <tr>\n",
       "      <th>0</th>\n",
       "      <td>the moths of time</td>\n",
       "      <td>the moths of time consume your image; everything of you is gone from my life.\\nbut after all this time i still glimpse your grimace in a mirror that reflects when the world was rife.\\n\\n\\nhand on ...</td>\n",
       "      <td>lizerdqweenchlo</td>\n",
       "      <td>1643240027</td>\n",
       "      <td>OCPoetry</td>\n",
       "    </tr>\n",
       "    <tr>\n",
       "      <th>1</th>\n",
       "      <td>Haunted Houses</td>\n",
       "      <td>Floorboards creak\\n\\nUnder little kid feet\\n\\nAs a new family arrives\\n\\nThat the siblings want to meet\\n\\n&amp;amp;#x200B;\\n\\nA big sister!\\n\\nA big brother!\\n\\nA new father!\\n\\nAnd new mother!\\n\\n&amp;a...</td>\n",
       "      <td>richardcrack</td>\n",
       "      <td>1643238939</td>\n",
       "      <td>OCPoetry</td>\n",
       "    </tr>\n",
       "    <tr>\n",
       "      <th>2</th>\n",
       "      <td>Forest of Eden</td>\n",
       "      <td>&amp;amp;#x200B;\\n\\nHe could never quite find\\n\\nWhat made it paradise. \\n\\nWas it the way needles fell \\n\\nFrom the shadeless pines, \\n\\n&amp;amp;#x200B;\\n\\nOr the river that raised \\n\\nHis grandmothers’...</td>\n",
       "      <td>mgmgmgmgm</td>\n",
       "      <td>1643237039</td>\n",
       "      <td>OCPoetry</td>\n",
       "    </tr>\n",
       "    <tr>\n",
       "      <th>3</th>\n",
       "      <td>The deepest fluctuation of creativity</td>\n",
       "      <td>With due regard at your behest\\n\\nI'll smear the ink and burn the rest,\\n\\na long and overdue repose\\n\\nwith words withheld and all books closed,\\n\\nI'll lie as silent as the grave\\n\\nand sleep in...</td>\n",
       "      <td>puredreadful</td>\n",
       "      <td>1643234027</td>\n",
       "      <td>OCPoetry</td>\n",
       "    </tr>\n",
       "    <tr>\n",
       "      <th>4</th>\n",
       "      <td>The deepest fluctuation of creativity</td>\n",
       "      <td>With due regard at your behest\\n\\nI'll smear the ink and burn the rest,\\n\\na long and overdue repose\\n\\nwith words withheld and all books closed,\\n\\nI'll lie as silent as the grave\\n\\nand sleep in...</td>\n",
       "      <td>puredreadful</td>\n",
       "      <td>1643234027</td>\n",
       "      <td>OCPoetry</td>\n",
       "    </tr>\n",
       "  </tbody>\n",
       "</table>\n",
       "</div>"
      ],
      "text/plain": [
       "                                   title  \\\n",
       "0                      the moths of time   \n",
       "1                         Haunted Houses   \n",
       "2                         Forest of Eden   \n",
       "3  The deepest fluctuation of creativity   \n",
       "4  The deepest fluctuation of creativity   \n",
       "\n",
       "                                                                                                                                                                                                      text  \\\n",
       "0  the moths of time consume your image; everything of you is gone from my life.\\nbut after all this time i still glimpse your grimace in a mirror that reflects when the world was rife.\\n\\n\\nhand on ...   \n",
       "1  Floorboards creak\\n\\nUnder little kid feet\\n\\nAs a new family arrives\\n\\nThat the siblings want to meet\\n\\n&amp;#x200B;\\n\\nA big sister!\\n\\nA big brother!\\n\\nA new father!\\n\\nAnd new mother!\\n\\n&a...   \n",
       "2  &amp;#x200B;\\n\\nHe could never quite find\\n\\nWhat made it paradise. \\n\\nWas it the way needles fell \\n\\nFrom the shadeless pines, \\n\\n&amp;#x200B;\\n\\nOr the river that raised \\n\\nHis grandmothers’...   \n",
       "3  With due regard at your behest\\n\\nI'll smear the ink and burn the rest,\\n\\na long and overdue repose\\n\\nwith words withheld and all books closed,\\n\\nI'll lie as silent as the grave\\n\\nand sleep in...   \n",
       "4  With due regard at your behest\\n\\nI'll smear the ink and burn the rest,\\n\\na long and overdue repose\\n\\nwith words withheld and all books closed,\\n\\nI'll lie as silent as the grave\\n\\nand sleep in...   \n",
       "\n",
       "              auth        time subreddit  \n",
       "0  lizerdqweenchlo  1643240027  OCPoetry  \n",
       "1     richardcrack  1643238939  OCPoetry  \n",
       "2        mgmgmgmgm  1643237039  OCPoetry  \n",
       "3     puredreadful  1643234027  OCPoetry  \n",
       "4     puredreadful  1643234027  OCPoetry  "
      ]
     },
     "execution_count": 163,
     "metadata": {},
     "output_type": "execute_result"
    }
   ],
   "source": [
    "poems.head()"
   ]
  },
  {
   "cell_type": "code",
   "execution_count": 164,
   "metadata": {},
   "outputs": [
    {
     "name": "stdout",
     "output_type": "stream",
     "text": [
      "<class 'pandas.core.frame.DataFrame'>\n",
      "Int64Index: 29905 entries, 0 to 48\n",
      "Data columns (total 5 columns):\n",
      " #   Column     Non-Null Count  Dtype \n",
      "---  ------     --------------  ----- \n",
      " 0   title      29905 non-null  object\n",
      " 1   text       29905 non-null  object\n",
      " 2   auth       29905 non-null  object\n",
      " 3   time       29905 non-null  int64 \n",
      " 4   subreddit  29905 non-null  object\n",
      "dtypes: int64(1), object(4)\n",
      "memory usage: 1.4+ MB\n"
     ]
    }
   ],
   "source": [
    "poems.info()"
   ]
  },
  {
   "cell_type": "code",
   "execution_count": 165,
   "metadata": {},
   "outputs": [
    {
     "data": {
      "text/html": [
       "<div>\n",
       "<style scoped>\n",
       "    .dataframe tbody tr th:only-of-type {\n",
       "        vertical-align: middle;\n",
       "    }\n",
       "\n",
       "    .dataframe tbody tr th {\n",
       "        vertical-align: top;\n",
       "    }\n",
       "\n",
       "    .dataframe thead th {\n",
       "        text-align: right;\n",
       "    }\n",
       "</style>\n",
       "<table border=\"1\" class=\"dataframe\">\n",
       "  <thead>\n",
       "    <tr style=\"text-align: right;\">\n",
       "      <th></th>\n",
       "      <th>title</th>\n",
       "      <th>text</th>\n",
       "      <th>auth</th>\n",
       "      <th>time</th>\n",
       "      <th>subreddit</th>\n",
       "    </tr>\n",
       "  </thead>\n",
       "  <tbody>\n",
       "    <tr>\n",
       "      <th>0</th>\n",
       "      <td>Fruit of Human Kindness</td>\n",
       "      <td>**Let it be stated, for the record, that what follows is the examination of one Conrad Marlow, in relation to allegations made against Mr Marlow's former employer, the anthropologist and sitting M...</td>\n",
       "      <td>normancrane</td>\n",
       "      <td>1643239674</td>\n",
       "      <td>shortscarystories</td>\n",
       "    </tr>\n",
       "    <tr>\n",
       "      <th>1</th>\n",
       "      <td>MEDICINE BALL</td>\n",
       "      <td>\\n\\nMy boyfriend and I felt we were not getting exercise and outdoors enough during this bleak winter. Even before the pandemic neither of us were active enough, and with both working long hours...</td>\n",
       "      <td>eloquentursula</td>\n",
       "      <td>1643229661</td>\n",
       "      <td>shortscarystories</td>\n",
       "    </tr>\n",
       "    <tr>\n",
       "      <th>2</th>\n",
       "      <td>The Mandela Effect Is Real And I can Prove it.</td>\n",
       "      <td>\\n\\nDoes anybody remember the film The Lost Boys? It was my favourite film as a kid. I idolised the Frog Brothers and imagined myself fighting vampires side by side with them. I had an awesome p...</td>\n",
       "      <td>Roos85</td>\n",
       "      <td>1643220793</td>\n",
       "      <td>shortscarystories</td>\n",
       "    </tr>\n",
       "    <tr>\n",
       "      <th>3</th>\n",
       "      <td>The most weird call I had ever gotten as a babysitter. (Fictional)</td>\n",
       "      <td>Hi, Im Natalie,  24 year old babysitter, and I wanted to share one of my most bone chilling experiences with a costumer.\\n\\nIt was around 4am, I was deep asleep, snoring so loud it sounded like a ...</td>\n",
       "      <td>Riaxxxxxx_</td>\n",
       "      <td>1643220655</td>\n",
       "      <td>shortscarystories</td>\n",
       "    </tr>\n",
       "    <tr>\n",
       "      <th>4</th>\n",
       "      <td>Forever young</td>\n",
       "      <td>They will tell you she killed herself.\\n\\nShe didn't. I saw what happened, I told and explained them.\\n\\nThey didn't believe me. Said that I need rest, that I was in denial, that my mind played tr...</td>\n",
       "      <td>Thunder-and-Dark</td>\n",
       "      <td>1643213868</td>\n",
       "      <td>shortscarystories</td>\n",
       "    </tr>\n",
       "  </tbody>\n",
       "</table>\n",
       "</div>"
      ],
      "text/plain": [
       "                                                                title  \\\n",
       "0                                             Fruit of Human Kindness   \n",
       "1                                                       MEDICINE BALL   \n",
       "2                      The Mandela Effect Is Real And I can Prove it.   \n",
       "3  The most weird call I had ever gotten as a babysitter. (Fictional)   \n",
       "4                                                       Forever young   \n",
       "\n",
       "                                                                                                                                                                                                      text  \\\n",
       "0  **Let it be stated, for the record, that what follows is the examination of one Conrad Marlow, in relation to allegations made against Mr Marlow's former employer, the anthropologist and sitting M...   \n",
       "1    \\n\\nMy boyfriend and I felt we were not getting exercise and outdoors enough during this bleak winter. Even before the pandemic neither of us were active enough, and with both working long hours...   \n",
       "2    \\n\\nDoes anybody remember the film The Lost Boys? It was my favourite film as a kid. I idolised the Frog Brothers and imagined myself fighting vampires side by side with them. I had an awesome p...   \n",
       "3  Hi, Im Natalie,  24 year old babysitter, and I wanted to share one of my most bone chilling experiences with a costumer.\\n\\nIt was around 4am, I was deep asleep, snoring so loud it sounded like a ...   \n",
       "4  They will tell you she killed herself.\\n\\nShe didn't. I saw what happened, I told and explained them.\\n\\nThey didn't believe me. Said that I need rest, that I was in denial, that my mind played tr...   \n",
       "\n",
       "               auth        time          subreddit  \n",
       "0       normancrane  1643239674  shortscarystories  \n",
       "1    eloquentursula  1643229661  shortscarystories  \n",
       "2            Roos85  1643220793  shortscarystories  \n",
       "3        Riaxxxxxx_  1643220655  shortscarystories  \n",
       "4  Thunder-and-Dark  1643213868  shortscarystories  "
      ]
     },
     "execution_count": 165,
     "metadata": {},
     "output_type": "execute_result"
    }
   ],
   "source": [
    "sss.head()"
   ]
  },
  {
   "cell_type": "code",
   "execution_count": 166,
   "metadata": {},
   "outputs": [
    {
     "name": "stdout",
     "output_type": "stream",
     "text": [
      "<class 'pandas.core.frame.DataFrame'>\n",
      "Int64Index: 28687 entries, 0 to 93\n",
      "Data columns (total 5 columns):\n",
      " #   Column     Non-Null Count  Dtype \n",
      "---  ------     --------------  ----- \n",
      " 0   title      28687 non-null  object\n",
      " 1   text       28586 non-null  object\n",
      " 2   auth       28687 non-null  object\n",
      " 3   time       28687 non-null  int64 \n",
      " 4   subreddit  28687 non-null  object\n",
      "dtypes: int64(1), object(4)\n",
      "memory usage: 1.3+ MB\n"
     ]
    }
   ],
   "source": [
    "sss.info()"
   ]
  },
  {
   "cell_type": "markdown",
   "metadata": {},
   "source": [
    "Merge the two subreddit data frames in to one."
   ]
  },
  {
   "cell_type": "code",
   "execution_count": 167,
   "metadata": {},
   "outputs": [],
   "source": [
    "df = pd.concat([poems, sss])\n",
    "df.reset_index(drop=True, inplace=True)"
   ]
  },
  {
   "cell_type": "code",
   "execution_count": 168,
   "metadata": {},
   "outputs": [
    {
     "name": "stdout",
     "output_type": "stream",
     "text": [
      "<class 'pandas.core.frame.DataFrame'>\n",
      "RangeIndex: 58592 entries, 0 to 58591\n",
      "Data columns (total 5 columns):\n",
      " #   Column     Non-Null Count  Dtype \n",
      "---  ------     --------------  ----- \n",
      " 0   title      58592 non-null  object\n",
      " 1   text       58491 non-null  object\n",
      " 2   auth       58592 non-null  object\n",
      " 3   time       58592 non-null  int64 \n",
      " 4   subreddit  58592 non-null  object\n",
      "dtypes: int64(1), object(4)\n",
      "memory usage: 2.2+ MB\n"
     ]
    }
   ],
   "source": [
    "df.info()"
   ]
  },
  {
   "cell_type": "markdown",
   "metadata": {},
   "source": [
    "### Data Cleaning"
   ]
  },
  {
   "cell_type": "markdown",
   "metadata": {},
   "source": [
    "#### Fill empty strings"
   ]
  },
  {
   "cell_type": "code",
   "execution_count": 169,
   "metadata": {},
   "outputs": [],
   "source": [
    "df['text'].fillna('', inplace=True)"
   ]
  },
  {
   "cell_type": "markdown",
   "metadata": {},
   "source": [
    "#### Count whitespace"
   ]
  },
  {
   "cell_type": "markdown",
   "metadata": {},
   "source": [
    "Whitespace features could be predictive of poetry - I will count them here and then remove them from the text, so they can be included or not in later analysis."
   ]
  },
  {
   "cell_type": "code",
   "execution_count": 170,
   "metadata": {},
   "outputs": [],
   "source": [
    "df['new_line_chars'] = df['text'].str.count('\\n')\n",
    "df['tab_chars'] = df['text'].str.count('\\t')\n",
    "df['space_chars'] = df['text'].str.count(' ')\n",
    "df['zws_chars'] = df['text'].str.count('#x200B') # Zero width space characters"
   ]
  },
  {
   "cell_type": "code",
   "execution_count": 171,
   "metadata": {},
   "outputs": [
    {
     "data": {
      "text/html": [
       "<div>\n",
       "<style scoped>\n",
       "    .dataframe tbody tr th:only-of-type {\n",
       "        vertical-align: middle;\n",
       "    }\n",
       "\n",
       "    .dataframe tbody tr th {\n",
       "        vertical-align: top;\n",
       "    }\n",
       "\n",
       "    .dataframe thead th {\n",
       "        text-align: right;\n",
       "    }\n",
       "</style>\n",
       "<table border=\"1\" class=\"dataframe\">\n",
       "  <thead>\n",
       "    <tr style=\"text-align: right;\">\n",
       "      <th></th>\n",
       "      <th>Avg per post</th>\n",
       "    </tr>\n",
       "  </thead>\n",
       "  <tbody>\n",
       "    <tr>\n",
       "      <th>new_line_chars</th>\n",
       "      <td>35.662445</td>\n",
       "    </tr>\n",
       "    <tr>\n",
       "      <th>tab_chars</th>\n",
       "      <td>0.041661</td>\n",
       "    </tr>\n",
       "    <tr>\n",
       "      <th>space_chars</th>\n",
       "      <td>249.282632</td>\n",
       "    </tr>\n",
       "    <tr>\n",
       "      <th>zws_chars</th>\n",
       "      <td>1.126314</td>\n",
       "    </tr>\n",
       "  </tbody>\n",
       "</table>\n",
       "</div>"
      ],
      "text/plain": [
       "                Avg per post\n",
       "new_line_chars     35.662445\n",
       "tab_chars           0.041661\n",
       "space_chars       249.282632\n",
       "zws_chars           1.126314"
      ]
     },
     "execution_count": 171,
     "metadata": {},
     "output_type": "execute_result"
    }
   ],
   "source": [
    "pd.DataFrame(df.loc[:, 'new_line_chars':'zws_chars'].mean(), columns = ['Avg per post'])"
   ]
  },
  {
   "cell_type": "markdown",
   "metadata": {},
   "source": [
    "#### Remove zero width spaces"
   ]
  },
  {
   "cell_type": "markdown",
   "metadata": {},
   "source": [
    "Since we will use count vectorization in our models it is good to remove non-textual signals. In this case the zero width space sequence '&amp;#x200B;' appears more than 65,000 times in the data, especially in r/OCPoetry."
   ]
  },
  {
   "cell_type": "code",
   "execution_count": 172,
   "metadata": {},
   "outputs": [
    {
     "data": {
      "text/plain": [
       "65971"
      ]
     },
     "execution_count": 172,
     "metadata": {},
     "output_type": "execute_result"
    }
   ],
   "source": [
    "df['text'].str.count('&amp;#x200B;').sum()"
   ]
  },
  {
   "cell_type": "code",
   "execution_count": 173,
   "metadata": {},
   "outputs": [
    {
     "data": {
      "text/plain": [
       "65993"
      ]
     },
     "execution_count": 173,
     "metadata": {},
     "output_type": "execute_result"
    }
   ],
   "source": [
    "df['text'].str.count('#x200B').sum()"
   ]
  },
  {
   "cell_type": "code",
   "execution_count": 174,
   "metadata": {},
   "outputs": [
    {
     "data": {
      "text/plain": [
       "52537"
      ]
     },
     "execution_count": 174,
     "metadata": {},
     "output_type": "execute_result"
    }
   ],
   "source": [
    "df.query('subreddit == \"OCPoetry\"')['text'].str.count('&amp;#x200B;').sum()"
   ]
  },
  {
   "cell_type": "code",
   "execution_count": 175,
   "metadata": {},
   "outputs": [],
   "source": [
    "df['text'] = df['text'].str.replace('&amp;#x200B;', '')\n",
    "df['title'] = df['title'].str.replace('&amp;#x200B;', '')"
   ]
  },
  {
   "cell_type": "markdown",
   "metadata": {},
   "source": [
    "#### Filter URLs"
   ]
  },
  {
   "cell_type": "markdown",
   "metadata": {},
   "source": [
    "URLs are difficult to do NLP on and they are also far more common in the OCPoetry subreddit which biases our models. To fix this we should remove them from the text column."
   ]
  },
  {
   "cell_type": "code",
   "execution_count": 176,
   "metadata": {},
   "outputs": [
    {
     "data": {
      "text/plain": [
       "'\\nwrite songs for my poems\\nput method to my madness\\nplease deaden my mind\\n\\n[1](https://www.reddit.com/r/OCPoetry/comments/ir71un/lusts_smile/?utm_source=share&amp;utm_medium=ios_app&amp;utm_name=iossmf)\\n\\n[2](https://www.reddit.com/r/OCPoetry/comments/ipgn9o/a_dream_i_once_had/?utm_source=share&amp;utm_medium=ios_app&amp;utm_name=iossmf)'"
      ]
     },
     "execution_count": 176,
     "metadata": {},
     "output_type": "execute_result"
    }
   ],
   "source": [
    "df.loc[23854, 'text'] # Example post with 2 urls"
   ]
  },
  {
   "cell_type": "code",
   "execution_count": 177,
   "metadata": {},
   "outputs": [
    {
     "data": {
      "text/plain": [
       "['write',\n",
       " 'songs',\n",
       " 'for',\n",
       " 'my',\n",
       " 'poems',\n",
       " 'put',\n",
       " 'method',\n",
       " 'to',\n",
       " 'my',\n",
       " 'madness',\n",
       " 'please',\n",
       " 'deaden',\n",
       " 'my',\n",
       " 'mind',\n",
       " '[1](https://www.reddit.com/r/OCPoetry/comments/ir71un/lusts_smile/?utm_source=share&amp;utm_medium=ios_app&amp;utm_name=iossmf)',\n",
       " '[2](https://www.reddit.com/r/OCPoetry/comments/ipgn9o/a_dream_i_once_had/?utm_source=share&amp;utm_medium=ios_app&amp;utm_name=iossmf)']"
      ]
     },
     "execution_count": 177,
     "metadata": {},
     "output_type": "execute_result"
    }
   ],
   "source": [
    "df.loc[23854, 'text'].split()"
   ]
  },
  {
   "cell_type": "markdown",
   "metadata": {},
   "source": [
    "In this example the last two tokens return a nonnegative number from `find('https')` indicating they contain a url. The urls are removed with the following cell."
   ]
  },
  {
   "cell_type": "code",
   "execution_count": 178,
   "metadata": {},
   "outputs": [
    {
     "data": {
      "text/plain": [
       "[-1, -1, -1, -1, -1, -1, -1, -1, -1, -1, -1, -1, -1, -1, 4, 4]"
      ]
     },
     "execution_count": 178,
     "metadata": {},
     "output_type": "execute_result"
    }
   ],
   "source": [
    "[token.find('https') for token in df.loc[23854, 'text'].split()]"
   ]
  },
  {
   "cell_type": "code",
   "execution_count": 179,
   "metadata": {},
   "outputs": [
    {
     "data": {
      "text/plain": [
       "'write songs for my poems put method to my madness please deaden my mind'"
      ]
     },
     "execution_count": 179,
     "metadata": {},
     "output_type": "execute_result"
    }
   ],
   "source": [
    "' '.join([token for token in df.loc[23854, 'text'].split() if token.find('https') == -1])"
   ]
  },
  {
   "cell_type": "markdown",
   "metadata": {},
   "source": [
    "Function to remove all urls from the text field.\n",
    "Note this has the side effect of removing all other white space. "
   ]
  },
  {
   "cell_type": "code",
   "execution_count": 180,
   "metadata": {},
   "outputs": [],
   "source": [
    "def scrub_url(text):\n",
    "    return ' '.join([token for token in text.split() if token.find('https') == -1])"
   ]
  },
  {
   "cell_type": "code",
   "execution_count": 181,
   "metadata": {},
   "outputs": [],
   "source": [
    "df['text'] = [scrub_url(text) for text in df['text']]\n",
    "df['title'] = [scrub_url(text) for text in df['title']]"
   ]
  },
  {
   "cell_type": "code",
   "execution_count": 182,
   "metadata": {},
   "outputs": [
    {
     "data": {
      "text/plain": [
       "0"
      ]
     },
     "execution_count": 182,
     "metadata": {},
     "output_type": "execute_result"
    }
   ],
   "source": [
    "df['text'].str.count('https').sum() # check scrubbing"
   ]
  },
  {
   "cell_type": "code",
   "execution_count": 183,
   "metadata": {},
   "outputs": [
    {
     "data": {
      "text/plain": [
       "0"
      ]
     },
     "execution_count": 183,
     "metadata": {},
     "output_type": "execute_result"
    }
   ],
   "source": [
    "df['title'].str.count('https').sum()"
   ]
  },
  {
   "cell_type": "markdown",
   "metadata": {},
   "source": [
    "#### Parse dates"
   ]
  },
  {
   "cell_type": "code",
   "execution_count": 184,
   "metadata": {},
   "outputs": [],
   "source": [
    "df['time'] = pd.to_datetime(df['time'], unit = 's')"
   ]
  },
  {
   "cell_type": "markdown",
   "metadata": {},
   "source": [
    "#### New feature: word counts"
   ]
  },
  {
   "cell_type": "code",
   "execution_count": 185,
   "metadata": {},
   "outputs": [],
   "source": [
    "df['title_words'] = df['title'].str.split().str.len()"
   ]
  },
  {
   "cell_type": "code",
   "execution_count": 186,
   "metadata": {},
   "outputs": [
    {
     "data": {
      "text/plain": [
       "2    13347\n",
       "1    11030\n",
       "3    10396\n",
       "4     7508\n",
       "5     5599\n",
       "Name: title_words, dtype: int64"
      ]
     },
     "execution_count": 186,
     "metadata": {},
     "output_type": "execute_result"
    }
   ],
   "source": [
    "df['title_words'].value_counts().head()"
   ]
  },
  {
   "cell_type": "code",
   "execution_count": 187,
   "metadata": {},
   "outputs": [
    {
     "data": {
      "text/html": [
       "<div>\n",
       "<style scoped>\n",
       "    .dataframe tbody tr th:only-of-type {\n",
       "        vertical-align: middle;\n",
       "    }\n",
       "\n",
       "    .dataframe tbody tr th {\n",
       "        vertical-align: top;\n",
       "    }\n",
       "\n",
       "    .dataframe thead th {\n",
       "        text-align: right;\n",
       "    }\n",
       "</style>\n",
       "<table border=\"1\" class=\"dataframe\">\n",
       "  <thead>\n",
       "    <tr style=\"text-align: right;\">\n",
       "      <th></th>\n",
       "      <th>title</th>\n",
       "      <th>text</th>\n",
       "      <th>auth</th>\n",
       "      <th>time</th>\n",
       "      <th>subreddit</th>\n",
       "      <th>new_line_chars</th>\n",
       "      <th>tab_chars</th>\n",
       "      <th>space_chars</th>\n",
       "      <th>zws_chars</th>\n",
       "      <th>title_words</th>\n",
       "    </tr>\n",
       "  </thead>\n",
       "  <tbody>\n",
       "    <tr>\n",
       "      <th>38464</th>\n",
       "      <td>I just want to die i cant live in this house with them anymore just because i don’t want to leave my room she got 7 other CHILD why does it have to be me why do i have to do the chores why does sh...</td>\n",
       "      <td>Please if they didnt they then i wish i will</td>\n",
       "      <td>S9_b10</td>\n",
       "      <td>2021-01-30 18:25:28</td>\n",
       "      <td>shortscarystories</td>\n",
       "      <td>0</td>\n",
       "      <td>0</td>\n",
       "      <td>9</td>\n",
       "      <td>0</td>\n",
       "      <td>63</td>\n",
       "    </tr>\n",
       "    <tr>\n",
       "      <th>38213</th>\n",
       "      <td>Hola , personas de Reddit el otro día recordé una película que ví hace muchos años que tenía un corto asiático de terror acerca de un chico que hace un ritual y acaba en otra dimensión muy bizarra...</td>\n",
       "      <td></td>\n",
       "      <td>Key-frank-3678</td>\n",
       "      <td>2021-02-14 18:10:50</td>\n",
       "      <td>shortscarystories</td>\n",
       "      <td>0</td>\n",
       "      <td>0</td>\n",
       "      <td>0</td>\n",
       "      <td>0</td>\n",
       "      <td>60</td>\n",
       "    </tr>\n",
       "    <tr>\n",
       "      <th>30893</th>\n",
       "      <td>I heard this of this short story about a man who spends his night asking a girl who comes out her door and she feels forced into doing it by this guy verbally abusing her outside her door. She eve...</td>\n",
       "      <td></td>\n",
       "      <td>carlpoppa618II</td>\n",
       "      <td>2021-12-16 01:09:51</td>\n",
       "      <td>shortscarystories</td>\n",
       "      <td>0</td>\n",
       "      <td>0</td>\n",
       "      <td>0</td>\n",
       "      <td>0</td>\n",
       "      <td>60</td>\n",
       "    </tr>\n",
       "    <tr>\n",
       "      <th>20427</th>\n",
       "      <td>Title: COVID-19. I wrote this a little while back, and have just found this sub reddit. Idk the culture here, so this is gonna be just how I write and recite. I try to break it in ways that can be...</td>\n",
       "      <td>Front lines have become local And we got new soldiers In scrubs and white coats and They trying to save the lives of the people Still low on the PPE for the professionals How come THEY have it una...</td>\n",
       "      <td>chill-_-monkey</td>\n",
       "      <td>2020-11-29 04:42:07</td>\n",
       "      <td>OCPoetry</td>\n",
       "      <td>26</td>\n",
       "      <td>0</td>\n",
       "      <td>97</td>\n",
       "      <td>0</td>\n",
       "      <td>59</td>\n",
       "    </tr>\n",
       "    <tr>\n",
       "      <th>26821</th>\n",
       "      <td>Hello. I'm Santimental, but you can call me just San. I'm usually a story writer, but still a storyteller. I found some muse for writing, and defining it as my poetry was the closest way for me to...</td>\n",
       "      <td>My meaning? Soul. Not purpose. Meaning. The thing, striving after which things make just that bit more sense. It satisfies that itch for something that doesn't exist. How do you make meaning, soul...</td>\n",
       "      <td>Santimental</td>\n",
       "      <td>2020-07-02 08:10:42</td>\n",
       "      <td>OCPoetry</td>\n",
       "      <td>4</td>\n",
       "      <td>0</td>\n",
       "      <td>486</td>\n",
       "      <td>0</td>\n",
       "      <td>59</td>\n",
       "    </tr>\n",
       "  </tbody>\n",
       "</table>\n",
       "</div>"
      ],
      "text/plain": [
       "                                                                                                                                                                                                         title  \\\n",
       "38464  I just want to die i cant live in this house with them anymore just because i don’t want to leave my room she got 7 other CHILD why does it have to be me why do i have to do the chores why does sh...   \n",
       "38213  Hola , personas de Reddit el otro día recordé una película que ví hace muchos años que tenía un corto asiático de terror acerca de un chico que hace un ritual y acaba en otra dimensión muy bizarra...   \n",
       "30893  I heard this of this short story about a man who spends his night asking a girl who comes out her door and she feels forced into doing it by this guy verbally abusing her outside her door. She eve...   \n",
       "20427  Title: COVID-19. I wrote this a little while back, and have just found this sub reddit. Idk the culture here, so this is gonna be just how I write and recite. I try to break it in ways that can be...   \n",
       "26821  Hello. I'm Santimental, but you can call me just San. I'm usually a story writer, but still a storyteller. I found some muse for writing, and defining it as my poetry was the closest way for me to...   \n",
       "\n",
       "                                                                                                                                                                                                          text  \\\n",
       "38464                                                                                                                                                             Please if they didnt they then i wish i will   \n",
       "38213                                                                                                                                                                                                            \n",
       "30893                                                                                                                                                                                                            \n",
       "20427  Front lines have become local And we got new soldiers In scrubs and white coats and They trying to save the lives of the people Still low on the PPE for the professionals How come THEY have it una...   \n",
       "26821  My meaning? Soul. Not purpose. Meaning. The thing, striving after which things make just that bit more sense. It satisfies that itch for something that doesn't exist. How do you make meaning, soul...   \n",
       "\n",
       "                 auth                time          subreddit  new_line_chars  \\\n",
       "38464          S9_b10 2021-01-30 18:25:28  shortscarystories               0   \n",
       "38213  Key-frank-3678 2021-02-14 18:10:50  shortscarystories               0   \n",
       "30893  carlpoppa618II 2021-12-16 01:09:51  shortscarystories               0   \n",
       "20427  chill-_-monkey 2020-11-29 04:42:07           OCPoetry              26   \n",
       "26821     Santimental 2020-07-02 08:10:42           OCPoetry               4   \n",
       "\n",
       "       tab_chars  space_chars  zws_chars  title_words  \n",
       "38464          0            9          0           63  \n",
       "38213          0            0          0           60  \n",
       "30893          0            0          0           60  \n",
       "20427          0           97          0           59  \n",
       "26821          0          486          0           59  "
      ]
     },
     "execution_count": 187,
     "metadata": {},
     "output_type": "execute_result"
    }
   ],
   "source": [
    "df.sort_values(by = 'title_words', ascending=False).head() # There are some very long titles."
   ]
  },
  {
   "cell_type": "code",
   "execution_count": 188,
   "metadata": {},
   "outputs": [],
   "source": [
    "df['text_words'] = df['text'].str.split().str.len()\n",
    "# df.sort_values(by = 'text_words', ascending=False).head()"
   ]
  },
  {
   "cell_type": "code",
   "execution_count": 189,
   "metadata": {},
   "outputs": [],
   "source": [
    "df['word_count'] = df['title_words'] + df['text_words']"
   ]
  },
  {
   "cell_type": "markdown",
   "metadata": {},
   "source": [
    "Additionally the previous whitespace features should be normalized by the word count to show the white space density. The +1 in the denominator is to avoid division by zero."
   ]
  },
  {
   "cell_type": "code",
   "execution_count": 190,
   "metadata": {},
   "outputs": [],
   "source": [
    "df.loc[:, 'new_line_chars':'zws_chars'] = df.loc[:, 'new_line_chars':'zws_chars'].div(df['text_words'] + 1, axis = 0).fillna(0)"
   ]
  },
  {
   "cell_type": "markdown",
   "metadata": {},
   "source": [
    "#### Remove posts with minimal content"
   ]
  },
  {
   "cell_type": "code",
   "execution_count": 191,
   "metadata": {},
   "outputs": [
    {
     "data": {
      "text/html": [
       "<div>\n",
       "<style scoped>\n",
       "    .dataframe tbody tr th:only-of-type {\n",
       "        vertical-align: middle;\n",
       "    }\n",
       "\n",
       "    .dataframe tbody tr th {\n",
       "        vertical-align: top;\n",
       "    }\n",
       "\n",
       "    .dataframe thead th {\n",
       "        text-align: right;\n",
       "    }\n",
       "</style>\n",
       "<table border=\"1\" class=\"dataframe\">\n",
       "  <thead>\n",
       "    <tr style=\"text-align: right;\">\n",
       "      <th></th>\n",
       "      <th>title</th>\n",
       "      <th>text</th>\n",
       "      <th>auth</th>\n",
       "      <th>time</th>\n",
       "      <th>subreddit</th>\n",
       "      <th>new_line_chars</th>\n",
       "      <th>tab_chars</th>\n",
       "      <th>space_chars</th>\n",
       "      <th>zws_chars</th>\n",
       "      <th>title_words</th>\n",
       "      <th>text_words</th>\n",
       "      <th>word_count</th>\n",
       "    </tr>\n",
       "  </thead>\n",
       "  <tbody>\n",
       "    <tr>\n",
       "      <th>71</th>\n",
       "      <td>Cheeks</td>\n",
       "      <td>[deleted]</td>\n",
       "      <td>[deleted]</td>\n",
       "      <td>2022-01-25 14:51:36</td>\n",
       "      <td>OCPoetry</td>\n",
       "      <td>0.0</td>\n",
       "      <td>0.0</td>\n",
       "      <td>0.0</td>\n",
       "      <td>0.0</td>\n",
       "      <td>1</td>\n",
       "      <td>1</td>\n",
       "      <td>2</td>\n",
       "    </tr>\n",
       "    <tr>\n",
       "      <th>335</th>\n",
       "      <td>TEST</td>\n",
       "      <td>TEST</td>\n",
       "      <td>ParadiseEngineer</td>\n",
       "      <td>2022-01-19 19:32:41</td>\n",
       "      <td>OCPoetry</td>\n",
       "      <td>0.0</td>\n",
       "      <td>0.0</td>\n",
       "      <td>0.0</td>\n",
       "      <td>0.0</td>\n",
       "      <td>1</td>\n",
       "      <td>1</td>\n",
       "      <td>2</td>\n",
       "    </tr>\n",
       "    <tr>\n",
       "      <th>847</th>\n",
       "      <td>Reflection in water</td>\n",
       "      <td>[deleted]</td>\n",
       "      <td>[deleted]</td>\n",
       "      <td>2022-01-09 15:15:01</td>\n",
       "      <td>OCPoetry</td>\n",
       "      <td>0.0</td>\n",
       "      <td>0.0</td>\n",
       "      <td>0.0</td>\n",
       "      <td>0.0</td>\n",
       "      <td>3</td>\n",
       "      <td>1</td>\n",
       "      <td>4</td>\n",
       "    </tr>\n",
       "    <tr>\n",
       "      <th>1246</th>\n",
       "      <td>New year, new me?</td>\n",
       "      <td>[deleted]</td>\n",
       "      <td>[deleted]</td>\n",
       "      <td>2022-01-01 00:29:50</td>\n",
       "      <td>OCPoetry</td>\n",
       "      <td>0.0</td>\n",
       "      <td>0.0</td>\n",
       "      <td>0.0</td>\n",
       "      <td>0.0</td>\n",
       "      <td>4</td>\n",
       "      <td>1</td>\n",
       "      <td>5</td>\n",
       "    </tr>\n",
       "    <tr>\n",
       "      <th>1283</th>\n",
       "      <td>A Man With A Gun In The Closet</td>\n",
       "      <td>[deleted]</td>\n",
       "      <td>[deleted]</td>\n",
       "      <td>2021-12-31 01:28:38</td>\n",
       "      <td>OCPoetry</td>\n",
       "      <td>0.0</td>\n",
       "      <td>0.0</td>\n",
       "      <td>0.0</td>\n",
       "      <td>0.0</td>\n",
       "      <td>8</td>\n",
       "      <td>1</td>\n",
       "      <td>9</td>\n",
       "    </tr>\n",
       "    <tr>\n",
       "      <th>...</th>\n",
       "      <td>...</td>\n",
       "      <td>...</td>\n",
       "      <td>...</td>\n",
       "      <td>...</td>\n",
       "      <td>...</td>\n",
       "      <td>...</td>\n",
       "      <td>...</td>\n",
       "      <td>...</td>\n",
       "      <td>...</td>\n",
       "      <td>...</td>\n",
       "      <td>...</td>\n",
       "      <td>...</td>\n",
       "    </tr>\n",
       "    <tr>\n",
       "      <th>57279</th>\n",
       "      <td>I am not Suicidal</td>\n",
       "      <td>[deleted]</td>\n",
       "      <td>[deleted]</td>\n",
       "      <td>2018-08-10 12:48:13</td>\n",
       "      <td>shortscarystories</td>\n",
       "      <td>0.0</td>\n",
       "      <td>0.0</td>\n",
       "      <td>0.0</td>\n",
       "      <td>0.0</td>\n",
       "      <td>4</td>\n",
       "      <td>1</td>\n",
       "      <td>5</td>\n",
       "    </tr>\n",
       "    <tr>\n",
       "      <th>57280</th>\n",
       "      <td>Overthinking</td>\n",
       "      <td>[deleted]</td>\n",
       "      <td>[deleted]</td>\n",
       "      <td>2018-08-10 07:40:30</td>\n",
       "      <td>shortscarystories</td>\n",
       "      <td>0.0</td>\n",
       "      <td>0.0</td>\n",
       "      <td>0.0</td>\n",
       "      <td>0.0</td>\n",
       "      <td>1</td>\n",
       "      <td>1</td>\n",
       "      <td>2</td>\n",
       "    </tr>\n",
       "    <tr>\n",
       "      <th>57316</th>\n",
       "      <td>Happy Birthday Hannah</td>\n",
       "      <td>\\[removed\\]</td>\n",
       "      <td>Ghettoceratops</td>\n",
       "      <td>2018-08-08 17:35:25</td>\n",
       "      <td>shortscarystories</td>\n",
       "      <td>0.0</td>\n",
       "      <td>0.0</td>\n",
       "      <td>0.0</td>\n",
       "      <td>0.0</td>\n",
       "      <td>3</td>\n",
       "      <td>1</td>\n",
       "      <td>4</td>\n",
       "    </tr>\n",
       "    <tr>\n",
       "      <th>57318</th>\n",
       "      <td>Carolines Notebooks</td>\n",
       "      <td>\\[removed\\]</td>\n",
       "      <td>minroe-mafdet</td>\n",
       "      <td>2018-08-08 17:08:51</td>\n",
       "      <td>shortscarystories</td>\n",
       "      <td>0.0</td>\n",
       "      <td>0.0</td>\n",
       "      <td>0.0</td>\n",
       "      <td>0.0</td>\n",
       "      <td>2</td>\n",
       "      <td>1</td>\n",
       "      <td>3</td>\n",
       "    </tr>\n",
       "    <tr>\n",
       "      <th>57728</th>\n",
       "      <td>Y</td>\n",
       "      <td>Y</td>\n",
       "      <td>parnaw</td>\n",
       "      <td>2018-07-10 15:34:24</td>\n",
       "      <td>shortscarystories</td>\n",
       "      <td>0.0</td>\n",
       "      <td>0.0</td>\n",
       "      <td>0.0</td>\n",
       "      <td>0.0</td>\n",
       "      <td>1</td>\n",
       "      <td>1</td>\n",
       "      <td>2</td>\n",
       "    </tr>\n",
       "  </tbody>\n",
       "</table>\n",
       "<p>1053 rows × 12 columns</p>\n",
       "</div>"
      ],
      "text/plain": [
       "                                title         text              auth  \\\n",
       "71                             Cheeks    [deleted]         [deleted]   \n",
       "335                              TEST         TEST  ParadiseEngineer   \n",
       "847               Reflection in water    [deleted]         [deleted]   \n",
       "1246                New year, new me?    [deleted]         [deleted]   \n",
       "1283   A Man With A Gun In The Closet    [deleted]         [deleted]   \n",
       "...                               ...          ...               ...   \n",
       "57279               I am not Suicidal    [deleted]         [deleted]   \n",
       "57280                    Overthinking    [deleted]         [deleted]   \n",
       "57316           Happy Birthday Hannah  \\[removed\\]    Ghettoceratops   \n",
       "57318             Carolines Notebooks  \\[removed\\]     minroe-mafdet   \n",
       "57728                               Y            Y            parnaw   \n",
       "\n",
       "                     time          subreddit  new_line_chars  tab_chars  \\\n",
       "71    2022-01-25 14:51:36           OCPoetry             0.0        0.0   \n",
       "335   2022-01-19 19:32:41           OCPoetry             0.0        0.0   \n",
       "847   2022-01-09 15:15:01           OCPoetry             0.0        0.0   \n",
       "1246  2022-01-01 00:29:50           OCPoetry             0.0        0.0   \n",
       "1283  2021-12-31 01:28:38           OCPoetry             0.0        0.0   \n",
       "...                   ...                ...             ...        ...   \n",
       "57279 2018-08-10 12:48:13  shortscarystories             0.0        0.0   \n",
       "57280 2018-08-10 07:40:30  shortscarystories             0.0        0.0   \n",
       "57316 2018-08-08 17:35:25  shortscarystories             0.0        0.0   \n",
       "57318 2018-08-08 17:08:51  shortscarystories             0.0        0.0   \n",
       "57728 2018-07-10 15:34:24  shortscarystories             0.0        0.0   \n",
       "\n",
       "       space_chars  zws_chars  title_words  text_words  word_count  \n",
       "71             0.0        0.0            1           1           2  \n",
       "335            0.0        0.0            1           1           2  \n",
       "847            0.0        0.0            3           1           4  \n",
       "1246           0.0        0.0            4           1           5  \n",
       "1283           0.0        0.0            8           1           9  \n",
       "...            ...        ...          ...         ...         ...  \n",
       "57279          0.0        0.0            4           1           5  \n",
       "57280          0.0        0.0            1           1           2  \n",
       "57316          0.0        0.0            3           1           4  \n",
       "57318          0.0        0.0            2           1           3  \n",
       "57728          0.0        0.0            1           1           2  \n",
       "\n",
       "[1053 rows x 12 columns]"
      ]
     },
     "execution_count": 191,
     "metadata": {},
     "output_type": "execute_result"
    }
   ],
   "source": [
    "df.query('text_words == 1')"
   ]
  },
  {
   "cell_type": "markdown",
   "metadata": {},
   "source": [
    "1016 posts are marked as deleted - I will drop these from the data set."
   ]
  },
  {
   "cell_type": "code",
   "execution_count": 192,
   "metadata": {},
   "outputs": [
    {
     "data": {
      "text/html": [
       "<div>\n",
       "<style scoped>\n",
       "    .dataframe tbody tr th:only-of-type {\n",
       "        vertical-align: middle;\n",
       "    }\n",
       "\n",
       "    .dataframe tbody tr th {\n",
       "        vertical-align: top;\n",
       "    }\n",
       "\n",
       "    .dataframe thead th {\n",
       "        text-align: right;\n",
       "    }\n",
       "</style>\n",
       "<table border=\"1\" class=\"dataframe\">\n",
       "  <thead>\n",
       "    <tr style=\"text-align: right;\">\n",
       "      <th></th>\n",
       "      <th>title</th>\n",
       "      <th>text</th>\n",
       "      <th>auth</th>\n",
       "      <th>time</th>\n",
       "      <th>subreddit</th>\n",
       "      <th>new_line_chars</th>\n",
       "      <th>tab_chars</th>\n",
       "      <th>space_chars</th>\n",
       "      <th>zws_chars</th>\n",
       "      <th>title_words</th>\n",
       "      <th>text_words</th>\n",
       "      <th>word_count</th>\n",
       "    </tr>\n",
       "  </thead>\n",
       "  <tbody>\n",
       "    <tr>\n",
       "      <th>71</th>\n",
       "      <td>Cheeks</td>\n",
       "      <td>[deleted]</td>\n",
       "      <td>[deleted]</td>\n",
       "      <td>2022-01-25 14:51:36</td>\n",
       "      <td>OCPoetry</td>\n",
       "      <td>0.0</td>\n",
       "      <td>0.0</td>\n",
       "      <td>0.0</td>\n",
       "      <td>0.0</td>\n",
       "      <td>1</td>\n",
       "      <td>1</td>\n",
       "      <td>2</td>\n",
       "    </tr>\n",
       "    <tr>\n",
       "      <th>847</th>\n",
       "      <td>Reflection in water</td>\n",
       "      <td>[deleted]</td>\n",
       "      <td>[deleted]</td>\n",
       "      <td>2022-01-09 15:15:01</td>\n",
       "      <td>OCPoetry</td>\n",
       "      <td>0.0</td>\n",
       "      <td>0.0</td>\n",
       "      <td>0.0</td>\n",
       "      <td>0.0</td>\n",
       "      <td>3</td>\n",
       "      <td>1</td>\n",
       "      <td>4</td>\n",
       "    </tr>\n",
       "    <tr>\n",
       "      <th>1246</th>\n",
       "      <td>New year, new me?</td>\n",
       "      <td>[deleted]</td>\n",
       "      <td>[deleted]</td>\n",
       "      <td>2022-01-01 00:29:50</td>\n",
       "      <td>OCPoetry</td>\n",
       "      <td>0.0</td>\n",
       "      <td>0.0</td>\n",
       "      <td>0.0</td>\n",
       "      <td>0.0</td>\n",
       "      <td>4</td>\n",
       "      <td>1</td>\n",
       "      <td>5</td>\n",
       "    </tr>\n",
       "    <tr>\n",
       "      <th>1283</th>\n",
       "      <td>A Man With A Gun In The Closet</td>\n",
       "      <td>[deleted]</td>\n",
       "      <td>[deleted]</td>\n",
       "      <td>2021-12-31 01:28:38</td>\n",
       "      <td>OCPoetry</td>\n",
       "      <td>0.0</td>\n",
       "      <td>0.0</td>\n",
       "      <td>0.0</td>\n",
       "      <td>0.0</td>\n",
       "      <td>8</td>\n",
       "      <td>1</td>\n",
       "      <td>9</td>\n",
       "    </tr>\n",
       "    <tr>\n",
       "      <th>1358</th>\n",
       "      <td>Sehar</td>\n",
       "      <td>[deleted]</td>\n",
       "      <td>[deleted]</td>\n",
       "      <td>2021-12-29 13:21:22</td>\n",
       "      <td>OCPoetry</td>\n",
       "      <td>0.0</td>\n",
       "      <td>0.0</td>\n",
       "      <td>0.0</td>\n",
       "      <td>0.0</td>\n",
       "      <td>1</td>\n",
       "      <td>1</td>\n",
       "      <td>2</td>\n",
       "    </tr>\n",
       "    <tr>\n",
       "      <th>...</th>\n",
       "      <td>...</td>\n",
       "      <td>...</td>\n",
       "      <td>...</td>\n",
       "      <td>...</td>\n",
       "      <td>...</td>\n",
       "      <td>...</td>\n",
       "      <td>...</td>\n",
       "      <td>...</td>\n",
       "      <td>...</td>\n",
       "      <td>...</td>\n",
       "      <td>...</td>\n",
       "      <td>...</td>\n",
       "    </tr>\n",
       "    <tr>\n",
       "      <th>57267</th>\n",
       "      <td>Failure.</td>\n",
       "      <td>[deleted]</td>\n",
       "      <td>[deleted]</td>\n",
       "      <td>2018-08-10 21:53:17</td>\n",
       "      <td>shortscarystories</td>\n",
       "      <td>0.0</td>\n",
       "      <td>0.0</td>\n",
       "      <td>0.0</td>\n",
       "      <td>0.0</td>\n",
       "      <td>1</td>\n",
       "      <td>1</td>\n",
       "      <td>2</td>\n",
       "    </tr>\n",
       "    <tr>\n",
       "      <th>57268</th>\n",
       "      <td>Adventurous spirits</td>\n",
       "      <td>[deleted]</td>\n",
       "      <td>[deleted]</td>\n",
       "      <td>2018-08-10 20:20:55</td>\n",
       "      <td>shortscarystories</td>\n",
       "      <td>0.0</td>\n",
       "      <td>0.0</td>\n",
       "      <td>0.0</td>\n",
       "      <td>0.0</td>\n",
       "      <td>2</td>\n",
       "      <td>1</td>\n",
       "      <td>3</td>\n",
       "    </tr>\n",
       "    <tr>\n",
       "      <th>57275</th>\n",
       "      <td>Next Level</td>\n",
       "      <td>[deleted]</td>\n",
       "      <td>[deleted]</td>\n",
       "      <td>2018-08-10 14:06:49</td>\n",
       "      <td>shortscarystories</td>\n",
       "      <td>0.0</td>\n",
       "      <td>0.0</td>\n",
       "      <td>0.0</td>\n",
       "      <td>0.0</td>\n",
       "      <td>2</td>\n",
       "      <td>1</td>\n",
       "      <td>3</td>\n",
       "    </tr>\n",
       "    <tr>\n",
       "      <th>57279</th>\n",
       "      <td>I am not Suicidal</td>\n",
       "      <td>[deleted]</td>\n",
       "      <td>[deleted]</td>\n",
       "      <td>2018-08-10 12:48:13</td>\n",
       "      <td>shortscarystories</td>\n",
       "      <td>0.0</td>\n",
       "      <td>0.0</td>\n",
       "      <td>0.0</td>\n",
       "      <td>0.0</td>\n",
       "      <td>4</td>\n",
       "      <td>1</td>\n",
       "      <td>5</td>\n",
       "    </tr>\n",
       "    <tr>\n",
       "      <th>57280</th>\n",
       "      <td>Overthinking</td>\n",
       "      <td>[deleted]</td>\n",
       "      <td>[deleted]</td>\n",
       "      <td>2018-08-10 07:40:30</td>\n",
       "      <td>shortscarystories</td>\n",
       "      <td>0.0</td>\n",
       "      <td>0.0</td>\n",
       "      <td>0.0</td>\n",
       "      <td>0.0</td>\n",
       "      <td>1</td>\n",
       "      <td>1</td>\n",
       "      <td>2</td>\n",
       "    </tr>\n",
       "  </tbody>\n",
       "</table>\n",
       "<p>1016 rows × 12 columns</p>\n",
       "</div>"
      ],
      "text/plain": [
       "                                title       text       auth  \\\n",
       "71                             Cheeks  [deleted]  [deleted]   \n",
       "847               Reflection in water  [deleted]  [deleted]   \n",
       "1246                New year, new me?  [deleted]  [deleted]   \n",
       "1283   A Man With A Gun In The Closet  [deleted]  [deleted]   \n",
       "1358                            Sehar  [deleted]  [deleted]   \n",
       "...                               ...        ...        ...   \n",
       "57267                        Failure.  [deleted]  [deleted]   \n",
       "57268             Adventurous spirits  [deleted]  [deleted]   \n",
       "57275                      Next Level  [deleted]  [deleted]   \n",
       "57279               I am not Suicidal  [deleted]  [deleted]   \n",
       "57280                    Overthinking  [deleted]  [deleted]   \n",
       "\n",
       "                     time          subreddit  new_line_chars  tab_chars  \\\n",
       "71    2022-01-25 14:51:36           OCPoetry             0.0        0.0   \n",
       "847   2022-01-09 15:15:01           OCPoetry             0.0        0.0   \n",
       "1246  2022-01-01 00:29:50           OCPoetry             0.0        0.0   \n",
       "1283  2021-12-31 01:28:38           OCPoetry             0.0        0.0   \n",
       "1358  2021-12-29 13:21:22           OCPoetry             0.0        0.0   \n",
       "...                   ...                ...             ...        ...   \n",
       "57267 2018-08-10 21:53:17  shortscarystories             0.0        0.0   \n",
       "57268 2018-08-10 20:20:55  shortscarystories             0.0        0.0   \n",
       "57275 2018-08-10 14:06:49  shortscarystories             0.0        0.0   \n",
       "57279 2018-08-10 12:48:13  shortscarystories             0.0        0.0   \n",
       "57280 2018-08-10 07:40:30  shortscarystories             0.0        0.0   \n",
       "\n",
       "       space_chars  zws_chars  title_words  text_words  word_count  \n",
       "71             0.0        0.0            1           1           2  \n",
       "847            0.0        0.0            3           1           4  \n",
       "1246           0.0        0.0            4           1           5  \n",
       "1283           0.0        0.0            8           1           9  \n",
       "1358           0.0        0.0            1           1           2  \n",
       "...            ...        ...          ...         ...         ...  \n",
       "57267          0.0        0.0            1           1           2  \n",
       "57268          0.0        0.0            2           1           3  \n",
       "57275          0.0        0.0            2           1           3  \n",
       "57279          0.0        0.0            4           1           5  \n",
       "57280          0.0        0.0            1           1           2  \n",
       "\n",
       "[1016 rows x 12 columns]"
      ]
     },
     "execution_count": 192,
     "metadata": {},
     "output_type": "execute_result"
    }
   ],
   "source": [
    "df.query('text == \"[deleted]\"')"
   ]
  },
  {
   "cell_type": "code",
   "execution_count": 193,
   "metadata": {},
   "outputs": [],
   "source": [
    "df.query('text != \"[deleted]\"', inplace = True)"
   ]
  },
  {
   "cell_type": "markdown",
   "metadata": {},
   "source": [
    "##### Other short posts"
   ]
  },
  {
   "cell_type": "code",
   "execution_count": 194,
   "metadata": {},
   "outputs": [
    {
     "data": {
      "text/html": [
       "<div>\n",
       "<style scoped>\n",
       "    .dataframe tbody tr th:only-of-type {\n",
       "        vertical-align: middle;\n",
       "    }\n",
       "\n",
       "    .dataframe tbody tr th {\n",
       "        vertical-align: top;\n",
       "    }\n",
       "\n",
       "    .dataframe thead th {\n",
       "        text-align: right;\n",
       "    }\n",
       "</style>\n",
       "<table border=\"1\" class=\"dataframe\">\n",
       "  <thead>\n",
       "    <tr style=\"text-align: right;\">\n",
       "      <th></th>\n",
       "      <th>title</th>\n",
       "      <th>text</th>\n",
       "      <th>auth</th>\n",
       "      <th>time</th>\n",
       "      <th>subreddit</th>\n",
       "      <th>new_line_chars</th>\n",
       "      <th>tab_chars</th>\n",
       "      <th>space_chars</th>\n",
       "      <th>zws_chars</th>\n",
       "      <th>title_words</th>\n",
       "      <th>text_words</th>\n",
       "      <th>word_count</th>\n",
       "    </tr>\n",
       "  </thead>\n",
       "  <tbody>\n",
       "    <tr>\n",
       "      <th>26903</th>\n",
       "      <td>Feedback on first YouTube poem publication</td>\n",
       "      <td>Thank you so much.</td>\n",
       "      <td>tam1413</td>\n",
       "      <td>2020-06-29 23:38:54</td>\n",
       "      <td>OCPoetry</td>\n",
       "      <td>0.400000</td>\n",
       "      <td>0.0</td>\n",
       "      <td>0.600000</td>\n",
       "      <td>0.00</td>\n",
       "      <td>6</td>\n",
       "      <td>4</td>\n",
       "      <td>10</td>\n",
       "    </tr>\n",
       "    <tr>\n",
       "      <th>12216</th>\n",
       "      <td>Jensup</td>\n",
       "      <td>imperlocutability was not to be</td>\n",
       "      <td>beumuth</td>\n",
       "      <td>2021-05-02 21:16:13</td>\n",
       "      <td>OCPoetry</td>\n",
       "      <td>0.333333</td>\n",
       "      <td>0.0</td>\n",
       "      <td>0.833333</td>\n",
       "      <td>0.00</td>\n",
       "      <td>1</td>\n",
       "      <td>5</td>\n",
       "      <td>6</td>\n",
       "    </tr>\n",
       "    <tr>\n",
       "      <th>8116</th>\n",
       "      <td>Tum itna jo muskura rahe ho #shorts</td>\n",
       "      <td>|||| |:-|:-|:-| ||||</td>\n",
       "      <td>mirnadeemahmad</td>\n",
       "      <td>2021-07-26 17:24:41</td>\n",
       "      <td>OCPoetry</td>\n",
       "      <td>1.000000</td>\n",
       "      <td>0.0</td>\n",
       "      <td>0.000000</td>\n",
       "      <td>0.25</td>\n",
       "      <td>7</td>\n",
       "      <td>3</td>\n",
       "      <td>10</td>\n",
       "    </tr>\n",
       "    <tr>\n",
       "      <th>44023</th>\n",
       "      <td>Hi I am new here and i wrote this story....hope you like it</td>\n",
       "      <td></td>\n",
       "      <td>cutelittlefox1</td>\n",
       "      <td>2020-07-16 05:45:42</td>\n",
       "      <td>shortscarystories</td>\n",
       "      <td>0.000000</td>\n",
       "      <td>0.0</td>\n",
       "      <td>0.000000</td>\n",
       "      <td>0.00</td>\n",
       "      <td>13</td>\n",
       "      <td>0</td>\n",
       "      <td>13</td>\n",
       "    </tr>\n",
       "    <tr>\n",
       "      <th>26287</th>\n",
       "      <td>Can poetry be combined with art / could this (link below) be considered poetry despite it being just a few words?</td>\n",
       "      <td>[See Feedback:</td>\n",
       "      <td>wileen</td>\n",
       "      <td>2020-07-14 18:14:13</td>\n",
       "      <td>OCPoetry</td>\n",
       "      <td>1.000000</td>\n",
       "      <td>0.0</td>\n",
       "      <td>0.666667</td>\n",
       "      <td>0.00</td>\n",
       "      <td>21</td>\n",
       "      <td>2</td>\n",
       "      <td>23</td>\n",
       "    </tr>\n",
       "    <tr>\n",
       "      <th>33336</th>\n",
       "      <td>Population Control</td>\n",
       "      <td></td>\n",
       "      <td>Realjustice4</td>\n",
       "      <td>2021-09-10 06:10:03</td>\n",
       "      <td>shortscarystories</td>\n",
       "      <td>0.000000</td>\n",
       "      <td>0.0</td>\n",
       "      <td>0.000000</td>\n",
       "      <td>0.00</td>\n",
       "      <td>2</td>\n",
       "      <td>0</td>\n",
       "      <td>2</td>\n",
       "    </tr>\n",
       "    <tr>\n",
       "      <th>9005</th>\n",
       "      <td>Solstice poems. thoughts and memories</td>\n",
       "      <td></td>\n",
       "      <td>rucythevamp</td>\n",
       "      <td>2021-07-06 06:25:58</td>\n",
       "      <td>OCPoetry</td>\n",
       "      <td>2.000000</td>\n",
       "      <td>0.0</td>\n",
       "      <td>0.000000</td>\n",
       "      <td>0.00</td>\n",
       "      <td>5</td>\n",
       "      <td>0</td>\n",
       "      <td>5</td>\n",
       "    </tr>\n",
       "    <tr>\n",
       "      <th>9043</th>\n",
       "      <td>Once Upon A Year Ago</td>\n",
       "      <td></td>\n",
       "      <td>Eddiehea</td>\n",
       "      <td>2021-07-05 13:58:56</td>\n",
       "      <td>OCPoetry</td>\n",
       "      <td>0.000000</td>\n",
       "      <td>0.0</td>\n",
       "      <td>0.000000</td>\n",
       "      <td>0.00</td>\n",
       "      <td>5</td>\n",
       "      <td>0</td>\n",
       "      <td>5</td>\n",
       "    </tr>\n",
       "    <tr>\n",
       "      <th>12341</th>\n",
       "      <td>I wrote a poem</td>\n",
       "      <td></td>\n",
       "      <td>HamoodHabibi246</td>\n",
       "      <td>2021-04-30 16:37:12</td>\n",
       "      <td>OCPoetry</td>\n",
       "      <td>0.000000</td>\n",
       "      <td>0.0</td>\n",
       "      <td>0.000000</td>\n",
       "      <td>0.00</td>\n",
       "      <td>4</td>\n",
       "      <td>0</td>\n",
       "      <td>4</td>\n",
       "    </tr>\n",
       "    <tr>\n",
       "      <th>18306</th>\n",
       "      <td>\"Where Do We Go?\"</td>\n",
       "      <td></td>\n",
       "      <td>onealexvon</td>\n",
       "      <td>2021-01-04 21:28:17</td>\n",
       "      <td>OCPoetry</td>\n",
       "      <td>0.000000</td>\n",
       "      <td>0.0</td>\n",
       "      <td>0.000000</td>\n",
       "      <td>0.00</td>\n",
       "      <td>4</td>\n",
       "      <td>0</td>\n",
       "      <td>4</td>\n",
       "    </tr>\n",
       "  </tbody>\n",
       "</table>\n",
       "</div>"
      ],
      "text/plain": [
       "                                                                                                                   title  \\\n",
       "26903                                                                         Feedback on first YouTube poem publication   \n",
       "12216                                                                                                             Jensup   \n",
       "8116                                                                                 Tum itna jo muskura rahe ho #shorts   \n",
       "44023                                                        Hi I am new here and i wrote this story....hope you like it   \n",
       "26287  Can poetry be combined with art / could this (link below) be considered poetry despite it being just a few words?   \n",
       "33336                                                                                                 Population Control   \n",
       "9005                                                                               Solstice poems. thoughts and memories   \n",
       "9043                                                                                                Once Upon A Year Ago   \n",
       "12341                                                                                                     I wrote a poem   \n",
       "18306                                                                                                  \"Where Do We Go?\"   \n",
       "\n",
       "                                  text             auth                time  \\\n",
       "26903               Thank you so much.          tam1413 2020-06-29 23:38:54   \n",
       "12216  imperlocutability was not to be          beumuth 2021-05-02 21:16:13   \n",
       "8116              |||| |:-|:-|:-| ||||   mirnadeemahmad 2021-07-26 17:24:41   \n",
       "44023                                    cutelittlefox1 2020-07-16 05:45:42   \n",
       "26287                   [See Feedback:           wileen 2020-07-14 18:14:13   \n",
       "33336                                      Realjustice4 2021-09-10 06:10:03   \n",
       "9005                                        rucythevamp 2021-07-06 06:25:58   \n",
       "9043                                           Eddiehea 2021-07-05 13:58:56   \n",
       "12341                                   HamoodHabibi246 2021-04-30 16:37:12   \n",
       "18306                                        onealexvon 2021-01-04 21:28:17   \n",
       "\n",
       "               subreddit  new_line_chars  tab_chars  space_chars  zws_chars  \\\n",
       "26903           OCPoetry        0.400000        0.0     0.600000       0.00   \n",
       "12216           OCPoetry        0.333333        0.0     0.833333       0.00   \n",
       "8116            OCPoetry        1.000000        0.0     0.000000       0.25   \n",
       "44023  shortscarystories        0.000000        0.0     0.000000       0.00   \n",
       "26287           OCPoetry        1.000000        0.0     0.666667       0.00   \n",
       "33336  shortscarystories        0.000000        0.0     0.000000       0.00   \n",
       "9005            OCPoetry        2.000000        0.0     0.000000       0.00   \n",
       "9043            OCPoetry        0.000000        0.0     0.000000       0.00   \n",
       "12341           OCPoetry        0.000000        0.0     0.000000       0.00   \n",
       "18306           OCPoetry        0.000000        0.0     0.000000       0.00   \n",
       "\n",
       "       title_words  text_words  word_count  \n",
       "26903            6           4          10  \n",
       "12216            1           5           6  \n",
       "8116             7           3          10  \n",
       "44023           13           0          13  \n",
       "26287           21           2          23  \n",
       "33336            2           0           2  \n",
       "9005             5           0           5  \n",
       "9043             5           0           5  \n",
       "12341            4           0           4  \n",
       "18306            4           0           4  "
      ]
     },
     "execution_count": 194,
     "metadata": {},
     "output_type": "execute_result"
    }
   ],
   "source": [
    "df.query('text_words <= 5').sample(10)"
   ]
  },
  {
   "cell_type": "markdown",
   "metadata": {},
   "source": [
    "Posts with few words often are test posts or are primarily discussing a deleted link. \n",
    "Since it is hard to write a genuine poem or story in such few words and it is also difficult for an NLP model to analyze posts I will remove them from the data set.\n",
    "While the threshold for number of words is some what arbitrary, it seems like posts with 5 or fewer owrds are rarely genuiune so in honor of [Ernest Hemingway](https://www.openculture.com/2015/03/the-urban-legend-of-ernest-hemingways-six-word-story.html) I will set the cutoff at 6 words in the text and title combined."
   ]
  },
  {
   "cell_type": "code",
   "execution_count": 195,
   "metadata": {},
   "outputs": [
    {
     "data": {
      "text/html": [
       "<div>\n",
       "<style scoped>\n",
       "    .dataframe tbody tr th:only-of-type {\n",
       "        vertical-align: middle;\n",
       "    }\n",
       "\n",
       "    .dataframe tbody tr th {\n",
       "        vertical-align: top;\n",
       "    }\n",
       "\n",
       "    .dataframe thead th {\n",
       "        text-align: right;\n",
       "    }\n",
       "</style>\n",
       "<table border=\"1\" class=\"dataframe\">\n",
       "  <thead>\n",
       "    <tr style=\"text-align: right;\">\n",
       "      <th></th>\n",
       "      <th>title</th>\n",
       "      <th>text</th>\n",
       "      <th>auth</th>\n",
       "      <th>time</th>\n",
       "      <th>subreddit</th>\n",
       "      <th>new_line_chars</th>\n",
       "      <th>tab_chars</th>\n",
       "      <th>space_chars</th>\n",
       "      <th>zws_chars</th>\n",
       "      <th>title_words</th>\n",
       "      <th>text_words</th>\n",
       "      <th>word_count</th>\n",
       "    </tr>\n",
       "  </thead>\n",
       "  <tbody>\n",
       "    <tr>\n",
       "      <th>22821</th>\n",
       "      <td>Her Trial</td>\n",
       "      <td></td>\n",
       "      <td>phriendlysciguy</td>\n",
       "      <td>2020-10-08 21:00:58</td>\n",
       "      <td>OCPoetry</td>\n",
       "      <td>0.0</td>\n",
       "      <td>0.0</td>\n",
       "      <td>0.0</td>\n",
       "      <td>0.0</td>\n",
       "      <td>2</td>\n",
       "      <td>0</td>\n",
       "      <td>2</td>\n",
       "    </tr>\n",
       "    <tr>\n",
       "      <th>1339</th>\n",
       "      <td>Apple pie &amp;amp; Moonshine</td>\n",
       "      <td></td>\n",
       "      <td>styles-007</td>\n",
       "      <td>2021-12-29 19:21:42</td>\n",
       "      <td>OCPoetry</td>\n",
       "      <td>0.0</td>\n",
       "      <td>0.0</td>\n",
       "      <td>0.0</td>\n",
       "      <td>0.0</td>\n",
       "      <td>4</td>\n",
       "      <td>0</td>\n",
       "      <td>4</td>\n",
       "    </tr>\n",
       "    <tr>\n",
       "      <th>9570</th>\n",
       "      <td>Broken II</td>\n",
       "      <td></td>\n",
       "      <td>Dr-Electric</td>\n",
       "      <td>2021-06-23 14:50:12</td>\n",
       "      <td>OCPoetry</td>\n",
       "      <td>4.0</td>\n",
       "      <td>0.0</td>\n",
       "      <td>0.0</td>\n",
       "      <td>0.0</td>\n",
       "      <td>2</td>\n",
       "      <td>0</td>\n",
       "      <td>2</td>\n",
       "    </tr>\n",
       "    <tr>\n",
       "      <th>46778</th>\n",
       "      <td>Again 2312</td>\n",
       "      <td>500274192020</td>\n",
       "      <td>666MRICS666</td>\n",
       "      <td>2020-04-08 00:32:18</td>\n",
       "      <td>shortscarystories</td>\n",
       "      <td>0.0</td>\n",
       "      <td>0.0</td>\n",
       "      <td>0.0</td>\n",
       "      <td>0.0</td>\n",
       "      <td>2</td>\n",
       "      <td>1</td>\n",
       "      <td>3</td>\n",
       "    </tr>\n",
       "    <tr>\n",
       "      <th>14267</th>\n",
       "      <td>him (tw)</td>\n",
       "      <td></td>\n",
       "      <td>maddie-sarah16</td>\n",
       "      <td>2021-03-14 20:41:20</td>\n",
       "      <td>OCPoetry</td>\n",
       "      <td>0.0</td>\n",
       "      <td>0.0</td>\n",
       "      <td>0.0</td>\n",
       "      <td>0.0</td>\n",
       "      <td>2</td>\n",
       "      <td>0</td>\n",
       "      <td>2</td>\n",
       "    </tr>\n",
       "    <tr>\n",
       "      <th>386</th>\n",
       "      <td>(Energy)</td>\n",
       "      <td></td>\n",
       "      <td>Ronnell_Beaty</td>\n",
       "      <td>2022-01-18 20:07:57</td>\n",
       "      <td>OCPoetry</td>\n",
       "      <td>0.0</td>\n",
       "      <td>0.0</td>\n",
       "      <td>0.0</td>\n",
       "      <td>0.0</td>\n",
       "      <td>1</td>\n",
       "      <td>0</td>\n",
       "      <td>1</td>\n",
       "    </tr>\n",
       "    <tr>\n",
       "      <th>40992</th>\n",
       "      <td>The window in our basement</td>\n",
       "      <td></td>\n",
       "      <td>gezelex</td>\n",
       "      <td>2020-10-31 14:04:52</td>\n",
       "      <td>shortscarystories</td>\n",
       "      <td>0.0</td>\n",
       "      <td>0.0</td>\n",
       "      <td>0.0</td>\n",
       "      <td>0.0</td>\n",
       "      <td>5</td>\n",
       "      <td>0</td>\n",
       "      <td>5</td>\n",
       "    </tr>\n",
       "    <tr>\n",
       "      <th>25999</th>\n",
       "      <td>Drowning</td>\n",
       "      <td>[A video poem. click</td>\n",
       "      <td>BlueStockingStudent</td>\n",
       "      <td>2020-07-22 19:12:31</td>\n",
       "      <td>OCPoetry</td>\n",
       "      <td>0.0</td>\n",
       "      <td>0.0</td>\n",
       "      <td>0.8</td>\n",
       "      <td>0.0</td>\n",
       "      <td>1</td>\n",
       "      <td>4</td>\n",
       "      <td>5</td>\n",
       "    </tr>\n",
       "    <tr>\n",
       "      <th>33411</th>\n",
       "      <td>Stories from childhood till date</td>\n",
       "      <td></td>\n",
       "      <td>Strange_Potential_61</td>\n",
       "      <td>2021-09-07 06:38:45</td>\n",
       "      <td>shortscarystories</td>\n",
       "      <td>0.0</td>\n",
       "      <td>0.0</td>\n",
       "      <td>0.0</td>\n",
       "      <td>0.0</td>\n",
       "      <td>5</td>\n",
       "      <td>0</td>\n",
       "      <td>5</td>\n",
       "    </tr>\n",
       "    <tr>\n",
       "      <th>28974</th>\n",
       "      <td>REACH FOR THE LIGHT</td>\n",
       "      <td></td>\n",
       "      <td>Psylenca7</td>\n",
       "      <td>2020-05-08 02:49:50</td>\n",
       "      <td>OCPoetry</td>\n",
       "      <td>0.0</td>\n",
       "      <td>0.0</td>\n",
       "      <td>0.0</td>\n",
       "      <td>0.0</td>\n",
       "      <td>4</td>\n",
       "      <td>0</td>\n",
       "      <td>4</td>\n",
       "    </tr>\n",
       "  </tbody>\n",
       "</table>\n",
       "</div>"
      ],
      "text/plain": [
       "                                  title                  text  \\\n",
       "22821                         Her Trial                         \n",
       "1339          Apple pie &amp; Moonshine                         \n",
       "9570                          Broken II                         \n",
       "46778                        Again 2312          500274192020   \n",
       "14267                          him (tw)                         \n",
       "386                            (Energy)                         \n",
       "40992        The window in our basement                         \n",
       "25999                          Drowning  [A video poem. click   \n",
       "33411  Stories from childhood till date                         \n",
       "28974               REACH FOR THE LIGHT                         \n",
       "\n",
       "                       auth                time          subreddit  \\\n",
       "22821       phriendlysciguy 2020-10-08 21:00:58           OCPoetry   \n",
       "1339             styles-007 2021-12-29 19:21:42           OCPoetry   \n",
       "9570            Dr-Electric 2021-06-23 14:50:12           OCPoetry   \n",
       "46778           666MRICS666 2020-04-08 00:32:18  shortscarystories   \n",
       "14267        maddie-sarah16 2021-03-14 20:41:20           OCPoetry   \n",
       "386           Ronnell_Beaty 2022-01-18 20:07:57           OCPoetry   \n",
       "40992               gezelex 2020-10-31 14:04:52  shortscarystories   \n",
       "25999   BlueStockingStudent 2020-07-22 19:12:31           OCPoetry   \n",
       "33411  Strange_Potential_61 2021-09-07 06:38:45  shortscarystories   \n",
       "28974             Psylenca7 2020-05-08 02:49:50           OCPoetry   \n",
       "\n",
       "       new_line_chars  tab_chars  space_chars  zws_chars  title_words  \\\n",
       "22821             0.0        0.0          0.0        0.0            2   \n",
       "1339              0.0        0.0          0.0        0.0            4   \n",
       "9570              4.0        0.0          0.0        0.0            2   \n",
       "46778             0.0        0.0          0.0        0.0            2   \n",
       "14267             0.0        0.0          0.0        0.0            2   \n",
       "386               0.0        0.0          0.0        0.0            1   \n",
       "40992             0.0        0.0          0.0        0.0            5   \n",
       "25999             0.0        0.0          0.8        0.0            1   \n",
       "33411             0.0        0.0          0.0        0.0            5   \n",
       "28974             0.0        0.0          0.0        0.0            4   \n",
       "\n",
       "       text_words  word_count  \n",
       "22821           0           2  \n",
       "1339            0           4  \n",
       "9570            0           2  \n",
       "46778           1           3  \n",
       "14267           0           2  \n",
       "386             0           1  \n",
       "40992           0           5  \n",
       "25999           4           5  \n",
       "33411           0           5  \n",
       "28974           0           4  "
      ]
     },
     "execution_count": 195,
     "metadata": {},
     "output_type": "execute_result"
    }
   ],
   "source": [
    "df.query('word_count <= 5').sample(10)"
   ]
  },
  {
   "cell_type": "markdown",
   "metadata": {},
   "source": [
    "The 180 posts between 6 and 10 words have some spam but a majority seem to be legitimate poems / stories."
   ]
  },
  {
   "cell_type": "code",
   "execution_count": 196,
   "metadata": {},
   "outputs": [
    {
     "data": {
      "text/plain": [
       "(185, 12)"
      ]
     },
     "execution_count": 196,
     "metadata": {},
     "output_type": "execute_result"
    }
   ],
   "source": [
    "df.query('word_count <= 10 and word_count > 5').shape"
   ]
  },
  {
   "cell_type": "code",
   "execution_count": 197,
   "metadata": {},
   "outputs": [
    {
     "data": {
      "text/html": [
       "<div>\n",
       "<style scoped>\n",
       "    .dataframe tbody tr th:only-of-type {\n",
       "        vertical-align: middle;\n",
       "    }\n",
       "\n",
       "    .dataframe tbody tr th {\n",
       "        vertical-align: top;\n",
       "    }\n",
       "\n",
       "    .dataframe thead th {\n",
       "        text-align: right;\n",
       "    }\n",
       "</style>\n",
       "<table border=\"1\" class=\"dataframe\">\n",
       "  <thead>\n",
       "    <tr style=\"text-align: right;\">\n",
       "      <th></th>\n",
       "      <th>title</th>\n",
       "      <th>text</th>\n",
       "      <th>auth</th>\n",
       "      <th>time</th>\n",
       "      <th>subreddit</th>\n",
       "      <th>new_line_chars</th>\n",
       "      <th>tab_chars</th>\n",
       "      <th>space_chars</th>\n",
       "      <th>zws_chars</th>\n",
       "      <th>title_words</th>\n",
       "      <th>text_words</th>\n",
       "      <th>word_count</th>\n",
       "    </tr>\n",
       "  </thead>\n",
       "  <tbody>\n",
       "    <tr>\n",
       "      <th>13470</th>\n",
       "      <td>poem made song with accompanying visuals for my mother</td>\n",
       "      <td></td>\n",
       "      <td>rgalvan90802</td>\n",
       "      <td>2021-04-06 21:14:43</td>\n",
       "      <td>OCPoetry</td>\n",
       "      <td>0.000000</td>\n",
       "      <td>0.0</td>\n",
       "      <td>0.000000</td>\n",
       "      <td>0.000000</td>\n",
       "      <td>9</td>\n",
       "      <td>0</td>\n",
       "      <td>9</td>\n",
       "    </tr>\n",
       "    <tr>\n",
       "      <th>14893</th>\n",
       "      <td>Photographic</td>\n",
       "      <td>Black and White Girl bikes forever Vibrant park</td>\n",
       "      <td>evelynsdropping</td>\n",
       "      <td>2021-02-27 05:54:38</td>\n",
       "      <td>OCPoetry</td>\n",
       "      <td>0.888889</td>\n",
       "      <td>0.0</td>\n",
       "      <td>0.666667</td>\n",
       "      <td>0.111111</td>\n",
       "      <td>1</td>\n",
       "      <td>8</td>\n",
       "      <td>9</td>\n",
       "    </tr>\n",
       "    <tr>\n",
       "      <th>37113</th>\n",
       "      <td>Recommendations for Making /r/ShortScaryStories better Thread</td>\n",
       "      <td></td>\n",
       "      <td>Human_Gravy</td>\n",
       "      <td>2021-04-21 13:40:28</td>\n",
       "      <td>shortscarystories</td>\n",
       "      <td>0.000000</td>\n",
       "      <td>0.0</td>\n",
       "      <td>0.000000</td>\n",
       "      <td>0.000000</td>\n",
       "      <td>6</td>\n",
       "      <td>0</td>\n",
       "      <td>6</td>\n",
       "    </tr>\n",
       "    <tr>\n",
       "      <th>32488</th>\n",
       "      <td>2 True Halloween Horror Stories to Make Your Skin Crawl</td>\n",
       "      <td></td>\n",
       "      <td>lilkings12</td>\n",
       "      <td>2021-10-14 21:06:24</td>\n",
       "      <td>shortscarystories</td>\n",
       "      <td>0.000000</td>\n",
       "      <td>0.0</td>\n",
       "      <td>0.000000</td>\n",
       "      <td>0.000000</td>\n",
       "      <td>10</td>\n",
       "      <td>0</td>\n",
       "      <td>10</td>\n",
       "    </tr>\n",
       "    <tr>\n",
       "      <th>28267</th>\n",
       "      <td>IT WILL ONLY BE FOR LOVE( Poem of a pandemic)</td>\n",
       "      <td></td>\n",
       "      <td>vedu_x</td>\n",
       "      <td>2020-05-26 06:46:40</td>\n",
       "      <td>OCPoetry</td>\n",
       "      <td>0.000000</td>\n",
       "      <td>0.0</td>\n",
       "      <td>0.000000</td>\n",
       "      <td>0.000000</td>\n",
       "      <td>10</td>\n",
       "      <td>0</td>\n",
       "      <td>10</td>\n",
       "    </tr>\n",
       "    <tr>\n",
       "      <th>57772</th>\n",
       "      <td>Mirror mirror</td>\n",
       "      <td>My reflection didn't smile back.</td>\n",
       "      <td>thelewis564</td>\n",
       "      <td>2018-07-07 08:43:34</td>\n",
       "      <td>shortscarystories</td>\n",
       "      <td>0.000000</td>\n",
       "      <td>0.0</td>\n",
       "      <td>0.666667</td>\n",
       "      <td>0.000000</td>\n",
       "      <td>2</td>\n",
       "      <td>5</td>\n",
       "      <td>7</td>\n",
       "    </tr>\n",
       "    <tr>\n",
       "      <th>54272</th>\n",
       "      <td>6</td>\n",
       "      <td>Think happy thoughts. It’s behind you.</td>\n",
       "      <td>Nalkarj</td>\n",
       "      <td>2019-02-26 03:24:20</td>\n",
       "      <td>shortscarystories</td>\n",
       "      <td>0.000000</td>\n",
       "      <td>0.0</td>\n",
       "      <td>0.714286</td>\n",
       "      <td>0.000000</td>\n",
       "      <td>1</td>\n",
       "      <td>6</td>\n",
       "      <td>7</td>\n",
       "    </tr>\n",
       "    <tr>\n",
       "      <th>56110</th>\n",
       "      <td>5 True Brief creepy car junkyard stories</td>\n",
       "      <td></td>\n",
       "      <td>Mysteriousperson77</td>\n",
       "      <td>2018-10-26 17:49:46</td>\n",
       "      <td>shortscarystories</td>\n",
       "      <td>0.000000</td>\n",
       "      <td>0.0</td>\n",
       "      <td>1.000000</td>\n",
       "      <td>0.000000</td>\n",
       "      <td>7</td>\n",
       "      <td>0</td>\n",
       "      <td>7</td>\n",
       "    </tr>\n",
       "    <tr>\n",
       "      <th>26493</th>\n",
       "      <td>Pink skies</td>\n",
       "      <td>For the forgotten lovers</td>\n",
       "      <td>szleah</td>\n",
       "      <td>2020-07-09 17:19:03</td>\n",
       "      <td>OCPoetry</td>\n",
       "      <td>0.400000</td>\n",
       "      <td>0.0</td>\n",
       "      <td>0.600000</td>\n",
       "      <td>0.000000</td>\n",
       "      <td>2</td>\n",
       "      <td>4</td>\n",
       "      <td>6</td>\n",
       "    </tr>\n",
       "    <tr>\n",
       "      <th>14654</th>\n",
       "      <td>Sunday Night Haiku</td>\n",
       "      <td>Procrastination: This Poem is its Manifestation</td>\n",
       "      <td>IntelligentCar2848</td>\n",
       "      <td>2021-03-08 01:05:43</td>\n",
       "      <td>OCPoetry</td>\n",
       "      <td>1.428571</td>\n",
       "      <td>0.0</td>\n",
       "      <td>0.428571</td>\n",
       "      <td>0.142857</td>\n",
       "      <td>3</td>\n",
       "      <td>6</td>\n",
       "      <td>9</td>\n",
       "    </tr>\n",
       "  </tbody>\n",
       "</table>\n",
       "</div>"
      ],
      "text/plain": [
       "                                                               title  \\\n",
       "13470         poem made song with accompanying visuals for my mother   \n",
       "14893                                                   Photographic   \n",
       "37113  Recommendations for Making /r/ShortScaryStories better Thread   \n",
       "32488        2 True Halloween Horror Stories to Make Your Skin Crawl   \n",
       "28267                  IT WILL ONLY BE FOR LOVE( Poem of a pandemic)   \n",
       "57772                                                  Mirror mirror   \n",
       "54272                                                              6   \n",
       "56110                       5 True Brief creepy car junkyard stories   \n",
       "26493                                                     Pink skies   \n",
       "14654                                             Sunday Night Haiku   \n",
       "\n",
       "                                                  text                auth  \\\n",
       "13470                                                         rgalvan90802   \n",
       "14893  Black and White Girl bikes forever Vibrant park     evelynsdropping   \n",
       "37113                                                          Human_Gravy   \n",
       "32488                                                           lilkings12   \n",
       "28267                                                               vedu_x   \n",
       "57772                 My reflection didn't smile back.         thelewis564   \n",
       "54272           Think happy thoughts. It’s behind you.             Nalkarj   \n",
       "56110                                                   Mysteriousperson77   \n",
       "26493                         For the forgotten lovers              szleah   \n",
       "14654  Procrastination: This Poem is its Manifestation  IntelligentCar2848   \n",
       "\n",
       "                     time          subreddit  new_line_chars  tab_chars  \\\n",
       "13470 2021-04-06 21:14:43           OCPoetry        0.000000        0.0   \n",
       "14893 2021-02-27 05:54:38           OCPoetry        0.888889        0.0   \n",
       "37113 2021-04-21 13:40:28  shortscarystories        0.000000        0.0   \n",
       "32488 2021-10-14 21:06:24  shortscarystories        0.000000        0.0   \n",
       "28267 2020-05-26 06:46:40           OCPoetry        0.000000        0.0   \n",
       "57772 2018-07-07 08:43:34  shortscarystories        0.000000        0.0   \n",
       "54272 2019-02-26 03:24:20  shortscarystories        0.000000        0.0   \n",
       "56110 2018-10-26 17:49:46  shortscarystories        0.000000        0.0   \n",
       "26493 2020-07-09 17:19:03           OCPoetry        0.400000        0.0   \n",
       "14654 2021-03-08 01:05:43           OCPoetry        1.428571        0.0   \n",
       "\n",
       "       space_chars  zws_chars  title_words  text_words  word_count  \n",
       "13470     0.000000   0.000000            9           0           9  \n",
       "14893     0.666667   0.111111            1           8           9  \n",
       "37113     0.000000   0.000000            6           0           6  \n",
       "32488     0.000000   0.000000           10           0          10  \n",
       "28267     0.000000   0.000000           10           0          10  \n",
       "57772     0.666667   0.000000            2           5           7  \n",
       "54272     0.714286   0.000000            1           6           7  \n",
       "56110     1.000000   0.000000            7           0           7  \n",
       "26493     0.600000   0.000000            2           4           6  \n",
       "14654     0.428571   0.142857            3           6           9  "
      ]
     },
     "execution_count": 197,
     "metadata": {},
     "output_type": "execute_result"
    }
   ],
   "source": [
    "df.query('word_count <= 10 and word_count > 5').sample(10)"
   ]
  },
  {
   "cell_type": "code",
   "execution_count": 198,
   "metadata": {},
   "outputs": [],
   "source": [
    "df.query('word_count >= 6', inplace = True)"
   ]
  },
  {
   "cell_type": "markdown",
   "metadata": {},
   "source": [
    "#### Check for duplicates"
   ]
  },
  {
   "cell_type": "markdown",
   "metadata": {},
   "source": [
    "I'll drop all the duplicate entries."
   ]
  },
  {
   "cell_type": "code",
   "execution_count": 199,
   "metadata": {},
   "outputs": [
    {
     "data": {
      "text/plain": [
       "816"
      ]
     },
     "execution_count": 199,
     "metadata": {},
     "output_type": "execute_result"
    }
   ],
   "source": [
    "df.duplicated(subset = ['text', 'title', 'subreddit']).sum()"
   ]
  },
  {
   "cell_type": "code",
   "execution_count": 200,
   "metadata": {},
   "outputs": [],
   "source": [
    "df.drop_duplicates(subset = ['text', 'title', 'subreddit'], inplace=True)"
   ]
  },
  {
   "cell_type": "markdown",
   "metadata": {},
   "source": [
    "### Additional feature engineering"
   ]
  },
  {
   "cell_type": "code",
   "execution_count": 201,
   "metadata": {},
   "outputs": [],
   "source": [
    "df['title_text'] = df['title'] + df['text']"
   ]
  },
  {
   "cell_type": "markdown",
   "metadata": {},
   "source": [
    "#### Part of speech tagging"
   ]
  },
  {
   "cell_type": "markdown",
   "metadata": {},
   "source": [
    "This categorizes each word by it's part of speech. This let's us compare if certain word types or tenses are used more or less in each subreddit.\n",
    "It also categorizes punctuation."
   ]
  },
  {
   "cell_type": "code",
   "execution_count": 202,
   "metadata": {},
   "outputs": [],
   "source": [
    "# # Downloads needed for pos_extractor\n",
    "# nltk.download('averaged_perceptron_tagger')\n",
    "# nltk.download('tagsets')"
   ]
  },
  {
   "cell_type": "code",
   "execution_count": 203,
   "metadata": {},
   "outputs": [],
   "source": [
    "tagset = ['CC', 'CD', 'DT', 'EX', 'FW', 'IN', 'JJ', 'JJR', 'JJS', 'LS', 'MD', 'NN', 'NNS',\n",
    "          'NNP', 'NNPS', 'PDT', 'POS', 'PRP', 'PRP$', 'RB', 'RBR', 'RBS', 'RP', 'SYM',\n",
    "          'TO','UH', 'VB', 'VBD', 'VBG', 'VBN', 'VBP', 'VBZ', 'WDT', 'WP', 'WP$', 'WRB',\n",
    "          '.', ',', ':', '(', ')', '$', '``', '#', \"''\"]\n",
    "\n",
    "def pos_extractor(docs):\n",
    "    tag_counts = {pos: np.zeros(len(docs)) for pos in tagset}\n",
    "    for i, doc in enumerate(docs):\n",
    "        if not i % 1000:\n",
    "            print(i)\n",
    "        doc_tokens = word_tokenize(doc)\n",
    "        pos_list = list(zip(*pos_tag(doc_tokens)))[1]\n",
    "        for pos in pos_list:\n",
    "            tag_counts[pos][i] += 1\n",
    "\n",
    "    return pd.DataFrame(tag_counts)"
   ]
  },
  {
   "cell_type": "markdown",
   "metadata": {},
   "source": [
    "Compute the part of speech counts. We also normalize the parts of speech by word count. The rows won't exactly sum to 1 as they include punctuation."
   ]
  },
  {
   "cell_type": "code",
   "execution_count": 204,
   "metadata": {},
   "outputs": [
    {
     "name": "stdout",
     "output_type": "stream",
     "text": [
      "0\n",
      "1000\n",
      "2000\n",
      "3000\n",
      "4000\n",
      "5000\n",
      "6000\n",
      "7000\n",
      "8000\n",
      "9000\n",
      "10000\n",
      "11000\n",
      "12000\n",
      "13000\n",
      "14000\n",
      "15000\n",
      "16000\n",
      "17000\n",
      "18000\n",
      "19000\n",
      "20000\n",
      "21000\n",
      "22000\n",
      "23000\n",
      "24000\n",
      "25000\n",
      "26000\n",
      "27000\n",
      "28000\n",
      "29000\n",
      "30000\n",
      "31000\n",
      "32000\n",
      "33000\n",
      "34000\n",
      "35000\n",
      "36000\n",
      "37000\n",
      "38000\n",
      "39000\n",
      "40000\n",
      "41000\n",
      "42000\n",
      "43000\n",
      "44000\n",
      "45000\n",
      "46000\n",
      "47000\n",
      "48000\n",
      "49000\n",
      "50000\n",
      "51000\n",
      "52000\n",
      "53000\n",
      "54000\n",
      "55000\n",
      "56000\n"
     ]
    }
   ],
   "source": [
    "df_pos = pos_extractor(df['title_text'])\n",
    "df_pos = df_pos.divide(df.reset_index()['word_count'] + 1, axis = 0)"
   ]
  },
  {
   "cell_type": "code",
   "execution_count": 205,
   "metadata": {},
   "outputs": [
    {
     "data": {
      "text/html": [
       "<div>\n",
       "<style scoped>\n",
       "    .dataframe tbody tr th:only-of-type {\n",
       "        vertical-align: middle;\n",
       "    }\n",
       "\n",
       "    .dataframe tbody tr th {\n",
       "        vertical-align: top;\n",
       "    }\n",
       "\n",
       "    .dataframe thead th {\n",
       "        text-align: right;\n",
       "    }\n",
       "</style>\n",
       "<table border=\"1\" class=\"dataframe\">\n",
       "  <thead>\n",
       "    <tr style=\"text-align: right;\">\n",
       "      <th></th>\n",
       "      <th>CC</th>\n",
       "      <th>CD</th>\n",
       "      <th>DT</th>\n",
       "      <th>EX</th>\n",
       "      <th>FW</th>\n",
       "      <th>IN</th>\n",
       "      <th>JJ</th>\n",
       "      <th>JJR</th>\n",
       "      <th>JJS</th>\n",
       "      <th>LS</th>\n",
       "      <th>...</th>\n",
       "      <th>WRB</th>\n",
       "      <th>.</th>\n",
       "      <th>,</th>\n",
       "      <th>:</th>\n",
       "      <th>(</th>\n",
       "      <th>)</th>\n",
       "      <th>$</th>\n",
       "      <th>``</th>\n",
       "      <th>#</th>\n",
       "      <th>''</th>\n",
       "    </tr>\n",
       "  </thead>\n",
       "  <tbody>\n",
       "    <tr>\n",
       "      <th>0</th>\n",
       "      <td>0.034965</td>\n",
       "      <td>0.000000</td>\n",
       "      <td>0.090909</td>\n",
       "      <td>0.013986</td>\n",
       "      <td>0.0</td>\n",
       "      <td>0.139860</td>\n",
       "      <td>0.069930</td>\n",
       "      <td>0.000000</td>\n",
       "      <td>0.000000</td>\n",
       "      <td>0.0</td>\n",
       "      <td>...</td>\n",
       "      <td>0.020979</td>\n",
       "      <td>0.069930</td>\n",
       "      <td>0.034965</td>\n",
       "      <td>0.013986</td>\n",
       "      <td>0.0</td>\n",
       "      <td>0.0</td>\n",
       "      <td>0.0</td>\n",
       "      <td>0.0</td>\n",
       "      <td>0.0</td>\n",
       "      <td>0.0</td>\n",
       "    </tr>\n",
       "    <tr>\n",
       "      <th>1</th>\n",
       "      <td>0.037500</td>\n",
       "      <td>0.006250</td>\n",
       "      <td>0.121875</td>\n",
       "      <td>0.003125</td>\n",
       "      <td>0.0</td>\n",
       "      <td>0.078125</td>\n",
       "      <td>0.096875</td>\n",
       "      <td>0.000000</td>\n",
       "      <td>0.000000</td>\n",
       "      <td>0.0</td>\n",
       "      <td>...</td>\n",
       "      <td>0.009375</td>\n",
       "      <td>0.012500</td>\n",
       "      <td>0.078125</td>\n",
       "      <td>0.000000</td>\n",
       "      <td>0.0</td>\n",
       "      <td>0.0</td>\n",
       "      <td>0.0</td>\n",
       "      <td>0.0</td>\n",
       "      <td>0.0</td>\n",
       "      <td>0.0</td>\n",
       "    </tr>\n",
       "    <tr>\n",
       "      <th>2</th>\n",
       "      <td>0.064103</td>\n",
       "      <td>0.000000</td>\n",
       "      <td>0.141026</td>\n",
       "      <td>0.000000</td>\n",
       "      <td>0.0</td>\n",
       "      <td>0.089744</td>\n",
       "      <td>0.012821</td>\n",
       "      <td>0.000000</td>\n",
       "      <td>0.000000</td>\n",
       "      <td>0.0</td>\n",
       "      <td>...</td>\n",
       "      <td>0.000000</td>\n",
       "      <td>0.064103</td>\n",
       "      <td>0.089744</td>\n",
       "      <td>0.012821</td>\n",
       "      <td>0.0</td>\n",
       "      <td>0.0</td>\n",
       "      <td>0.0</td>\n",
       "      <td>0.0</td>\n",
       "      <td>0.0</td>\n",
       "      <td>0.0</td>\n",
       "    </tr>\n",
       "    <tr>\n",
       "      <th>3</th>\n",
       "      <td>0.086957</td>\n",
       "      <td>0.000000</td>\n",
       "      <td>0.130435</td>\n",
       "      <td>0.000000</td>\n",
       "      <td>0.0</td>\n",
       "      <td>0.108696</td>\n",
       "      <td>0.086957</td>\n",
       "      <td>0.000000</td>\n",
       "      <td>0.043478</td>\n",
       "      <td>0.0</td>\n",
       "      <td>...</td>\n",
       "      <td>0.000000</td>\n",
       "      <td>0.021739</td>\n",
       "      <td>0.043478</td>\n",
       "      <td>0.000000</td>\n",
       "      <td>0.0</td>\n",
       "      <td>0.0</td>\n",
       "      <td>0.0</td>\n",
       "      <td>0.0</td>\n",
       "      <td>0.0</td>\n",
       "      <td>0.0</td>\n",
       "    </tr>\n",
       "    <tr>\n",
       "      <th>4</th>\n",
       "      <td>0.046921</td>\n",
       "      <td>0.032258</td>\n",
       "      <td>0.102639</td>\n",
       "      <td>0.000000</td>\n",
       "      <td>0.0</td>\n",
       "      <td>0.105572</td>\n",
       "      <td>0.052786</td>\n",
       "      <td>0.005865</td>\n",
       "      <td>0.002933</td>\n",
       "      <td>0.0</td>\n",
       "      <td>...</td>\n",
       "      <td>0.008798</td>\n",
       "      <td>0.049853</td>\n",
       "      <td>0.041056</td>\n",
       "      <td>0.000000</td>\n",
       "      <td>0.0</td>\n",
       "      <td>0.0</td>\n",
       "      <td>0.0</td>\n",
       "      <td>0.0</td>\n",
       "      <td>0.0</td>\n",
       "      <td>0.0</td>\n",
       "    </tr>\n",
       "  </tbody>\n",
       "</table>\n",
       "<p>5 rows × 45 columns</p>\n",
       "</div>"
      ],
      "text/plain": [
       "         CC        CD        DT        EX   FW        IN        JJ       JJR  \\\n",
       "0  0.034965  0.000000  0.090909  0.013986  0.0  0.139860  0.069930  0.000000   \n",
       "1  0.037500  0.006250  0.121875  0.003125  0.0  0.078125  0.096875  0.000000   \n",
       "2  0.064103  0.000000  0.141026  0.000000  0.0  0.089744  0.012821  0.000000   \n",
       "3  0.086957  0.000000  0.130435  0.000000  0.0  0.108696  0.086957  0.000000   \n",
       "4  0.046921  0.032258  0.102639  0.000000  0.0  0.105572  0.052786  0.005865   \n",
       "\n",
       "        JJS   LS  ...       WRB         .         ,         :    (    )    $  \\\n",
       "0  0.000000  0.0  ...  0.020979  0.069930  0.034965  0.013986  0.0  0.0  0.0   \n",
       "1  0.000000  0.0  ...  0.009375  0.012500  0.078125  0.000000  0.0  0.0  0.0   \n",
       "2  0.000000  0.0  ...  0.000000  0.064103  0.089744  0.012821  0.0  0.0  0.0   \n",
       "3  0.043478  0.0  ...  0.000000  0.021739  0.043478  0.000000  0.0  0.0  0.0   \n",
       "4  0.002933  0.0  ...  0.008798  0.049853  0.041056  0.000000  0.0  0.0  0.0   \n",
       "\n",
       "    ``    #   ''  \n",
       "0  0.0  0.0  0.0  \n",
       "1  0.0  0.0  0.0  \n",
       "2  0.0  0.0  0.0  \n",
       "3  0.0  0.0  0.0  \n",
       "4  0.0  0.0  0.0  \n",
       "\n",
       "[5 rows x 45 columns]"
      ]
     },
     "execution_count": 205,
     "metadata": {},
     "output_type": "execute_result"
    }
   ],
   "source": [
    "df_pos.head()"
   ]
  },
  {
   "cell_type": "markdown",
   "metadata": {},
   "source": [
    "#### Sentiment analysis"
   ]
  },
  {
   "cell_type": "code",
   "execution_count": 206,
   "metadata": {},
   "outputs": [
    {
     "name": "stdout",
     "output_type": "stream",
     "text": [
      "0\n",
      "1000\n",
      "2000\n",
      "3000\n",
      "4000\n",
      "5000\n",
      "6000\n",
      "7000\n",
      "8000\n",
      "9000\n",
      "10000\n",
      "11000\n",
      "12000\n",
      "13000\n",
      "14000\n",
      "15000\n",
      "16000\n",
      "17000\n",
      "18000\n",
      "19000\n",
      "20000\n",
      "21000\n",
      "22000\n",
      "23000\n",
      "24000\n",
      "25000\n",
      "26000\n",
      "27000\n",
      "28000\n",
      "29000\n",
      "30000\n",
      "31000\n",
      "32000\n",
      "33000\n",
      "34000\n",
      "35000\n",
      "36000\n",
      "37000\n",
      "38000\n",
      "39000\n",
      "40000\n",
      "41000\n",
      "42000\n",
      "43000\n",
      "44000\n",
      "45000\n",
      "46000\n",
      "47000\n",
      "48000\n",
      "49000\n",
      "50000\n",
      "51000\n",
      "52000\n",
      "53000\n",
      "54000\n",
      "55000\n",
      "56000\n"
     ]
    }
   ],
   "source": [
    "sentiment_cols = ['polarity', 'subjectivity']\n",
    "\n",
    "def sentiment_extractor(docs):\n",
    "    sentiments = {col: np.empty(len(docs)) for col in sentiment_cols}\n",
    "    for i, doc in enumerate(docs):\n",
    "        if not i % 1000:\n",
    "            print(i)\n",
    "        blob = TextBlob(doc)\n",
    "        sentiments['polarity'][i] = blob.polarity\n",
    "        sentiments['subjectivity'][i] = blob.subjectivity\n",
    "\n",
    "    return pd.DataFrame(sentiments)\n",
    "\n",
    "df_sentiments = sentiment_extractor(df['title_text'])"
   ]
  },
  {
   "cell_type": "markdown",
   "metadata": {},
   "source": [
    "### Merge features"
   ]
  },
  {
   "cell_type": "markdown",
   "metadata": {},
   "source": [
    "`df_nlp` is the original data frame merged with nlp features."
   ]
  },
  {
   "cell_type": "code",
   "execution_count": 207,
   "metadata": {},
   "outputs": [
    {
     "data": {
      "text/plain": [
       "((56569, 13), (56569, 2), (56569, 45))"
      ]
     },
     "execution_count": 207,
     "metadata": {},
     "output_type": "execute_result"
    }
   ],
   "source": [
    "df.shape, df_sentiments.shape, df_pos.shape"
   ]
  },
  {
   "cell_type": "code",
   "execution_count": 208,
   "metadata": {},
   "outputs": [
    {
     "data": {
      "text/plain": [
       "(56569, 61)"
      ]
     },
     "execution_count": 208,
     "metadata": {},
     "output_type": "execute_result"
    }
   ],
   "source": [
    "df.reset_index(inplace = True)\n",
    "df_nlp = df.join(df_pos)\n",
    "df_nlp = df_nlp.join(df_sentiments)\n",
    "df_nlp.shape"
   ]
  },
  {
   "cell_type": "code",
   "execution_count": 209,
   "metadata": {},
   "outputs": [
    {
     "data": {
      "text/plain": [
       "0"
      ]
     },
     "execution_count": 209,
     "metadata": {},
     "output_type": "execute_result"
    }
   ],
   "source": [
    "df_nlp.isna().sum().sum()"
   ]
  },
  {
   "cell_type": "markdown",
   "metadata": {},
   "source": [
    "### EDA"
   ]
  },
  {
   "cell_type": "markdown",
   "metadata": {},
   "source": [
    "The subreddits are nearly balanced."
   ]
  },
  {
   "cell_type": "code",
   "execution_count": 210,
   "metadata": {},
   "outputs": [
    {
     "data": {
      "text/plain": [
       "OCPoetry             28632\n",
       "shortscarystories    27937\n",
       "Name: subreddit, dtype: int64"
      ]
     },
     "execution_count": 210,
     "metadata": {},
     "output_type": "execute_result"
    }
   ],
   "source": [
    "df_nlp['subreddit'].value_counts()"
   ]
  },
  {
   "cell_type": "code",
   "execution_count": 211,
   "metadata": {},
   "outputs": [
    {
     "data": {
      "text/plain": [
       "OCPoetry             0.506143\n",
       "shortscarystories    0.493857\n",
       "Name: subreddit, dtype: float64"
      ]
     },
     "execution_count": 211,
     "metadata": {},
     "output_type": "execute_result"
    }
   ],
   "source": [
    "df_nlp['subreddit'].value_counts(normalize = True)"
   ]
  },
  {
   "cell_type": "markdown",
   "metadata": {},
   "source": [
    "#### Authors"
   ]
  },
  {
   "cell_type": "markdown",
   "metadata": {},
   "source": [
    "Top 10 authors."
   ]
  },
  {
   "cell_type": "code",
   "execution_count": 212,
   "metadata": {},
   "outputs": [
    {
     "data": {
      "text/plain": [
       "shortstory1            832\n",
       "asearchforyou          548\n",
       "EvantheNerd83          257\n",
       "tim0777                250\n",
       "hyperobscura           223\n",
       "SimbaTheSavage8        166\n",
       "sugar-soad             159\n",
       "picnic-123             156\n",
       "decorativegentleman    141\n",
       "Hack_Shuck             138\n",
       "Name: auth, dtype: int64"
      ]
     },
     "execution_count": 212,
     "metadata": {},
     "output_type": "execute_result"
    }
   ],
   "source": [
    "df_nlp['auth'].value_counts().head(10)"
   ]
  },
  {
   "cell_type": "markdown",
   "metadata": {},
   "source": [
    "13853 users have only a single post"
   ]
  },
  {
   "cell_type": "code",
   "execution_count": 213,
   "metadata": {},
   "outputs": [
    {
     "data": {
      "text/plain": [
       "1     13940\n",
       "2      3411\n",
       "3      1415\n",
       "4       829\n",
       "5       481\n",
       "6       304\n",
       "7       229\n",
       "8       158\n",
       "9       118\n",
       "10       90\n",
       "Name: auth, dtype: int64"
      ]
     },
     "execution_count": 213,
     "metadata": {},
     "output_type": "execute_result"
    }
   ],
   "source": [
    "df['auth'].value_counts().value_counts().head(10) "
   ]
  },
  {
   "cell_type": "code",
   "execution_count": 214,
   "metadata": {},
   "outputs": [],
   "source": [
    "# df['auth'].value_counts().plot(kind = 'hist')"
   ]
  },
  {
   "cell_type": "markdown",
   "metadata": {},
   "source": [
    "#### Date overview"
   ]
  },
  {
   "cell_type": "markdown",
   "metadata": {},
   "source": [
    "Something to be aware of is that the poetry subreddit is more active than the shortscarystories one. \n",
    "Therefore, in order to get a balanced data set the poetry posts are on average newer than the scary story posts.\n",
    "Even though the final models won't use post date directly, to the extent that the posts reference contemporary events / figures our models may be learning these references rather than the differences between the mediums.\n",
    "Alternatively, I could have collected data over a specified range (for example the year 2021), but then I would be left with an imbalanced data set."
   ]
  },
  {
   "cell_type": "code",
   "execution_count": 215,
   "metadata": {},
   "outputs": [
    {
     "data": {
      "text/html": [
       "<div>\n",
       "<style scoped>\n",
       "    .dataframe tbody tr th:only-of-type {\n",
       "        vertical-align: middle;\n",
       "    }\n",
       "\n",
       "    .dataframe tbody tr th {\n",
       "        vertical-align: top;\n",
       "    }\n",
       "\n",
       "    .dataframe thead tr th {\n",
       "        text-align: left;\n",
       "    }\n",
       "\n",
       "    .dataframe thead tr:last-of-type th {\n",
       "        text-align: right;\n",
       "    }\n",
       "</style>\n",
       "<table border=\"1\" class=\"dataframe\">\n",
       "  <thead>\n",
       "    <tr>\n",
       "      <th></th>\n",
       "      <th colspan=\"3\" halign=\"left\">time</th>\n",
       "    </tr>\n",
       "    <tr>\n",
       "      <th></th>\n",
       "      <th>min</th>\n",
       "      <th>mean</th>\n",
       "      <th>range_</th>\n",
       "    </tr>\n",
       "    <tr>\n",
       "      <th>subreddit</th>\n",
       "      <th></th>\n",
       "      <th></th>\n",
       "      <th></th>\n",
       "    </tr>\n",
       "  </thead>\n",
       "  <tbody>\n",
       "    <tr>\n",
       "      <th>OCPoetry</th>\n",
       "      <td>2020-04-16 00:37:44</td>\n",
       "      <td>2021-03-13 01:43:04.740919040</td>\n",
       "      <td>650 days 22:56:03</td>\n",
       "    </tr>\n",
       "    <tr>\n",
       "      <th>shortscarystories</th>\n",
       "      <td>2018-05-07 08:13:08</td>\n",
       "      <td>2020-06-01 12:05:01.625800960</td>\n",
       "      <td>1360 days 15:14:46</td>\n",
       "    </tr>\n",
       "  </tbody>\n",
       "</table>\n",
       "</div>"
      ],
      "text/plain": [
       "                                 time                                \\\n",
       "                                  min                          mean   \n",
       "subreddit                                                             \n",
       "OCPoetry          2020-04-16 00:37:44 2021-03-13 01:43:04.740919040   \n",
       "shortscarystories 2018-05-07 08:13:08 2020-06-01 12:05:01.625800960   \n",
       "\n",
       "                                      \n",
       "                              range_  \n",
       "subreddit                             \n",
       "OCPoetry           650 days 22:56:03  \n",
       "shortscarystories 1360 days 15:14:46  "
      ]
     },
     "execution_count": 215,
     "metadata": {},
     "output_type": "execute_result"
    }
   ],
   "source": [
    "def range_(x): \n",
    "    return x.max() - x.min()\n",
    "df_nlp[['time', 'subreddit']].groupby('subreddit').agg([min, np.mean, range_])"
   ]
  },
  {
   "cell_type": "markdown",
   "metadata": {},
   "source": [
    "The r/OCPoetry subreddit seems to have a stable popularity while r/shortscarystories became more popular over time."
   ]
  },
  {
   "cell_type": "code",
   "execution_count": 216,
   "metadata": {},
   "outputs": [
    {
     "data": {
      "image/png": "[encoded data removed]",
      "text/plain": [
       "<Figure size 432x288 with 1 Axes>"
      ]
     },
     "metadata": {
      "needs_background": "light"
     },
     "output_type": "display_data"
    }
   ],
   "source": [
    "sns.histplot(x = 'time', data = df.query('subreddit == \"OCPoetry\"'))\n",
    "plt.xticks(rotation = 30)\n",
    "plt.show()"
   ]
  },
  {
   "cell_type": "code",
   "execution_count": 217,
   "metadata": {},
   "outputs": [
    {
     "data": {
      "image/png": "[encoded data removed]",
      "text/plain": [
       "<Figure size 432x288 with 1 Axes>"
      ]
     },
     "metadata": {
      "needs_background": "light"
     },
     "output_type": "display_data"
    }
   ],
   "source": [
    "sns.histplot(x = 'time', data = df.query('subreddit == \"shortscarystories\"'))\n",
    "plt.xticks(rotation = 30)\n",
    "plt.show()"
   ]
  },
  {
   "cell_type": "code",
   "execution_count": 218,
   "metadata": {},
   "outputs": [
    {
     "data": {
      "image/png": "[encoded data removed]",
      "text/plain": [
       "<Figure size 432x288 with 1 Axes>"
      ]
     },
     "metadata": {
      "needs_background": "light"
     },
     "output_type": "display_data"
    }
   ],
   "source": [
    "sns.histplot(x = 'time', data = df, hue = 'subreddit')\n",
    "plt.title('Post Distribution by Time of Post')\n",
    "plt.xticks(rotation = 30)\n",
    "plt.show()"
   ]
  },
  {
   "cell_type": "markdown",
   "metadata": {},
   "source": [
    "#### Word count comparison"
   ]
  },
  {
   "cell_type": "markdown",
   "metadata": {},
   "source": [
    "The main difference in word length is that the text of posts on r/shortscarystories are more than twice as long as r/OCPoetry.\n",
    "Additionally, r/shortscarystories posts have titles that are on average 0.5 word longer."
   ]
  },
  {
   "cell_type": "code",
   "execution_count": 219,
   "metadata": {},
   "outputs": [
    {
     "data": {
      "text/html": [
       "<div>\n",
       "<style scoped>\n",
       "    .dataframe tbody tr th:only-of-type {\n",
       "        vertical-align: middle;\n",
       "    }\n",
       "\n",
       "    .dataframe tbody tr th {\n",
       "        vertical-align: top;\n",
       "    }\n",
       "\n",
       "    .dataframe thead th {\n",
       "        text-align: right;\n",
       "    }\n",
       "</style>\n",
       "<table border=\"1\" class=\"dataframe\">\n",
       "  <thead>\n",
       "    <tr style=\"text-align: right;\">\n",
       "      <th></th>\n",
       "      <th>title_words</th>\n",
       "      <th>text_words</th>\n",
       "      <th>word_count</th>\n",
       "    </tr>\n",
       "    <tr>\n",
       "      <th>subreddit</th>\n",
       "      <th></th>\n",
       "      <th></th>\n",
       "      <th></th>\n",
       "    </tr>\n",
       "  </thead>\n",
       "  <tbody>\n",
       "    <tr>\n",
       "      <th>OCPoetry</th>\n",
       "      <td>3.563949</td>\n",
       "      <td>152.952745</td>\n",
       "      <td>156.516695</td>\n",
       "    </tr>\n",
       "    <tr>\n",
       "      <th>shortscarystories</th>\n",
       "      <td>4.068368</td>\n",
       "      <td>369.131510</td>\n",
       "      <td>373.199878</td>\n",
       "    </tr>\n",
       "  </tbody>\n",
       "</table>\n",
       "</div>"
      ],
      "text/plain": [
       "                   title_words  text_words  word_count\n",
       "subreddit                                             \n",
       "OCPoetry              3.563949  152.952745  156.516695\n",
       "shortscarystories     4.068368  369.131510  373.199878"
      ]
     },
     "execution_count": 219,
     "metadata": {},
     "output_type": "execute_result"
    }
   ],
   "source": [
    "word_count_comp = df_nlp.groupby('subreddit')[['title_words', 'text_words', 'word_count']].mean()\n",
    "word_count_comp"
   ]
  },
  {
   "cell_type": "markdown",
   "metadata": {},
   "source": [
    "#### Whitespace comparison"
   ]
  },
  {
   "cell_type": "code",
   "execution_count": 220,
   "metadata": {},
   "outputs": [
    {
     "data": {
      "text/plain": [
       "31.727272727272727"
      ]
     },
     "execution_count": 220,
     "metadata": {},
     "output_type": "execute_result"
    }
   ],
   "source": [
    "df_nlp['space_chars'].max()"
   ]
  },
  {
   "cell_type": "markdown",
   "metadata": {},
   "source": [
    "This poem apparently has 31 spaces per word in it's original form."
   ]
  },
  {
   "cell_type": "code",
   "execution_count": 221,
   "metadata": {},
   "outputs": [
    {
     "data": {
      "text/plain": [
       "'for someone claiming to be so quiet I live quite the boisterous life I spend my days looking at many different squares luminous with many different things moving across their surface everything in this world and everything beyond and when I step outside the balmy summer air yanks me by my hair to a sudden halt making me stumble and leaving me dizzy [feedback [feedback'"
      ]
     },
     "execution_count": 221,
     "metadata": {},
     "output_type": "execute_result"
    }
   ],
   "source": [
    "df_nlp.iloc[df_nlp['space_chars'].argmax()]['text']"
   ]
  },
  {
   "cell_type": "code",
   "execution_count": 222,
   "metadata": {},
   "outputs": [
    {
     "data": {
      "text/plain": [
       "'OCPoetry'"
      ]
     },
     "execution_count": 222,
     "metadata": {},
     "output_type": "execute_result"
    }
   ],
   "source": [
    "df_nlp.iloc[df_nlp['space_chars'].argmax()]['subreddit']"
   ]
  },
  {
   "cell_type": "markdown",
   "metadata": {},
   "source": [
    "Average white space comparison. Except for spaces, all white space features are more common in r/OCPoetry than r/shortscarystories. This makes sense as poetry typically uses white space more creatively than prose."
   ]
  },
  {
   "cell_type": "code",
   "execution_count": 223,
   "metadata": {},
   "outputs": [
    {
     "data": {
      "text/html": [
       "<div>\n",
       "<style scoped>\n",
       "    .dataframe tbody tr th:only-of-type {\n",
       "        vertical-align: middle;\n",
       "    }\n",
       "\n",
       "    .dataframe tbody tr th {\n",
       "        vertical-align: top;\n",
       "    }\n",
       "\n",
       "    .dataframe thead th {\n",
       "        text-align: right;\n",
       "    }\n",
       "</style>\n",
       "<table border=\"1\" class=\"dataframe\">\n",
       "  <thead>\n",
       "    <tr style=\"text-align: right;\">\n",
       "      <th></th>\n",
       "      <th>new_line_chars</th>\n",
       "      <th>tab_chars</th>\n",
       "      <th>space_chars</th>\n",
       "      <th>zws_chars</th>\n",
       "    </tr>\n",
       "    <tr>\n",
       "      <th>subreddit</th>\n",
       "      <th></th>\n",
       "      <th></th>\n",
       "      <th></th>\n",
       "      <th></th>\n",
       "    </tr>\n",
       "  </thead>\n",
       "  <tbody>\n",
       "    <tr>\n",
       "      <th>OCPoetry</th>\n",
       "      <td>0.363354</td>\n",
       "      <td>0.000250</td>\n",
       "      <td>0.964146</td>\n",
       "      <td>0.014859</td>\n",
       "    </tr>\n",
       "    <tr>\n",
       "      <th>shortscarystories</th>\n",
       "      <td>0.074254</td>\n",
       "      <td>0.000096</td>\n",
       "      <td>0.968525</td>\n",
       "      <td>0.001395</td>\n",
       "    </tr>\n",
       "  </tbody>\n",
       "</table>\n",
       "</div>"
      ],
      "text/plain": [
       "                   new_line_chars  tab_chars  space_chars  zws_chars\n",
       "subreddit                                                           \n",
       "OCPoetry                 0.363354   0.000250     0.964146   0.014859\n",
       "shortscarystories        0.074254   0.000096     0.968525   0.001395"
      ]
     },
     "execution_count": 223,
     "metadata": {},
     "output_type": "execute_result"
    }
   ],
   "source": [
    "df_nlp.groupby('subreddit')[['new_line_chars', 'tab_chars', 'space_chars', 'zws_chars']].mean()"
   ]
  },
  {
   "cell_type": "markdown",
   "metadata": {},
   "source": [
    "#### Sentiment comparison"
   ]
  },
  {
   "cell_type": "markdown",
   "metadata": {},
   "source": [
    "Here subjectivity is measured on a scale of 0 to 1 with 0 objective and 1 subjective.\n",
    "Polarity is measured from -1 to 1 with 1 being positive and -1 negative.\n",
    "The mean scores are similar for each subreddit however, the standard deviation for the poetry scores are 50% larger.\n",
    "A transformation that might capture this relationship is the absolute deviation from the mean.\n",
    "The mean absolute deviation from the mean is also about 50% larger for both subjectivity and polarity in r/OCPoetry posts than in r/shortscarystories."
   ]
  },
  {
   "cell_type": "code",
   "execution_count": 224,
   "metadata": {},
   "outputs": [
    {
     "data": {
      "text/html": [
       "<div>\n",
       "<style scoped>\n",
       "    .dataframe tbody tr th:only-of-type {\n",
       "        vertical-align: middle;\n",
       "    }\n",
       "\n",
       "    .dataframe tbody tr th {\n",
       "        vertical-align: top;\n",
       "    }\n",
       "\n",
       "    .dataframe thead tr th {\n",
       "        text-align: left;\n",
       "    }\n",
       "\n",
       "    .dataframe thead tr:last-of-type th {\n",
       "        text-align: right;\n",
       "    }\n",
       "</style>\n",
       "<table border=\"1\" class=\"dataframe\">\n",
       "  <thead>\n",
       "    <tr>\n",
       "      <th></th>\n",
       "      <th colspan=\"3\" halign=\"left\">subjectivity</th>\n",
       "      <th colspan=\"3\" halign=\"left\">polarity</th>\n",
       "    </tr>\n",
       "    <tr>\n",
       "      <th></th>\n",
       "      <th>mean</th>\n",
       "      <th>std</th>\n",
       "      <th>mean abs dev</th>\n",
       "      <th>mean</th>\n",
       "      <th>std</th>\n",
       "      <th>mean abs dev</th>\n",
       "    </tr>\n",
       "    <tr>\n",
       "      <th>subreddit</th>\n",
       "      <th></th>\n",
       "      <th></th>\n",
       "      <th></th>\n",
       "      <th></th>\n",
       "      <th></th>\n",
       "      <th></th>\n",
       "    </tr>\n",
       "  </thead>\n",
       "  <tbody>\n",
       "    <tr>\n",
       "      <th>OCPoetry</th>\n",
       "      <td>0.497226</td>\n",
       "      <td>0.153985</td>\n",
       "      <td>0.111994</td>\n",
       "      <td>0.067162</td>\n",
       "      <td>0.171654</td>\n",
       "      <td>0.126957</td>\n",
       "    </tr>\n",
       "    <tr>\n",
       "      <th>shortscarystories</th>\n",
       "      <td>0.475852</td>\n",
       "      <td>0.103762</td>\n",
       "      <td>0.073624</td>\n",
       "      <td>0.036578</td>\n",
       "      <td>0.118344</td>\n",
       "      <td>0.084317</td>\n",
       "    </tr>\n",
       "  </tbody>\n",
       "</table>\n",
       "</div>"
      ],
      "text/plain": [
       "                  subjectivity                         polarity            \\\n",
       "                          mean       std mean abs dev      mean       std   \n",
       "subreddit                                                                   \n",
       "OCPoetry              0.497226  0.153985     0.111994  0.067162  0.171654   \n",
       "shortscarystories     0.475852  0.103762     0.073624  0.036578  0.118344   \n",
       "\n",
       "                                \n",
       "                  mean abs dev  \n",
       "subreddit                       \n",
       "OCPoetry              0.126957  \n",
       "shortscarystories     0.084317  "
      ]
     },
     "execution_count": 224,
     "metadata": {},
     "output_type": "execute_result"
    }
   ],
   "source": [
    "sentiments_comp = df_nlp.groupby('subreddit')[['subjectivity', 'polarity']].agg([np.mean, np.std, lambda x: np.abs(x - x.mean()).mean()])\n",
    "sentiments_comp.columns = sentiments_comp.columns.set_levels(['mean', 'std', 'mean abs dev'], level = 1)\n",
    "sentiments_comp"
   ]
  },
  {
   "cell_type": "code",
   "execution_count": 225,
   "metadata": {},
   "outputs": [],
   "source": [
    "df_nlp['subjectivity_abs_dev'] = np.abs(df_nlp['subjectivity'] - df_nlp['subjectivity'].mean())\n",
    "df_nlp['polarity_abs_dev'] = np.abs(df_nlp['polarity'] - df_nlp['polarity'].mean())"
   ]
  },
  {
   "cell_type": "markdown",
   "metadata": {},
   "source": [
    "#### Parts of Speech comparison"
   ]
  },
  {
   "cell_type": "markdown",
   "metadata": {},
   "source": [
    "The most commonly used parts of speech are (from the list at https://www.ling.upenn.edu/courses/Fall_2003/ling001/penn_treebank_pos.html)\n",
    "* NN: Noun, Singular or Mass\n",
    "* IN: Preposition or Subordinating Conunction \n",
    "* PRP: Personal Pronoun\n",
    "* DT: Determiner\n",
    "* JJ: Adjective"
   ]
  },
  {
   "cell_type": "code",
   "execution_count": 226,
   "metadata": {},
   "outputs": [
    {
     "data": {
      "text/plain": [
       "NN     0.164\n",
       "IN     0.104\n",
       "PRP    0.099\n",
       "DT     0.090\n",
       "JJ     0.069\n",
       "dtype: float64"
      ]
     },
     "execution_count": 226,
     "metadata": {},
     "output_type": "execute_result"
    }
   ],
   "source": [
    "df_pos.mean(axis = 0).sort_values(ascending = False).round(3).head()"
   ]
  },
  {
   "cell_type": "markdown",
   "metadata": {},
   "source": [
    "We can compare the categories by looking at the ratio of frequencies in the two subreddits."
   ]
  },
  {
   "cell_type": "code",
   "execution_count": 227,
   "metadata": {},
   "outputs": [],
   "source": [
    "df_pos_ = df_nlp.loc[:, 'CC':\"''\"].join(df_nlp['subreddit'])\n",
    "pos_comp = df_pos_.groupby('subreddit').mean()\n",
    "pos_comp_ratio = (pos_comp.loc['OCPoetry', :]/pos_comp.loc['shortscarystories', :]).sort_values()"
   ]
  },
  {
   "cell_type": "code",
   "execution_count": 228,
   "metadata": {},
   "outputs": [
    {
     "data": {
      "text/html": [
       "<div>\n",
       "<style scoped>\n",
       "    .dataframe tbody tr th:only-of-type {\n",
       "        vertical-align: middle;\n",
       "    }\n",
       "\n",
       "    .dataframe tbody tr th {\n",
       "        vertical-align: top;\n",
       "    }\n",
       "\n",
       "    .dataframe thead th {\n",
       "        text-align: right;\n",
       "    }\n",
       "</style>\n",
       "<table border=\"1\" class=\"dataframe\">\n",
       "  <thead>\n",
       "    <tr style=\"text-align: right;\">\n",
       "      <th></th>\n",
       "      <th>CC</th>\n",
       "      <th>CD</th>\n",
       "      <th>DT</th>\n",
       "      <th>EX</th>\n",
       "      <th>FW</th>\n",
       "      <th>IN</th>\n",
       "      <th>JJ</th>\n",
       "      <th>JJR</th>\n",
       "      <th>JJS</th>\n",
       "      <th>LS</th>\n",
       "      <th>...</th>\n",
       "      <th>WRB</th>\n",
       "      <th>.</th>\n",
       "      <th>,</th>\n",
       "      <th>:</th>\n",
       "      <th>(</th>\n",
       "      <th>)</th>\n",
       "      <th>$</th>\n",
       "      <th>``</th>\n",
       "      <th>#</th>\n",
       "      <th>''</th>\n",
       "    </tr>\n",
       "    <tr>\n",
       "      <th>subreddit</th>\n",
       "      <th></th>\n",
       "      <th></th>\n",
       "      <th></th>\n",
       "      <th></th>\n",
       "      <th></th>\n",
       "      <th></th>\n",
       "      <th></th>\n",
       "      <th></th>\n",
       "      <th></th>\n",
       "      <th></th>\n",
       "      <th></th>\n",
       "      <th></th>\n",
       "      <th></th>\n",
       "      <th></th>\n",
       "      <th></th>\n",
       "      <th></th>\n",
       "      <th></th>\n",
       "      <th></th>\n",
       "      <th></th>\n",
       "      <th></th>\n",
       "      <th></th>\n",
       "    </tr>\n",
       "  </thead>\n",
       "  <tbody>\n",
       "    <tr>\n",
       "      <th>OCPoetry</th>\n",
       "      <td>0.043704</td>\n",
       "      <td>0.006874</td>\n",
       "      <td>0.087438</td>\n",
       "      <td>0.001879</td>\n",
       "      <td>0.000575</td>\n",
       "      <td>0.104002</td>\n",
       "      <td>0.070880</td>\n",
       "      <td>0.002625</td>\n",
       "      <td>0.001600</td>\n",
       "      <td>9.088771e-07</td>\n",
       "      <td>...</td>\n",
       "      <td>0.007770</td>\n",
       "      <td>0.046866</td>\n",
       "      <td>0.049306</td>\n",
       "      <td>0.024112</td>\n",
       "      <td>0.001728</td>\n",
       "      <td>0.001915</td>\n",
       "      <td>0.000109</td>\n",
       "      <td>0.001351</td>\n",
       "      <td>0.000279</td>\n",
       "      <td>0.001594</td>\n",
       "    </tr>\n",
       "    <tr>\n",
       "      <th>shortscarystories</th>\n",
       "      <td>0.035972</td>\n",
       "      <td>0.008596</td>\n",
       "      <td>0.093114</td>\n",
       "      <td>0.002386</td>\n",
       "      <td>0.000335</td>\n",
       "      <td>0.103566</td>\n",
       "      <td>0.067813</td>\n",
       "      <td>0.002466</td>\n",
       "      <td>0.001703</td>\n",
       "      <td>7.658403e-07</td>\n",
       "      <td>...</td>\n",
       "      <td>0.007555</td>\n",
       "      <td>0.081699</td>\n",
       "      <td>0.049192</td>\n",
       "      <td>0.006825</td>\n",
       "      <td>0.000565</td>\n",
       "      <td>0.000624</td>\n",
       "      <td>0.000118</td>\n",
       "      <td>0.004253</td>\n",
       "      <td>0.000154</td>\n",
       "      <td>0.004944</td>\n",
       "    </tr>\n",
       "  </tbody>\n",
       "</table>\n",
       "<p>2 rows × 45 columns</p>\n",
       "</div>"
      ],
      "text/plain": [
       "                         CC        CD        DT        EX        FW        IN  \\\n",
       "subreddit                                                                       \n",
       "OCPoetry           0.043704  0.006874  0.087438  0.001879  0.000575  0.104002   \n",
       "shortscarystories  0.035972  0.008596  0.093114  0.002386  0.000335  0.103566   \n",
       "\n",
       "                         JJ       JJR       JJS            LS  ...       WRB  \\\n",
       "subreddit                                                      ...             \n",
       "OCPoetry           0.070880  0.002625  0.001600  9.088771e-07  ...  0.007770   \n",
       "shortscarystories  0.067813  0.002466  0.001703  7.658403e-07  ...  0.007555   \n",
       "\n",
       "                          .         ,         :         (         )         $  \\\n",
       "subreddit                                                                       \n",
       "OCPoetry           0.046866  0.049306  0.024112  0.001728  0.001915  0.000109   \n",
       "shortscarystories  0.081699  0.049192  0.006825  0.000565  0.000624  0.000118   \n",
       "\n",
       "                         ``         #        ''  \n",
       "subreddit                                        \n",
       "OCPoetry           0.001351  0.000279  0.001594  \n",
       "shortscarystories  0.004253  0.000154  0.004944  \n",
       "\n",
       "[2 rows x 45 columns]"
      ]
     },
     "execution_count": 228,
     "metadata": {},
     "output_type": "execute_result"
    }
   ],
   "source": [
    "pos_comp"
   ]
  },
  {
   "cell_type": "markdown",
   "metadata": {},
   "source": [
    "These categories were used more in r/shortscarystories:\n",
    "* `` - Backticks\n",
    "* '' - Quotation marks\n",
    "* VBD - Verb Past Tense\n",
    "* . - Sentence Ending Punctuation \n",
    "* UH - Interjection"
   ]
  },
  {
   "cell_type": "code",
   "execution_count": 229,
   "metadata": {},
   "outputs": [
    {
     "data": {
      "text/plain": [
       "``     0.317635\n",
       "''     0.322432\n",
       "VBD    0.422899\n",
       ".      0.573643\n",
       "RP     0.632289\n",
       "dtype: float64"
      ]
     },
     "execution_count": 229,
     "metadata": {},
     "output_type": "execute_result"
    }
   ],
   "source": [
    "pos_comp_ratio.head()"
   ]
  },
  {
   "cell_type": "markdown",
   "metadata": {},
   "source": [
    "And these categories are more common in r/OCPoetry\n",
    "* : - colon\n",
    "* ( and ) - parentheses\n",
    "* SYM - Synbol\n",
    "* WP$ - Posessive wh-pronoun"
   ]
  },
  {
   "cell_type": "code",
   "execution_count": 230,
   "metadata": {},
   "outputs": [
    {
     "data": {
      "text/plain": [
       ":      3.532794\n",
       ")      3.071356\n",
       "(      3.057303\n",
       "SYM    1.970609\n",
       "WP$    1.947368\n",
       "dtype: float64"
      ]
     },
     "execution_count": 230,
     "metadata": {},
     "output_type": "execute_result"
    }
   ],
   "source": [
    "pos_comp_ratio.tail()[::-1]"
   ]
  },
  {
   "cell_type": "markdown",
   "metadata": {},
   "source": [
    "### Save final dataset"
   ]
  },
  {
   "cell_type": "code",
   "execution_count": 236,
   "metadata": {},
   "outputs": [
    {
     "data": {
      "text/plain": [
       "Index(['index', 'title', 'text', 'auth', 'time', 'subreddit', 'new_line_chars',\n",
       "       'tab_chars', 'space_chars', 'zws_chars', 'title_words', 'text_words',\n",
       "       'word_count', 'title_text', 'CC', 'CD', 'DT', 'EX', 'FW', 'IN', 'JJ',\n",
       "       'JJR', 'JJS', 'LS', 'MD', 'NN', 'NNS', 'NNP', 'NNPS', 'PDT', 'POS',\n",
       "       'PRP', 'PRP$', 'RB', 'RBR', 'RBS', 'RP', 'SYM', 'TO', 'UH', 'VB', 'VBD',\n",
       "       'VBG', 'VBN', 'VBP', 'VBZ', 'WDT', 'WP', 'WP$', 'WRB', '.', ',', ':',\n",
       "       '(', ')', '$', '``', '#', '''', 'polarity', 'subjectivity',\n",
       "       'subjectivity_abs_dev', 'polarity_abs_dev'],\n",
       "      dtype='object')"
      ]
     },
     "execution_count": 236,
     "metadata": {},
     "output_type": "execute_result"
    }
   ],
   "source": [
    "df_nlp.columns"
   ]
  },
  {
   "cell_type": "markdown",
   "metadata": {},
   "source": [
    "Drop the old index column."
   ]
  },
  {
   "cell_type": "code",
   "execution_count": 237,
   "metadata": {},
   "outputs": [
    {
     "data": {
      "text/plain": [
       "0            0\n",
       "1            1\n",
       "2            2\n",
       "3            3\n",
       "4            5\n",
       "         ...  \n",
       "56564    58587\n",
       "56565    58588\n",
       "56566    58589\n",
       "56567    58590\n",
       "56568    58591\n",
       "Name: index, Length: 56569, dtype: int64"
      ]
     },
     "execution_count": 237,
     "metadata": {},
     "output_type": "execute_result"
    }
   ],
   "source": [
    "df_nlp['index']"
   ]
  },
  {
   "cell_type": "code",
   "execution_count": 238,
   "metadata": {},
   "outputs": [],
   "source": [
    "df_nlp.drop(columns = 'index', inplace = True)"
   ]
  },
  {
   "cell_type": "code",
   "execution_count": 239,
   "metadata": {},
   "outputs": [],
   "source": [
    "df_nlp.to_csv('data/data_cleaned.csv', index = False)"
   ]
  },
  {
   "cell_type": "code",
   "execution_count": null,
   "metadata": {},
   "outputs": [],
   "source": []
  }
 ],
 "metadata": {
  "interpreter": {
   "hash": "9212599b6527739aacc5bcb356ff64f10af8be4731f2141d8d60dd08601fabb0"
  },
  "kernelspec": {
   "display_name": "Python 3.9.7 64-bit ('base': conda)",
   "language": "python",
   "name": "python3"
  },
  "language_info": {
   "codemirror_mode": {
    "name": "ipython",
    "version": 3
   },
   "file_extension": ".py",
   "mimetype": "text/x-python",
   "name": "python",
   "nbconvert_exporter": "python",
   "pygments_lexer": "ipython3",
   "version": "3.9.7"
  },
  "orig_nbformat": 4
 },
 "nbformat": 4,
 "nbformat_minor": 2
}
